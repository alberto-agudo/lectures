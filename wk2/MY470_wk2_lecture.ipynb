{
 "cells": [
  {
   "cell_type": "markdown",
   "metadata": {
    "slideshow": {
     "slide_type": "slide"
    }
   },
   "source": [
    "### MY470 Computer Programming\n",
    "# Data Types in Python\n",
    "### Week 2 Lecture"
   ]
  },
  {
   "cell_type": "markdown",
   "metadata": {
    "slideshow": {
     "slide_type": "slide"
    }
   },
   "source": [
    "## Overview\n",
    "\n",
    "* About Python\n",
    "* Scalars: `int`, `float`, `bool`, `None`\n",
    "    * Operators: arithmetic, boolean, comparison, assignment, membership\n",
    "* Non-scalars: `list`, `tuple`, `str`, `set`, `dict`\n",
    "    * Methods\n",
    "    * Ordered vs. unordered non-scalars       \n",
    "    * Mutable vs. immutable non-scalars\n"
   ]
  },
  {
   "cell_type": "markdown",
   "metadata": {
    "slideshow": {
     "slide_type": "slide"
    }
   },
   "source": [
    "![Python on xkcd](figs/xkcd.png \"Python on xkcd\")\n",
    "\n",
    "   Source: http://xkcd.com/353/"
   ]
  },
  {
   "cell_type": "markdown",
   "metadata": {
    "slideshow": {
     "slide_type": "slide"
    }
   },
   "source": [
    "## Why Python?\n",
    "\n",
    "![Python](figs/python.png \"Python\")\n",
    "\n",
    "* Open-source – free and well-documented. The reason for this is that there is a huge community using Python that can contribute to your work (precisely because it is open-source). \n",
    "* Simple and concise syntax\n",
    "* Many useful libraries\n",
    "* Cross-platform (Linux, Mac and Windows)\n",
    "* [Widely used in industry and science](https://youtu.be/cKzP61Gjf00)"
   ]
  },
  {
   "cell_type": "markdown",
   "metadata": {
    "slideshow": {
     "slide_type": "slide"
    }
   },
   "source": [
    "## Python vs. Java: Syntax"
   ]
  },
  {
   "cell_type": "markdown",
   "metadata": {
    "slideshow": {
     "slide_type": "-"
    }
   },
   "source": [
    "* Python"
   ]
  },
  {
   "cell_type": "code",
   "execution_count": 1,
   "metadata": {
    "slideshow": {
     "slide_type": "-"
    }
   },
   "outputs": [
    {
     "name": "stdout",
     "output_type": "stream",
     "text": [
      "Hello world!\n"
     ]
    }
   ],
   "source": [
    "print('Hello world!')"
   ]
  },
  {
   "cell_type": "markdown",
   "metadata": {
    "slideshow": {
     "slide_type": "fragment"
    }
   },
   "source": [
    "* Java\n",
    "\n",
    "First you have to declare a method within the class, and then choose what you want to make inside of this class. Hence, this shows how the syntax of Python is more straight-forward\n",
    "\n",
    "```public class HelloWorld\n",
    "{\n",
    "    public static void main (String[] args)\n",
    "    {\n",
    "        System.out.println(\"Hello world!\");\n",
    "    }\n",
    "}```"
   ]
  },
  {
   "cell_type": "markdown",
   "metadata": {
    "slideshow": {
     "slide_type": "slide"
    }
   },
   "source": [
    "## Python vs. C, Matlab, R, and Julia: Speed\n",
    "\n",
    "| Task     | Python |    C   | Matlab  |    R   | Julia   \n",
    "| :------- |:------:|:------:| :------:|:------:|:--------:\n",
    "| Loops    | 61.97  |   0.55 |    6.80 | 744.93 |  0.34\n",
    "| Matrix multiplication | 0.95 |   -    |    0.90 | 11.46  |  1.09\n",
    "| Open files and plot data  | 1399 |   - |    1678 |   2220 |  1317\n",
    "| Metropolis-Hastings algorithm | 0.08 | 4.30 | 0.99 | 28.63 |  0.73\n",
    "\n",
    "\n",
    "Source: https://modelingguru.nasa.gov/docs/DOC-2625\n"
   ]
  },
  {
   "cell_type": "markdown",
   "metadata": {},
   "source": [
    "How do you perform the same operations in the same languages. \n",
    "Python is faster than R."
   ]
  },
  {
   "cell_type": "markdown",
   "metadata": {
    "slideshow": {
     "slide_type": "slide"
    }
   },
   "source": [
    "## A Brief History of Python\n",
    "\n",
    "![Guido van Rossum](figs/van_rossum_2006.jpg \"Guido van Rossum\")\n",
    "\n",
    "* Started in December 1989 by Guido van Rossum, BDFL (Benevolent Dictator for Life). He is still involved in the development of the language\n",
    "* Python 2.0 released in 2000; this was when it really started taking off. \n",
    "* Python 3.0, which is backward-incompatible, released in 2008\n",
    "* End of Life date for Python 2.7 was January 1st, 2020"
   ]
  },
  {
   "cell_type": "markdown",
   "metadata": {},
   "source": [
    "----"
   ]
  },
  {
   "cell_type": "markdown",
   "metadata": {
    "jp-MarkdownHeadingCollapsed": true,
    "slideshow": {
     "slide_type": "slide"
    },
    "tags": []
   },
   "source": [
    "## From Last Week: Objects, Data Types, and Expressions\n",
    "\n",
    "* Computer programs manipulate objects\n",
    "* An object is a data unit that is stored in the memory of the computer. \n",
    "* Objects have types\n",
    "  * Scalar — indivisible\n",
    "  * Non-scalar — with internal structure\n",
    "* Expressions combine objects and operators"
   ]
  },
  {
   "cell_type": "markdown",
   "metadata": {
    "slideshow": {
     "slide_type": "slide"
    }
   },
   "source": [
    "## Scalar Data Types\n",
    "\n",
    "* Integer\n",
    "* Float\n",
    "* Boolean\n",
    "* NoneType\n",
    "* (String is non-scalar in Python). A string of one character is a character type in some languages. But in Python one or more characters are always strings. Hence, non-scalars."
   ]
  },
  {
   "cell_type": "code",
   "execution_count": 1,
   "metadata": {
    "slideshow": {
     "slide_type": "-"
    }
   },
   "outputs": [
    {
     "name": "stdout",
     "output_type": "stream",
     "text": [
      "<class 'int'>\n",
      "<class 'float'>\n",
      "<class 'bool'>\n",
      "<class 'NoneType'>\n",
      "<class 'str'>\n"
     ]
    }
   ],
   "source": [
    "print(type(2))\n",
    "print(type(1.125))\n",
    "print(type(True))\n",
    "print(type(None))\n",
    "print(type('a'))"
   ]
  },
  {
   "cell_type": "markdown",
   "metadata": {
    "slideshow": {
     "slide_type": "slide"
    }
   },
   "source": [
    "## Converting between Scalar Data Types\n",
    "\n",
    "* Use the name of a type to convert values to that type"
   ]
  },
  {
   "cell_type": "code",
   "execution_count": 2,
   "metadata": {},
   "outputs": [
    {
     "data": {
      "text/plain": [
       "3"
      ]
     },
     "execution_count": 2,
     "metadata": {},
     "output_type": "execute_result"
    }
   ],
   "source": [
    "int(3.9)"
   ]
  },
  {
   "cell_type": "markdown",
   "metadata": {},
   "source": [
    "It only takes the integer part."
   ]
  },
  {
   "cell_type": "code",
   "execution_count": 6,
   "metadata": {
    "slideshow": {
     "slide_type": "-"
    }
   },
   "outputs": [
    {
     "name": "stdout",
     "output_type": "stream",
     "text": [
      "123.0 32\n"
     ]
    }
   ],
   "source": [
    "a = float(123)\n",
    "b = int('32')\n",
    "print(a, b)"
   ]
  },
  {
   "cell_type": "markdown",
   "metadata": {
    "jp-MarkdownHeadingCollapsed": true,
    "slideshow": {
     "slide_type": "slide"
    },
    "tags": []
   },
   "source": [
    "## Operators\n",
    "\n",
    "\n",
    "* Arithmetic\n",
    "* Boolean\n",
    "* Comparison\n",
    "* Assignment\n",
    "* Membership"
   ]
  },
  {
   "cell_type": "markdown",
   "metadata": {
    "slideshow": {
     "slide_type": "slide"
    }
   },
   "source": [
    "## Arithmetic Operators\n",
    "\n",
    "* `+` &nbsp;&nbsp; addition\n",
    "* `-` &nbsp;&nbsp; subtraction\n",
    "* `*` &nbsp;&nbsp; multiplication\n",
    "* `/` &nbsp;&nbsp; division\n",
    "* `%` &nbsp;&nbsp; modulus: That gives the remainder of a division.\n",
    "* `//` &nbsp;&nbsp; floor division. That gives the whole part of a division. \n",
    "* `**` &nbsp;&nbsp; exponent (In R you can use \" ^ \" for this)"
   ]
  },
  {
   "cell_type": "code",
   "execution_count": 9,
   "metadata": {},
   "outputs": [
    {
     "data": {
      "text/plain": [
       "6.142857142857143"
      ]
     },
     "execution_count": 9,
     "metadata": {},
     "output_type": "execute_result"
    }
   ],
   "source": [
    "43/7"
   ]
  },
  {
   "cell_type": "code",
   "execution_count": 10,
   "metadata": {},
   "outputs": [
    {
     "data": {
      "text/plain": [
       "6"
      ]
     },
     "execution_count": 10,
     "metadata": {},
     "output_type": "execute_result"
    }
   ],
   "source": [
    "43//7"
   ]
  },
  {
   "cell_type": "code",
   "execution_count": 11,
   "metadata": {},
   "outputs": [
    {
     "data": {
      "text/plain": [
       "1"
      ]
     },
     "execution_count": 11,
     "metadata": {},
     "output_type": "execute_result"
    }
   ],
   "source": [
    "43%7"
   ]
  },
  {
   "cell_type": "code",
   "execution_count": 12,
   "metadata": {},
   "outputs": [
    {
     "data": {
      "text/plain": [
       "True"
      ]
     },
     "execution_count": 12,
     "metadata": {},
     "output_type": "execute_result"
    }
   ],
   "source": [
    "43/7==(43//7)+(43%7)/7"
   ]
  },
  {
   "cell_type": "code",
   "execution_count": 14,
   "metadata": {
    "slideshow": {
     "slide_type": "-"
    }
   },
   "outputs": [
    {
     "name": "stdout",
     "output_type": "stream",
     "text": [
      "4\n",
      "abc\n",
      "6\n",
      "aaah!\n"
     ]
    }
   ],
   "source": [
    "# + and * have different meanings depending on the types of objects with which they are used\n",
    "#here you are adding two numbers\n",
    "print(2 + 2) \n",
    "\n",
    "#but here you concatenate strings\n",
    "print('a' + 'bc')\n",
    "print(3*2)\n",
    "#also if you multiply a string you concatenate it n times\n",
    "print(3*'a' + 'h!')"
   ]
  },
  {
   "cell_type": "markdown",
   "metadata": {
    "slideshow": {
     "slide_type": "slide"
    }
   },
   "source": [
    "## Boolean Operators\n",
    "\n",
    "* `and`\n",
    "* `or`\n",
    "* `not`"
   ]
  },
  {
   "cell_type": "code",
   "execution_count": 8,
   "metadata": {
    "slideshow": {
     "slide_type": "-"
    }
   },
   "outputs": [
    {
     "name": "stdout",
     "output_type": "stream",
     "text": [
      "False\n",
      "True\n",
      "True\n"
     ]
    }
   ],
   "source": [
    "print(True and False)\n",
    "print(True or False)\n",
    "print(not False)"
   ]
  },
  {
   "cell_type": "markdown",
   "metadata": {
    "slideshow": {
     "slide_type": "slide"
    }
   },
   "source": [
    "## Comparison Operators\n",
    "\n",
    "* `==` &nbsp;&nbsp; equals\n",
    "* `!=` &nbsp;&nbsp; does not equal\n",
    "* `>` &nbsp;&nbsp; is greater than\n",
    "* `<=` &nbsp;&nbsp; is less than or equal, etc."
   ]
  },
  {
   "cell_type": "markdown",
   "metadata": {
    "slideshow": {
     "slide_type": "slide"
    },
    "tags": []
   },
   "source": [
    "## Assignment Operators\n",
    "\n",
    "* `=` &nbsp;&nbsp; assign right operand to left operand\n",
    "* `+=` &nbsp;&nbsp; add right operand to left operand and assign to left operand\n",
    "* `-=` &nbsp;&nbsp; subtract right operand from left operand and assign to left operand, etc."
   ]
  },
  {
   "cell_type": "code",
   "execution_count": 16,
   "metadata": {},
   "outputs": [
    {
     "name": "stdout",
     "output_type": "stream",
     "text": [
      "5\n",
      "9\n",
      "6\n"
     ]
    }
   ],
   "source": [
    "a = 5\n",
    "print(a)\n",
    "a += 4\n",
    "print(a)\n",
    "a -= 3\n",
    "print(a)"
   ]
  },
  {
   "cell_type": "code",
   "execution_count": 2,
   "metadata": {
    "slideshow": {
     "slide_type": "-"
    }
   },
   "outputs": [
    {
     "name": "stdout",
     "output_type": "stream",
     "text": [
      "5\n"
     ]
    }
   ],
   "source": [
    "a = 2\n",
    "a += 3 # Equivalent to a = a + 3\n",
    "print(a)"
   ]
  },
  {
   "cell_type": "markdown",
   "metadata": {
    "slideshow": {
     "slide_type": "slide"
    },
    "tags": []
   },
   "source": [
    "## Comparison vs. Assignment Operators\n"
   ]
  },
  {
   "cell_type": "markdown",
   "metadata": {},
   "source": [
    "== Gives us boolean values (either True or False), while = assigns values."
   ]
  },
  {
   "cell_type": "code",
   "execution_count": 17,
   "metadata": {},
   "outputs": [
    {
     "data": {
      "text/plain": [
       "False"
      ]
     },
     "execution_count": 17,
     "metadata": {},
     "output_type": "execute_result"
    }
   ],
   "source": [
    "a=6\n",
    "a==5"
   ]
  },
  {
   "cell_type": "code",
   "execution_count": 9,
   "metadata": {
    "slideshow": {
     "slide_type": "-"
    }
   },
   "outputs": [
    {
     "name": "stdout",
     "output_type": "stream",
     "text": [
      "False\n",
      "5\n"
     ]
    }
   ],
   "source": [
    "a = 2 # This is assignment\n",
    "print(a == 1) # This is test for equality. It returns bool."
   ]
  },
  {
   "cell_type": "markdown",
   "metadata": {
    "slideshow": {
     "slide_type": "slide"
    },
    "tags": []
   },
   "source": [
    "## Membership Operators\n",
    "\n",
    "* `in` &nbsp;&nbsp; left element is in right sequence\n",
    "  "
   ]
  },
  {
   "cell_type": "code",
   "execution_count": 19,
   "metadata": {},
   "outputs": [
    {
     "data": {
      "text/plain": [
       "True"
      ]
     },
     "execution_count": 19,
     "metadata": {},
     "output_type": "execute_result"
    }
   ],
   "source": [
    "'a' in 'abc'"
   ]
  },
  {
   "cell_type": "code",
   "execution_count": 5,
   "metadata": {
    "slideshow": {
     "slide_type": "-"
    }
   },
   "outputs": [
    {
     "name": "stdout",
     "output_type": "stream",
     "text": [
      "True\n"
     ]
    }
   ],
   "source": [
    "print('x' not in 'abcdefg')"
   ]
  },
  {
   "cell_type": "markdown",
   "metadata": {
    "slideshow": {
     "slide_type": "slide"
    },
    "tags": []
   },
   "source": [
    "## Non-Scalar Data Types\n",
    "\n",
    "* List – a mutable ordered sequence of values\n",
    "* Tuple – an immutable ordered sequence of values\n",
    "* String – an immutable ordered sequence of characters\n",
    "* Set – a mutable unordered collection of unique values\n",
    "* Dictionary – a mutable, unordered set of key/value pairs"
   ]
  },
  {
   "cell_type": "code",
   "execution_count": 24,
   "metadata": {},
   "outputs": [
    {
     "data": {
      "text/plain": [
       "{'Alberto': 1, 'Milena': 35}"
      ]
     },
     "execution_count": 24,
     "metadata": {},
     "output_type": "execute_result"
    }
   ],
   "source": [
    "#list: It is mutable, it is ordered.\n",
    "[3,'any',True,3.5]\n",
    "\n",
    "#tuple: It is immutable, it is ordered.\n",
    "(3,'any',True)\n",
    "\n",
    "#set: It is mutable, it is unordered, and the values shown are unique.\n",
    "tup_le = (3, 5, 7, 9, 5, 'abc')\n",
    "set(tup_le)\n",
    "\n",
    "#dictionary. Mutable and unordered:\n",
    "{'Alberto':1,'Milena': 35}"
   ]
  },
  {
   "cell_type": "markdown",
   "metadata": {},
   "source": [
    "A one-character string is also a non-scalar data type? Yes, it is."
   ]
  },
  {
   "cell_type": "code",
   "execution_count": 7,
   "metadata": {
    "slideshow": {
     "slide_type": "-"
    }
   },
   "outputs": [
    {
     "name": "stdout",
     "output_type": "stream",
     "text": [
      "[1, 2, 2, 'a', 'a'] {'b', 1, 2, 'a'}\n"
     ]
    }
   ],
   "source": [
    "list_var = [1, 2, 2, 'a', 'a'] # list\n",
    "tuple_var = (1, 2, 'a', 'b') # tuple\n",
    "set_var = {1, 2, 2, 'a', 'b'} # set \n",
    "dict_var = {1: 'a', 2: 'b', 3: 'c'} # dictionary\n",
    "print(list_var, set_var)"
   ]
  },
  {
   "cell_type": "markdown",
   "metadata": {
    "slideshow": {
     "slide_type": "slide"
    },
    "tags": []
   },
   "source": [
    "## Converting between Non-Scalar Data Types\n",
    "\n",
    "* Use the name of a type to convert values to that type"
   ]
  },
  {
   "cell_type": "markdown",
   "metadata": {},
   "source": [
    "Creating a tuple out of a list"
   ]
  },
  {
   "cell_type": "code",
   "execution_count": 26,
   "metadata": {},
   "outputs": [
    {
     "name": "stdout",
     "output_type": "stream",
     "text": [
      "('3', 3) is a <class 'tuple'>\n"
     ]
    }
   ],
   "source": [
    "ls = ['3', 3]\n",
    "tp= tuple(ls)\n",
    "print(tp,\"is a\",type(tp))"
   ]
  },
  {
   "cell_type": "markdown",
   "metadata": {},
   "source": [
    "**Creating a dictionary out of a list of tuples**"
   ]
  },
  {
   "cell_type": "code",
   "execution_count": 27,
   "metadata": {},
   "outputs": [
    {
     "data": {
      "text/plain": [
       "{'Alberto': 1, 'Milena': 35}"
      ]
     },
     "execution_count": 27,
     "metadata": {},
     "output_type": "execute_result"
    }
   ],
   "source": [
    "dict([('Alberto',1),('Milena',35)])"
   ]
  },
  {
   "cell_type": "code",
   "execution_count": 12,
   "metadata": {
    "slideshow": {
     "slide_type": "-"
    }
   },
   "outputs": [
    {
     "name": "stdout",
     "output_type": "stream",
     "text": [
      "(1, 2, 3) {1: 'a', 2: 'b', 3: 'c'}\n"
     ]
    }
   ],
   "source": [
    "tup = tuple([1, 2, 3]) \n",
    "dic = dict( [(1, 'a'), (2, 'b'), (3, 'c')] )\n",
    "print(tup, dic)"
   ]
  },
  {
   "cell_type": "markdown",
   "metadata": {
    "slideshow": {
     "slide_type": "slide"
    }
   },
   "source": [
    "## Length of Non-Scalar Objects\n",
    "\n",
    "* The `len()` function returns the length of the element"
   ]
  },
  {
   "cell_type": "code",
   "execution_count": 28,
   "metadata": {},
   "outputs": [
    {
     "data": {
      "text/plain": [
       "5"
      ]
     },
     "execution_count": 28,
     "metadata": {},
     "output_type": "execute_result"
    }
   ],
   "source": [
    "len('abcde')"
   ]
  },
  {
   "cell_type": "code",
   "execution_count": 29,
   "metadata": {},
   "outputs": [
    {
     "data": {
      "text/plain": [
       "4"
      ]
     },
     "execution_count": 29,
     "metadata": {},
     "output_type": "execute_result"
    }
   ],
   "source": [
    "len(['a',45,4.5,True])"
   ]
  },
  {
   "cell_type": "code",
   "execution_count": 30,
   "metadata": {},
   "outputs": [
    {
     "data": {
      "text/plain": [
       "2"
      ]
     },
     "execution_count": 30,
     "metadata": {},
     "output_type": "execute_result"
    }
   ],
   "source": [
    "len({'a':1,'b':3})"
   ]
  },
  {
   "cell_type": "markdown",
   "metadata": {},
   "source": [
    "In a dictionary, len() outputs the number of keys."
   ]
  },
  {
   "cell_type": "code",
   "execution_count": 13,
   "metadata": {
    "slideshow": {
     "slide_type": "-"
    }
   },
   "outputs": [
    {
     "name": "stdout",
     "output_type": "stream",
     "text": [
      "3\n",
      "2\n",
      "5\n",
      "2\n"
     ]
    }
   ],
   "source": [
    "print( len( [0, 1, 2] ) )\n",
    "print( len('ab') )\n",
    "print( len( (1, 2, 3, 4, 'a') ) )\n",
    "print( len( {1:'a', 2:'b'} ) )"
   ]
  },
  {
   "cell_type": "markdown",
   "metadata": {
    "slideshow": {
     "slide_type": "slide"
    },
    "tags": []
   },
   "source": [
    "## Non-Scalar Data Types: Exercise"
   ]
  },
  {
   "cell_type": "code",
   "execution_count": 128,
   "metadata": {},
   "outputs": [
    {
     "name": "stdout",
     "output_type": "stream",
     "text": [
      "There are 26 unique letters in the string\n"
     ]
    }
   ],
   "source": [
    "# Use len() to count the number of unique letters in the string below\n",
    "\n",
    "s = 'jackie will budget for the most expensive zoology equipment'\n",
    "\n",
    "# Short answer:\n",
    "# Since the set only stores unique values, it can be used to identify unique letters.\n",
    "# We substract the whitespace from the set.\n",
    "\n",
    "news = set(s) - set(' ')\n",
    "print(\"There are\",len(news), \"unique letters in the string\")"
   ]
  },
  {
   "cell_type": "markdown",
   "metadata": {
    "slideshow": {
     "slide_type": "slide"
    },
    "tags": []
   },
   "source": [
    "## Strings\n",
    "\n",
    "* You can write string literals in different ways\n",
    "  * Single quotes: `'allows embedded \"double\" quotes'`\n",
    "  * Double quotes: `\"allows embedded 'single' quotes\"`\n",
    "  * Triple quoted: `'''Three single quotes'''`, `\"\"\"Three double quotes\"\"\"`\n",
    "\n",
    "\n",
    "Triple quotes also allow for newline whitespace and are not cut because of this."
   ]
  },
  {
   "cell_type": "code",
   "execution_count": 14,
   "metadata": {
    "slideshow": {
     "slide_type": "-"
    }
   },
   "outputs": [
    {
     "data": {
      "text/plain": [
       "'Triple quoted strings may span multiple lines - \\nall associated whitespace will be included \\nin the string literal.'"
      ]
     },
     "execution_count": 14,
     "metadata": {},
     "output_type": "execute_result"
    }
   ],
   "source": [
    "'''Triple quoted strings may span multiple lines - \n",
    "all associated whitespace will be included \n",
    "in the string literal.'''"
   ]
  },
  {
   "cell_type": "markdown",
   "metadata": {
    "slideshow": {
     "slide_type": "fragment"
    }
   },
   "source": [
    "* Strings implement all of the common sequence operations we will shortly discuss, along with some additional methods: http://docs.python.org/3/library/stdtypes.html#string-methods"
   ]
  },
  {
   "cell_type": "markdown",
   "metadata": {
    "slideshow": {
     "slide_type": "slide"
    },
    "tags": []
   },
   "source": [
    "## Objects Have Methods Associated with Them\n",
    "\n",
    "### `object.method()`\n",
    "\n",
    "Use the period `.` to link the method to the object."
   ]
  },
  {
   "cell_type": "code",
   "execution_count": 60,
   "metadata": {},
   "outputs": [
    {
     "data": {
      "text/plain": [
       "'HELLO!'"
      ]
     },
     "execution_count": 60,
     "metadata": {},
     "output_type": "execute_result"
    }
   ],
   "source": [
    "greet = \"Hello!\"\n",
    "\n",
    "#You can use that object and apply operators\n",
    "greet + '?'\n",
    "\n",
    "#You can also apply a function to an object\n",
    "len(greet)\n",
    "\n",
    "#You can also use the method of an object\n",
    "greet_upper = greet.upper()\n",
    "greet_upper"
   ]
  },
  {
   "cell_type": "code",
   "execution_count": 11,
   "metadata": {
    "slideshow": {
     "slide_type": "-"
    }
   },
   "outputs": [
    {
     "data": {
      "text/plain": [
       "'HELLO'"
      ]
     },
     "execution_count": 11,
     "metadata": {},
     "output_type": "execute_result"
    }
   ],
   "source": [
    "string1 = 'Hello'\n",
    "\n",
    "string1 + '!'   # This is an operator. Operators combine objects in expressions.\n",
    "len(string1)   # This is a function. Functions take objects as arguments.\n",
    "string1.upper()   # This is a method. Methods are attached to objects."
   ]
  },
  {
   "cell_type": "markdown",
   "metadata": {
    "slideshow": {
     "slide_type": "slide"
    },
    "tags": []
   },
   "source": [
    "## String Methods: Formatting\n",
    "\n",
    "* `S.upper()` – change to upper case\n",
    "* `S.lower()` – change to lower case\n",
    "* `S.capitalize()` – capitalize the first word\n",
    "* `S.find(S1)` – return the index of the first instance of input"
   ]
  },
  {
   "cell_type": "code",
   "execution_count": 129,
   "metadata": {},
   "outputs": [
    {
     "name": "stdout",
     "output_type": "stream",
     "text": [
      "Make this into sentence case\n"
     ]
    },
    {
     "data": {
      "text/plain": [
       "10"
      ]
     },
     "execution_count": 129,
     "metadata": {},
     "output_type": "execute_result"
    }
   ],
   "source": [
    "#Capitalize the first word\n",
    "print('make this into sentence case'.capitalize())\n",
    "\n",
    "#Returns the index of the first instance of an input\n",
    "'make this into sentence case'.find('into')"
   ]
  },
  {
   "cell_type": "code",
   "execution_count": 15,
   "metadata": {
    "slideshow": {
     "slide_type": "-"
    }
   },
   "outputs": [
    {
     "name": "stdout",
     "output_type": "stream",
     "text": [
      "MAKE ME SCREAM!\n",
      "Make this into a proper sentence.\n",
      "1\n"
     ]
    }
   ],
   "source": [
    "print('Make me scream!'.upper())\n",
    "x = 'make this into a proper sentence'\n",
    "print(x.capitalize() + '.')\n",
    "\n",
    "print('Find the first \"i\" in this sentence.'.find('i'))"
   ]
  },
  {
   "cell_type": "markdown",
   "metadata": {
    "slideshow": {
     "slide_type": "slide"
    },
    "tags": []
   },
   "source": [
    "## String Methods: `strip` and `replace`\n",
    "\n",
    "* `S.replace(S1, S2)` – find all instances of S1 and change to S2\n",
    "* `S.strip(S1)` – remove whitespace characters from the beginning and end of a string (useful when reading in from a file)"
   ]
  },
  {
   "cell_type": "code",
   "execution_count": null,
   "metadata": {},
   "outputs": [
    {
     "name": "stdout",
     "output_type": "stream",
     "text": [
      " ThiS iS a long Sentence that we will uSe aS an example.\n",
      "\n",
      "This is a long sentence that we will use as an example.\n",
      "Thisisalongsentencethatwewilluseasanexample.\n",
      "\n"
     ]
    }
   ],
   "source": [
    "x = ' This is a long sentence that we will use as an example.\\n'\n",
    "print(x.replace('s', 'S'))\n",
    "print(x.strip())\n",
    "print(x.replace(' ', ''))"
   ]
  },
  {
   "cell_type": "markdown",
   "metadata": {
    "slideshow": {
     "slide_type": "slide"
    },
    "tags": []
   },
   "source": [
    "## String Methods: `split` and `join`\n",
    "\n",
    "These methods help you move between a string and a list\n",
    "\n",
    "* `S.split(S1)` – split the string into a list\n",
    "* `S.join(L)` – combine the input sequence into a single string"
   ]
  },
  {
   "cell_type": "code",
   "execution_count": 76,
   "metadata": {},
   "outputs": [
    {
     "name": "stdout",
     "output_type": "stream",
     "text": [
      "['this', 'is', 'a', 'collection', 'of', 'words', 'i', 'would', 'like', 'to', 'break', 'it', 'into', 'tokens']\n"
     ]
    },
    {
     "data": {
      "text/plain": [
       "'this is a collection of words i would like to break it into tokens'"
      ]
     },
     "execution_count": 76,
     "metadata": {},
     "output_type": "execute_result"
    }
   ],
   "source": [
    "x = 'this is a collection of words i would like to break it into tokens'\n",
    "newx = x.split()\n",
    "print(newx)\n",
    "\n",
    "# to join the information you need to use a string that will separate each element of the list and the list as an input\n",
    "' '.join(newx) "
   ]
  },
  {
   "cell_type": "code",
   "execution_count": 17,
   "metadata": {
    "slideshow": {
     "slide_type": "-"
    }
   },
   "outputs": [
    {
     "name": "stdout",
     "output_type": "stream",
     "text": [
      "['this', 'is', 'a', 'collection', 'of', 'words', 'i', 'would', 'like', 'to', 'break', 'it', 'into', 'tokens']\n",
      "['this is a c', 'llecti', 'n ', 'f w', 'rds i w', 'uld like t', ' break it int', ' t', 'kens']\n",
      "this-is-a-collection-of-words-i-would-like-to-break-it-into-tokens\n"
     ]
    }
   ],
   "source": [
    "x = 'this is a collection of words i would like to break it into tokens'\n",
    "y = x.split()    # default is to split on ' '\n",
    "print(y)\n",
    "print(x.split('o')) \n",
    "\n",
    "x_new = '-'.join(y)\n",
    "print(x_new)"
   ]
  },
  {
   "cell_type": "markdown",
   "metadata": {
    "slideshow": {
     "slide_type": "slide"
    }
   },
   "source": [
    "## String Methods: Exercise"
   ]
  },
  {
   "cell_type": "code",
   "execution_count": 130,
   "metadata": {},
   "outputs": [
    {
     "data": {
      "text/plain": [
       "'This sentence needs better formatting!'"
      ]
     },
     "execution_count": 130,
     "metadata": {},
     "output_type": "execute_result"
    }
   ],
   "source": [
    "# Use string methods to create a properly formatted sentence\n",
    "# from the words below:\n",
    "\n",
    "ls = [' ThiS', 'SenTence', 'NEEDS', 'bEttEr!', 'foRmatting']\n",
    "\n",
    "#joining the sentence into the string\n",
    "string = ' '.join(ls)\n",
    "\n",
    "#cleaning the whitespace and strange characters\n",
    "string = string.strip().replace('!','')\n",
    "\n",
    "#capitalizing the first word \n",
    "string = string.capitalize() + '!'\n",
    "string"
   ]
  },
  {
   "cell_type": "markdown",
   "metadata": {
    "slideshow": {
     "slide_type": "slide"
    },
    "tags": []
   },
   "source": [
    "## Unordered Types vs. Sequences\n",
    "\n",
    "* Unordered types: `set`, `dict`\n",
    "* Ordered (sequence) types: `str`, `list`, `tuple`\n",
    "  "
   ]
  },
  {
   "cell_type": "markdown",
   "metadata": {},
   "source": [
    "The data stored in an unordered type is not always returned in the same way. "
   ]
  },
  {
   "cell_type": "code",
   "execution_count": 92,
   "metadata": {},
   "outputs": [
    {
     "name": "stdout",
     "output_type": "stream",
     "text": [
      "{1, 2, 3, 'a', 'b'}\n",
      "{1, 2, 3, 'a', 'b'}\n"
     ]
    }
   ],
   "source": [
    "st = {1, 2, 3, 2, 'a', 'b'}\n",
    "print(st)\n",
    "st = {1, 2, 3, 2, 'b', 'a'}\n",
    "print(st)"
   ]
  },
  {
   "cell_type": "code",
   "execution_count": 9,
   "metadata": {
    "slideshow": {
     "slide_type": "-"
    }
   },
   "outputs": [
    {
     "name": "stdout",
     "output_type": "stream",
     "text": [
      "{'b', 1, 2, 'a'}\n"
     ]
    }
   ],
   "source": [
    "st = {1, 2, 2, 'a', 'b'} # sets are unordered\n",
    "print(st)"
   ]
  },
  {
   "cell_type": "markdown",
   "metadata": {
    "slideshow": {
     "slide_type": "slide"
    }
   },
   "source": [
    "## Set Methods\n",
    "\n",
    "![Set operations](figs/sets.png \"Set operations\")\n",
    "\n",
    "* `S1.union(S2)`, `S1|S2` — elements in S1 or S2, or both\n",
    "* `S1.intersection(S2)`, `S1&S2` — elements in both S1 and S2\n",
    "* `S1.difference(S2)`, `S1-S2` — elements in S1 but not in S2\n",
    "* `S1.symmetric_difference(S2)`, `S1^S2` — elements in S1 or S2 but not both"
   ]
  },
  {
   "cell_type": "code",
   "execution_count": 99,
   "metadata": {},
   "outputs": [
    {
     "name": "stdout",
     "output_type": "stream",
     "text": [
      "{'i', 'o', 'h', 'p', 'y', 'l'}\n",
      "{'e', 'm', 'r', 't'}\n"
     ]
    }
   ],
   "source": [
    "st1 = set('homophily')\n",
    "st2 = set('heterophily')\n",
    "\n",
    "#intersection of both words\n",
    "print(st1 & st2)\n",
    "\n",
    "#symmetric difference of both words (letters that are not present in both words)\n",
    "print(st1 ^ st2)"
   ]
  },
  {
   "cell_type": "markdown",
   "metadata": {
    "slideshow": {
     "slide_type": "slide"
    },
    "tags": []
   },
   "source": [
    "## Dictionary Operations: Indexing\n",
    "\n",
    "* Dictionaries are indexed by keys"
   ]
  },
  {
   "cell_type": "code",
   "execution_count": 100,
   "metadata": {},
   "outputs": [],
   "source": [
    "mydic = {'Howard': 'aerospace engineer', 'Leonard': 'physicist', 'Sheldon': 'physicist', 'Penny':'waitress', 'Raj': 'astrophysicist'}"
   ]
  },
  {
   "cell_type": "code",
   "execution_count": 101,
   "metadata": {},
   "outputs": [
    {
     "data": {
      "text/plain": [
       "'astrophysicist'"
      ]
     },
     "execution_count": 101,
     "metadata": {},
     "output_type": "execute_result"
    }
   ],
   "source": [
    "mydic['Raj']"
   ]
  },
  {
   "cell_type": "markdown",
   "metadata": {
    "slideshow": {
     "slide_type": "slide"
    },
    "tags": []
   },
   "source": [
    "## Sequence Operations: Indexing\n",
    "\n",
    "* Lists, tuples, and strings are indexed by numbers"
   ]
  },
  {
   "cell_type": "code",
   "execution_count": 102,
   "metadata": {},
   "outputs": [
    {
     "data": {
      "text/plain": [
       "'c'"
      ]
     },
     "execution_count": 102,
     "metadata": {},
     "output_type": "execute_result"
    }
   ],
   "source": [
    "'abcdef'[2]"
   ]
  },
  {
   "cell_type": "code",
   "execution_count": 21,
   "metadata": {
    "slideshow": {
     "slide_type": "-"
    }
   },
   "outputs": [
    {
     "data": {
      "text/plain": [
       "'C'"
      ]
     },
     "execution_count": 21,
     "metadata": {},
     "output_type": "execute_result"
    }
   ],
   "source": [
    "'ABCDEFG'[2]"
   ]
  },
  {
   "cell_type": "markdown",
   "metadata": {
    "slideshow": {
     "slide_type": "slide"
    }
   },
   "source": [
    "## Indexing in Python starts from 0!\n",
    "\n",
    "![Indexing arrays](figs/indexing.png \"Indexing arrays\")"
   ]
  },
  {
   "cell_type": "markdown",
   "metadata": {
    "slideshow": {
     "slide_type": "slide"
    }
   },
   "source": [
    "## Sequence Operations: Indexing\n",
    "\n",
    "* Use `elem[index]` to extract individual sub-elements"
   ]
  },
  {
   "cell_type": "code",
   "execution_count": 103,
   "metadata": {},
   "outputs": [
    {
     "data": {
      "text/plain": [
       "3"
      ]
     },
     "execution_count": 103,
     "metadata": {},
     "output_type": "execute_result"
    }
   ],
   "source": [
    "(1,2,3,4)[2]"
   ]
  },
  {
   "cell_type": "code",
   "execution_count": 106,
   "metadata": {
    "slideshow": {
     "slide_type": "-"
    }
   },
   "outputs": [
    {
     "name": "stdout",
     "output_type": "stream",
     "text": [
      "a\n",
      "c\n",
      "Error\n"
     ]
    }
   ],
   "source": [
    "print( 'abc'[0] ) \n",
    "\n",
    "# use negative numbers to index from the end. A -1 reaches the last element of the list\n",
    "print( ('a', 'b', 'c')[-1])\n",
    "try: \n",
    "    print( ['a', 'b', 'c'][3])\n",
    "except:\n",
    "    print('Error')"
   ]
  },
  {
   "cell_type": "markdown",
   "metadata": {
    "slideshow": {
     "slide_type": "slide"
    }
   },
   "source": [
    "## Sequence Operations: Slicing\n",
    "\n",
    "* Use `elem[start:end]` to get sub-sequence starting from index `start` and ending at index `end-1`"
   ]
  },
  {
   "cell_type": "code",
   "execution_count": 1,
   "metadata": {
    "slideshow": {
     "slide_type": "-"
    },
    "tags": []
   },
   "outputs": [
    {
     "name": "stdout",
     "output_type": "stream",
     "text": [
      "[20, 30, 40]\n",
      "[10, 20, 30]\n",
      "[20, 30, 40, 50]\n"
     ]
    },
    {
     "data": {
      "text/plain": [
       "True"
      ]
     },
     "execution_count": 1,
     "metadata": {},
     "output_type": "execute_result"
    }
   ],
   "source": [
    "ls = [10, 20, 30, 40, 50]\n",
    "print( ls[1:4] ) \n",
    "print( ls[:3] )\n",
    "print( ls[1:] )\n",
    "\n",
    "ls[:] == ls[0:len(ls)]"
   ]
  },
  {
   "cell_type": "markdown",
   "metadata": {
    "slideshow": {
     "slide_type": "slide"
    }
   },
   "source": [
    "## Sequence Operations: Extended Slices\n",
    "\n",
    "* Use `elem[start:end:step]` to get sub-sequence starting from index `start`, in steps of `step`, ending at index `end-1`"
   ]
  },
  {
   "cell_type": "code",
   "execution_count": 1,
   "metadata": {
    "slideshow": {
     "slide_type": "-"
    }
   },
   "outputs": [
    {
     "name": "stdout",
     "output_type": "stream",
     "text": [
      "[10, 30, 50]\n",
      "[50, 40, 30, 20, 10]\n"
     ]
    }
   ],
   "source": [
    "ls = [10, 20, 30, 40, 50]\n",
    "print( ls[::2] ) # get elements with even indeces\n",
    "print( ls[::-1] ) # get elements in reverse order"
   ]
  },
  {
   "cell_type": "markdown",
   "metadata": {
    "slideshow": {
     "slide_type": "slide"
    }
   },
   "source": [
    "## Indexing and Slicing: Exercise"
   ]
  },
  {
   "cell_type": "code",
   "execution_count": 131,
   "metadata": {
    "slideshow": {
     "slide_type": "-"
    }
   },
   "outputs": [
    {
     "data": {
      "text/plain": [
       "'bdefz'"
      ]
     },
     "execution_count": 131,
     "metadata": {},
     "output_type": "execute_result"
    }
   ],
   "source": [
    "# Use indexing and slicing to create a new string that contains \n",
    "# the 2nd, 4th, 5th, 6th, and last characters from the string below\n",
    "\n",
    "s = 'abcdefghijklmnopqrstuvwxyz'\n",
    "s[1] + s[3:6] + s[-1]\n"
   ]
  },
  {
   "cell_type": "markdown",
   "metadata": {
    "slideshow": {
     "slide_type": "slide"
    }
   },
   "source": [
    "## More Sequence Operations"
   ]
  },
  {
   "cell_type": "code",
   "execution_count": 120,
   "metadata": {
    "slideshow": {
     "slide_type": "-"
    }
   },
   "outputs": [
    {
     "name": "stdout",
     "output_type": "stream",
     "text": [
      "(1, 1, 1) (1, 1, 1, 2, 2)\n",
      "2\n",
      "7\n",
      "3\n",
      "3\n"
     ]
    }
   ],
   "source": [
    "tup1 = 3*(1,) # Notice that tuple of length 1 needs comma! Otherwise Python interprets something different\n",
    "tup2 = tup1 + (2, 2) # Concatenate the two elements\n",
    "print(tup1, tup2)\n",
    "\n",
    "print( max(tup2) ) # or min()\n",
    "print( sum(tup2) )\n",
    "print( tup2.count(1) )\n",
    "print( tup2.index(2) ) # index of the first time the element two appears"
   ]
  },
  {
   "cell_type": "markdown",
   "metadata": {
    "slideshow": {
     "slide_type": "fragment"
    }
   },
   "source": [
    "* Why use tuples? \n",
    "    * ⚡️ They use less memory than lists\n",
    "    * They can be used as dictionary keys; lists can't\n",
    "    * They are also immutable"
   ]
  },
  {
   "cell_type": "markdown",
   "metadata": {
    "slideshow": {
     "slide_type": "slide"
    }
   },
   "source": [
    "## Mutability\n",
    "\n",
    "* Immutable types: `str`, `tuple`, and all scalars\n",
    "* Mutable types: `list`, `set`, `dict`\n",
    "\n",
    "**Objects of mutable types can be modified once they are created.**"
   ]
  },
  {
   "cell_type": "code",
   "execution_count": 121,
   "metadata": {
    "slideshow": {
     "slide_type": "-"
    }
   },
   "outputs": [
    {
     "name": "stdout",
     "output_type": "stream",
     "text": [
      "{1: 'a', 2: 'b', 'c': 3}\n",
      "[1, 2, 3, 4, 5]\n"
     ]
    }
   ],
   "source": [
    "dic = {1:'a', 2:'b'}\n",
    "dic['c'] = 3\n",
    "print(dic)\n",
    "\n",
    "ls = [5, 4, 1, 3, 2]\n",
    "ls.sort()\n",
    "print(ls)"
   ]
  },
  {
   "cell_type": "markdown",
   "metadata": {
    "slideshow": {
     "slide_type": "slide"
    }
   },
   "source": [
    "## Mutability Can Be Quite Convenient\n",
    "\n",
    "There are several useful list methods, see http://docs.python.org/3/library/stdtypes.html#mutable-sequence-types:\n",
    "\n",
    "* `L.append(e)`\n",
    "* `L.insert(i, e)`\n",
    "* `L.remove(e)` remove it the first time it appears\n",
    "* `L.extend(L1)` you can add another list to it\n",
    "* `L.pop(i)` pop an element on an index\n",
    "* `L.sort()`\n",
    "* `L.reverse()`\n",
    "\n",
    "Besides, the list() function can only be passed to a sequence, not to two scalars. "
   ]
  },
  {
   "cell_type": "code",
   "execution_count": 13,
   "metadata": {
    "slideshow": {
     "slide_type": "-"
    }
   },
   "outputs": [
    {
     "name": "stdout",
     "output_type": "stream",
     "text": [
      "[1, 2, 3, 4]\n",
      "[1, 2, 3, 4, 5, 6, 7, 8, 9, 10]\n"
     ]
    }
   ],
   "source": [
    "ls1 = [1, 2, 3]\n",
    "ls1.append(4)\n",
    "print(ls1)\n",
    "ls1.extend([5, 6, 7, 8, 9, 10])\n",
    "print(ls1)"
   ]
  },
  {
   "cell_type": "markdown",
   "metadata": {
    "slideshow": {
     "slide_type": "slide"
    }
   },
   "source": [
    "## Mutability Can Also Be Dangerous"
   ]
  },
  {
   "cell_type": "code",
   "execution_count": 123,
   "metadata": {
    "slideshow": {
     "slide_type": "-"
    }
   },
   "outputs": [
    {
     "name": "stdout",
     "output_type": "stream",
     "text": [
      "[1, 2, 3, [4, 5, 6, 7]]\n",
      "[1, 2, 3, [4, 5, 6, 7, 8, 9, 10]]\n"
     ]
    }
   ],
   "source": [
    "ls1 = [1, 2, 3]\n",
    "ls2 = [4, 5, 6, 7]\n",
    "\n",
    "ls1.append(ls2)\n",
    "print(ls1)\n",
    "\n",
    "\n",
    "ls2.extend([8, 9, 10])\n",
    "print(ls1)\n",
    "#this has also modified list1. It is very dangeorus"
   ]
  },
  {
   "cell_type": "markdown",
   "metadata": {
    "slideshow": {
     "slide_type": "slide"
    }
   },
   "source": [
    "## Aliasing vs. Cloning\n",
    "\n",
    "![Aliasing](figs/aliasing.png \"Aliasing\")"
   ]
  },
  {
   "cell_type": "markdown",
   "metadata": {},
   "source": [
    "What is happening actually in Python"
   ]
  },
  {
   "cell_type": "code",
   "execution_count": 16,
   "metadata": {
    "slideshow": {
     "slide_type": "-"
    }
   },
   "outputs": [
    {
     "name": "stdout",
     "output_type": "stream",
     "text": [
      "[1, 2, 3]\n"
     ]
    }
   ],
   "source": [
    "ls1 = [1, 2, 3]\n",
    "ls2 = ls1[:]  # Using [:] is one way to clone, in this way you are only copying the past state of that variable.\n",
    "\n",
    "#Otherwise you would be using the alias instead of the actual created object (which is immutable)\n",
    "#You can also use ls1.copy() or ls2 = list(ls1)\n",
    "\n",
    "ls1.reverse()\n",
    "print(ls2)"
   ]
  },
  {
   "cell_type": "markdown",
   "metadata": {
    "slideshow": {
     "slide_type": "slide"
    }
   },
   "source": [
    "## List Methods:  `append` vs. `extend`"
   ]
  },
  {
   "cell_type": "code",
   "execution_count": 124,
   "metadata": {
    "slideshow": {
     "slide_type": "-"
    }
   },
   "outputs": [
    {
     "name": "stdout",
     "output_type": "stream",
     "text": [
      "[1, 2, 3, 4, 5]\n",
      "[1, 2, 3, 4, 5, 8, 7, 6]\n"
     ]
    }
   ],
   "source": [
    "mylist = [1, 2, 3, 4]\n",
    "mylist.append(5)\n",
    "print(mylist)\n",
    "\n",
    "mylist.extend([8, 7, 6]) #extend uses the list as an argument\n",
    "print(mylist)"
   ]
  },
  {
   "cell_type": "markdown",
   "metadata": {
    "slideshow": {
     "slide_type": "slide"
    }
   },
   "source": [
    "## List Methods: `remove` vs. `pop`"
   ]
  },
  {
   "cell_type": "code",
   "execution_count": 126,
   "metadata": {
    "slideshow": {
     "slide_type": "-"
    }
   },
   "outputs": [
    {
     "name": "stdout",
     "output_type": "stream",
     "text": [
      "[2, 3, 4, 1]\n",
      "3 [2, 4, 1]\n"
     ]
    }
   ],
   "source": [
    "mylist = [1, 2, 3, 4, 1]\n",
    "\n",
    "mylist.remove(1) #you remove the first instance of an element\n",
    "print(mylist)\n",
    "\n",
    "popped = mylist.pop(1) # you remove the element based on its index and store it away \n",
    "print(popped, mylist)"
   ]
  },
  {
   "cell_type": "markdown",
   "metadata": {
    "slideshow": {
     "slide_type": "slide"
    }
   },
   "source": [
    "## List Methods: `L.sort()` vs. `sorted(L)`"
   ]
  },
  {
   "cell_type": "code",
   "execution_count": 5,
   "metadata": {
    "slideshow": {
     "slide_type": "-"
    }
   },
   "outputs": [
    {
     "name": "stdout",
     "output_type": "stream",
     "text": [
      "[1, 2, 3, 4, 5]\n",
      "[10, 9, 6, 8, 7]\n",
      "[10, 9, 6, 8, 7] [6, 7, 8, 9, 10]\n"
     ]
    }
   ],
   "source": [
    "mylist = [4, 5, 2, 1, 3]\n",
    "mylist.sort()  # Sorts in-place. It is more efficient but overwrites the input.\n",
    "print(mylist)\n",
    "\n",
    "mylist = [10, 9, 6, 8, 7]\n",
    "sorted(mylist) \n",
    "print(mylist)\n",
    "\n",
    "newlist = sorted(mylist)  # Creates a new list that is sorted, not changing the original.\n",
    "print(mylist, newlist)\n",
    "\n",
    "#Methods modify mutable objects in place."
   ]
  },
  {
   "cell_type": "markdown",
   "metadata": {
    "slideshow": {
     "slide_type": "slide"
    }
   },
   "source": [
    "## Aliasing and Cloning: Exercise"
   ]
  },
  {
   "cell_type": "markdown",
   "metadata": {
    "slideshow": {
     "slide_type": "-"
    }
   },
   "source": [
    "What will the following program print?\n",
    "\n",
    "```\n",
    "ls1 = [11, 3, 8, 6, 6, 1]\n",
    "ls2 = ls1\n",
    "ls2[2] = 0\n",
    "print(ls1)\n",
    "```\n",
    "\n",
    "* (A) [11, 3, 8, 6, 6, 1]\n",
    "* (B) [11, 0, 8, 6, 6, 1]\n",
    "* (C) [11, 3, 0, 6, 6, 1]\n",
    "* (D) 0"
   ]
  },
  {
   "cell_type": "markdown",
   "metadata": {},
   "source": [
    "The answer is C. Because ls1 has not been copied.\n",
    "\n",
    "In Python you can create two references to the same object. If the objects are mutable (such as lists, dictionaries and sets), when changing one of the references the underlying object is also modified (so the other reference will also access a modified object). This is called aliasing. If you do not want this to happen, you can use ls2 = ls1.copy()\n",
    "\n",
    "This does not happen in R. This code would have copied the object and modified it. Hence, ls1 would have a reference to one object and ls2 to another object. "
   ]
  },
  {
   "cell_type": "markdown",
   "metadata": {
    "slideshow": {
     "slide_type": "slide"
    }
   },
   "source": [
    "## Data Types in Python\n",
    "\n",
    "\n",
    "| Type     | Scalar     | Mutability | Order   \n",
    "| :------: |:----------:|:----------:| :---------:\n",
    "| `int`    | scalar     | immutable  |             \n",
    "| `float`  | scalar     | immutable  |  \n",
    "| `bool`   | scalar     | immutable  | \n",
    "| `None`   | scalar     | immutable  | \n",
    "| `str`    | non-scalar | immutable  | ordered\n",
    "| `tuple`  | non-scalar | immutable  | ordered\n",
    "| `list`   | non-scalar | mutable    | ordered\n",
    "| `set`    | non-scalar | mutable    | unordered\n",
    "| `dict`   | non-scalar | mutable    | unordered\n",
    "\n",
    "* Objects have types\n",
    "* Objects have methods"
   ]
  },
  {
   "cell_type": "markdown",
   "metadata": {
    "slideshow": {
     "slide_type": "fragment"
    }
   },
   "source": [
    "-------\n",
    "\n",
    "* **Lab**: Lists, lists, lists (and some strings)\n",
    "* **Next week**: Control flow in Python"
   ]
  }
 ],
 "metadata": {
  "celltoolbar": "Slideshow",
  "kernelspec": {
   "display_name": "Python 3 (ipykernel)",
   "language": "python",
   "name": "python3"
  },
  "language_info": {
   "codemirror_mode": {
    "name": "ipython",
    "version": 3
   },
   "file_extension": ".py",
   "mimetype": "text/x-python",
   "name": "python",
   "nbconvert_exporter": "python",
   "pygments_lexer": "ipython3",
   "version": "3.8.5"
  }
 },
 "nbformat": 4,
 "nbformat_minor": 4
}
