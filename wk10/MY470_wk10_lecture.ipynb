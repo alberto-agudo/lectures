{
 "cells": [
  {
   "cell_type": "markdown",
   "metadata": {
    "slideshow": {
     "slide_type": "slide"
    }
   },
   "source": [
    "### MY470 Computer Programming\n",
    "# Searching and Sorting Algorithms\n",
    "### Week 10 Lecture"
   ]
  },
  {
   "cell_type": "markdown",
   "metadata": {
    "slideshow": {
     "slide_type": "slide"
    }
   },
   "source": [
    "## Overview\n",
    "\n",
    "We will practice thinking about algorithm design and complexity analysis:\n",
    "\n",
    "* Search algorithms\n",
    "    * Linear search\n",
    "    * Binary search\n",
    "* Sorting algorithms\n",
    "    * Bubble sort\n",
    "    * Selection sort\n",
    "    * Insertion sort\n",
    "    * Merge sort\n",
    "* Hashing -> Mathematical way of storing and indexing data. Method behind dictionaries and sets."
   ]
  },
  {
   "cell_type": "markdown",
   "metadata": {
    "slideshow": {
     "slide_type": "slide"
    }
   },
   "source": [
    "## Searching\n",
    "\n",
    "![Searching](figs/searching.jpg \"Searching\")\n",
    "\n",
    "* The goal is to find a specific item in a collection of items\n",
    "* The answer could be `True` or `False`, or alternatively, the precise location of the item (the index of an item within a list)\n",
    "* In Python, search with `in`"
   ]
  },
  {
   "cell_type": "code",
   "execution_count": 12,
   "metadata": {
    "slideshow": {
     "slide_type": "-"
    }
   },
   "outputs": [
    {
     "data": {
      "text/plain": [
       "True"
      ]
     },
     "execution_count": 12,
     "metadata": {},
     "output_type": "execute_result"
    }
   ],
   "source": [
    "4 in [1, 2, 3, 4, 5]"
   ]
  },
  {
   "cell_type": "markdown",
   "metadata": {
    "slideshow": {
     "slide_type": "slide"
    }
   },
   "source": [
    "## Linear/Sequential Search\n",
    "\n",
    "* Visit each item in the collection in order until you discover the item or until you run out of items"
   ]
  },
  {
   "cell_type": "code",
   "execution_count": 20,
   "metadata": {
    "slideshow": {
     "slide_type": "-"
    },
    "tags": []
   },
   "outputs": [],
   "source": [
    "def linear_search(ls, e):\n",
    "    \"\"\"Assume ls is a list.\n",
    "    Return True if e is in ls, False otherwise.\n",
    "    \"\"\"\n",
    "    for i in range(len(ls)):\n",
    "        if ls[i]==e:\n",
    "            return True\n",
    "    return False\n"
   ]
  },
  {
   "cell_type": "markdown",
   "metadata": {
    "slideshow": {
     "slide_type": "fragment"
    },
    "tags": []
   },
   "source": [
    "### Exercise 1: What is the time and space complexity of linear search?"
   ]
  },
  {
   "cell_type": "markdown",
   "metadata": {},
   "source": [
    "* Space complexity: O(1)\n",
    "* Time complexity: O(n)"
   ]
  },
  {
   "cell_type": "markdown",
   "metadata": {
    "slideshow": {
     "slide_type": "slide"
    }
   },
   "source": [
    "## Binary Search\n",
    "\n",
    "*Example of divide and conquer strategy – break the problem into smaller pieces, solve the smaller pieces, and then reassemble to get \n",
    "the result. Very naturally implemented as recursive functions.*\n",
    "\n",
    "\n",
    "* Assume **search space is sorted**\n",
    "* Start from the middle\n",
    "    * If the item is the one we are searching for, we are done\n",
    "    * If the item is larger than the one we are searching for, eliminate the upper half and repeat the search in the lower half\n",
    "    * If the item is smaller than the one we are searching for, eliminate the lower half and repeat the search in the upper half\n"
   ]
  },
  {
   "cell_type": "markdown",
   "metadata": {
    "slideshow": {
     "slide_type": "slide"
    }
   },
   "source": [
    "## Binary Search"
   ]
  },
  {
   "cell_type": "code",
   "execution_count": 11,
   "metadata": {
    "slideshow": {
     "slide_type": "-"
    },
    "tags": []
   },
   "outputs": [],
   "source": [
    "# binary_search() is called a \"wrapper function\" –\n",
    "# it hides the implementation details\n",
    "def binary_search(ls, e):\n",
    "    \"\"\"Assume ls is a list with its elements in ascending order.\n",
    "    Return True if e is in ls, False otherwise.\n",
    "    \"\"\"\n",
    "    \n",
    "    def b_search(ls, e, low, high):\n",
    "        # Decrement high - low\n",
    "        if high==low: # only one item left\n",
    "            return ls[low]==e\n",
    "        mid = (low + high)//2\n",
    "        \n",
    "        # Check if the item is at the midpoint\n",
    "        if e == ls[mid]:\n",
    "            return True\n",
    "        # If the item is smaller than the midpoint, search in the lower half \n",
    "        elif e < ls[mid]:\n",
    "            if low == mid: # no items left\n",
    "                return False\n",
    "            else:\n",
    "                return b_search(ls, e, low, mid - 1)\n",
    "        # If the item is larger than the midpoint, search in the higher half \n",
    "        else:\n",
    "            return b_search(ls, e, mid + 1, high)\n",
    "        \n",
    "    if len(ls)==0:\n",
    "        return False\n",
    "    else:\n",
    "        return b_search(ls, e, 0, len(ls) - 1)\n",
    "    "
   ]
  },
  {
   "cell_type": "markdown",
   "metadata": {
    "slideshow": {
     "slide_type": "fragment"
    }
   },
   "source": [
    "### Exercise 2: What is the time and space complexity of binary search?"
   ]
  },
  {
   "cell_type": "markdown",
   "metadata": {},
   "source": [
    "* Space complexity = Only creates mid + the maximum number of recursive calls to the b_search function log(n), where n is the length of the list. -> O(log(n)).\n",
    "* Time complexity = No loop, only calls to the recursive functions. These can get to a maximum of log(n) in the deepest thread of the recursive call. n being the length of the list. \n",
    "\n",
    "The objective of this recursive function is to reach a point where high-low = 0. To do that by halving high-low, at most you should do it $log_2(high-low)$ times."
   ]
  },
  {
   "cell_type": "markdown",
   "metadata": {
    "slideshow": {
     "slide_type": "slide"
    }
   },
   "source": [
    "## When to Sort and Use Binary Search\n",
    "\n",
    "* Binary search works on sorted lists, should you sort and go for binary search, or directly use linear search?\n",
    "\n",
    "* **Best if searching needs to be done many times**\n",
    "* For small $n$, the additional cost of sorting is likely not worth it. In this case, sequential search is efficient enough.\n",
    "* For large $n$, sorting may be too expensive and ultimately, sequential search may be preferable\n"
   ]
  },
  {
   "cell_type": "markdown",
   "metadata": {
    "slideshow": {
     "slide_type": "slide"
    }
   },
   "source": [
    "## Sorting\n",
    "\n",
    "![Sorting](figs/sorting.jpg \"Sorting\")\n",
    "\n",
    "* The goal is to place items from a collection in some kind of order\n",
    "* Sorting requires two operations:\n",
    "    * Compare values according to your definition of order.\n",
    "    * Exchange values if they are not in the correct order\n",
    "* The efficiency of a sorting algorithm depends on the total number of comparisons and exchanges\n"
   ]
  },
  {
   "cell_type": "code",
   "execution_count": 1,
   "metadata": {
    "slideshow": {
     "slide_type": "-"
    }
   },
   "outputs": [
    {
     "name": "stdout",
     "output_type": "stream",
     "text": [
      "[3, 5, 1, 2, 4] [1, 2, 3, 4, 5]\n",
      "[1, 2, 3, 4, 5]\n"
     ]
    }
   ],
   "source": [
    "ls = [3, 5, 1, 2, 4]\n",
    "ls_new = sorted(ls) # Here you are copying the list\n",
    "print(ls, ls_new)\n",
    "\n",
    "ls.sort() # Modifies in place. Less space complexity. \n",
    "print(ls)"
   ]
  },
  {
   "cell_type": "markdown",
   "metadata": {
    "slideshow": {
     "slide_type": "slide"
    }
   },
   "source": [
    "## Sorting Algorithms\n",
    "\n",
    "* Bubble sort\n",
    "* Selection sort\n",
    "* Insertion sort\n",
    "* Merge sort -> The most efficient approach we have to sort.\n"
   ]
  },
  {
   "cell_type": "markdown",
   "metadata": {
    "slideshow": {
     "slide_type": "slide"
    }
   },
   "source": [
    "## Bubble Sort\n",
    "\n",
    "![Bubble sort](figs/bubble_sort.jpg \"Bubble sort\")\n",
    "\n",
    "1. Iterate over a list and compare the item at the current position with every item in the remaining sublist; swap the items if necessary to get the correct ordering. Goes from left to right, like a wave. If the current item is smaller/bigger than the next item,you swap it.\n",
    "2. Repeat until no swaps are done\n",
    "\n",
    "[Visualization](https://visualgo.net/bn/sorting)"
   ]
  },
  {
   "cell_type": "markdown",
   "metadata": {
    "slideshow": {
     "slide_type": "slide"
    }
   },
   "source": [
    "## Bubble Sort"
   ]
  },
  {
   "cell_type": "code",
   "execution_count": 27,
   "metadata": {
    "slideshow": {
     "slide_type": "-"
    },
    "tags": []
   },
   "outputs": [],
   "source": [
    "# Intuition: Iterate over all the items, pushing the biggest you find until the end.\n",
    "# After the first iteration, the biggest item is in the end.\n",
    "# Start again, the second biggest item will be pushed until the end - 1.\n",
    "# Start again, the third biggest item will be pushed until the end - 2.\n",
    "\n",
    "def bubble_sort(ls):\n",
    "    \"\"\"Assume ls is a list of elements that can be compared using >.\n",
    "    Sort ls in ascending order.\n",
    "    \"\"\"\n",
    "    # Start from the end of the whole list, reducing towards the front\n",
    "    # Goes from the end until 1 (0 is not included).\n",
    "    # This happens because you will be comparing each item with the following, so\n",
    "    # your number of comparisons should be n - 1.\n",
    "    for passnum in range(len(ls) - 1, 0, -1):\n",
    "        # Consider each of the sublists\n",
    "        # Since you are using passnum (which is in decreasing order)\n",
    "        # each time you will compare less numbers (every number except the last one, two, three...)\n",
    "        for i in range(passnum):\n",
    "            if ls[i] > ls[i + 1]:\n",
    "                # Swap, pushing the larger number to the back\n",
    "                # This double assignment swaps the position of the items. \n",
    "                ls[i], ls[i + 1] = ls[i + 1], ls[i]\n"
   ]
  },
  {
   "cell_type": "code",
   "execution_count": 28,
   "metadata": {},
   "outputs": [],
   "source": [
    "ls = [0, 15, 3, 5, 6, 345, 6, 28, 18, 15]\n",
    "bubble_sort(ls)"
   ]
  },
  {
   "cell_type": "code",
   "execution_count": 29,
   "metadata": {},
   "outputs": [
    {
     "data": {
      "text/plain": [
       "[0, 3, 5, 6, 6, 15, 15, 18, 28, 345]"
      ]
     },
     "execution_count": 29,
     "metadata": {},
     "output_type": "execute_result"
    }
   ],
   "source": [
    "ls"
   ]
  },
  {
   "cell_type": "markdown",
   "metadata": {
    "slideshow": {
     "slide_type": "fragment"
    }
   },
   "source": [
    "### Exercise 3: What is the time and space complexity of bubble sort?\n",
    "\n",
    "[Hint](https://www.youtube.com/watch?v=koMpGeZpu4Q)"
   ]
  },
  {
   "cell_type": "markdown",
   "metadata": {},
   "source": [
    "Time complexity: **(n-1) * (n-p) = n^2 -np -n + p -> n^2 -> O(n^2)**\n",
    "Space complexity: O(1), the list is modified in place. "
   ]
  },
  {
   "cell_type": "markdown",
   "metadata": {
    "slideshow": {
     "slide_type": "slide"
    }
   },
   "source": [
    "## Selection Sort\n",
    "\n",
    "1. Iterate over a list and look for the largest/smallest item in the remaining sublist\n",
    "2. Swap the item in the current position with the identified item"
   ]
  },
  {
   "cell_type": "code",
   "execution_count": 36,
   "metadata": {
    "slideshow": {
     "slide_type": "fragment"
    },
    "tags": []
   },
   "outputs": [],
   "source": [
    "def selection_sort(ls):\n",
    "    \"\"\"Assume ls is a list of elements that can be compared using >.\n",
    "    Sort ls in ascending order.\n",
    "    \"\"\"\n",
    "    \n",
    "    # Consider each position, starting from the back\n",
    "    # Trying to push the largest to the back (ascending order)\n",
    "    for pos in range(len(ls) - 1, 0, -1):\n",
    "        max_pos = 0\n",
    "        # Find the largest item in the sublist until this position\n",
    "        # Here the sublist is comprised of the items in the maximum one. \n",
    "        for i in range(1, pos + 1):\n",
    "            if ls[i] > ls[max_pos]:\n",
    "                max_pos = i\n",
    "        \n",
    "        # Swap the item at the end with the largest item\n",
    "        # In Guttag it performs more permutations for each starting position.\n",
    "        ls[pos], ls[max_pos] = ls[max_pos], ls[pos]\n"
   ]
  },
  {
   "cell_type": "code",
   "execution_count": 34,
   "metadata": {},
   "outputs": [
    {
     "name": "stdout",
     "output_type": "stream",
     "text": [
      "[1, 3, 4, 5]\n"
     ]
    }
   ],
   "source": [
    "ls = [4, 1, 5, 3]\n",
    "selection_sort(ls)\n",
    "print(ls)"
   ]
  },
  {
   "cell_type": "markdown",
   "metadata": {
    "slideshow": {
     "slide_type": "fragment"
    },
    "tags": []
   },
   "source": [
    "### Exercise 4: What is the time complexity of selection sort?"
   ]
  },
  {
   "cell_type": "markdown",
   "metadata": {},
   "source": [
    "It is also O(n^2), but here we do not have as many swaps as before, we do them outside of the inner loop. Hence, we are using fewer operations.  \n",
    "In general, it will benchmark better (not in the worst-case scenario).\n",
    "Its space complexity is O(1)."
   ]
  },
  {
   "cell_type": "markdown",
   "metadata": {
    "slideshow": {
     "slide_type": "slide"
    }
   },
   "source": [
    "## Insertion Sort\n",
    "\n",
    "1. Iterate over a list starting from the beginning\n",
    "2. Insert each new item into the previous sublist in order, shifting the positions of larger items by 1\n",
    "\n",
    "In essence, the algorithm maintains a sorted sublist in the lower positions of the list as it progresses one item ahead"
   ]
  },
  {
   "cell_type": "code",
   "execution_count": 49,
   "metadata": {
    "slideshow": {
     "slide_type": "fragment"
    },
    "tags": []
   },
   "outputs": [],
   "source": [
    "def insertion_sort(ls):\n",
    "    \"\"\"Assume ls is a list of elements that can be compared using >.\n",
    "    Sort ls in ascending order.\n",
    "    \"\"\"\n",
    "    # It starts at 1 because you will compare it with ls[i - 1]\n",
    "    for i in range(1, len(ls)):\n",
    "        currentvalue = ls[i]\n",
    "        pos = i\n",
    "        \n",
    "        # Now we will go backwards until we find the lower bound\n",
    "        # of the sublist, or a smaller value. \n",
    "        while pos > 0 and ls[pos - 1] > currentvalue:\n",
    "            ls[pos] = ls[pos - 1] # Here you are moving the item of the left one position forward\n",
    "            pos -= 1\n",
    "\n",
    "        ls[pos] = currentvalue # Finally, here you overwrite the item in which you stopped.\n"
   ]
  },
  {
   "cell_type": "code",
   "execution_count": 50,
   "metadata": {},
   "outputs": [
    {
     "name": "stdout",
     "output_type": "stream",
     "text": [
      "[1, 2, 2, 5, 5, 6, 7, 7, 8, 34, 34, 47, 56, 63, 6345]\n"
     ]
    }
   ],
   "source": [
    "ls = [1,5,6345,47,2,63,56,34,6,5,7,7,8,2,34]\n",
    "insertion_sort(ls)\n",
    "print(ls)"
   ]
  },
  {
   "cell_type": "markdown",
   "metadata": {
    "slideshow": {
     "slide_type": "fragment"
    },
    "tags": []
   },
   "source": [
    "### Exercise 5: What is the time complexity of insertion sort?"
   ]
  },
  {
   "cell_type": "markdown",
   "metadata": {},
   "source": [
    "More similar to O(n^2).\n",
    "Why is it more efficient? Because it is only reindexing things, it swaps them at the end. "
   ]
  },
  {
   "cell_type": "markdown",
   "metadata": {
    "slideshow": {
     "slide_type": "slide"
    }
   },
   "source": [
    "## Merge Sort\n",
    "\n",
    "*Example of divide and conquer strategy – break the problem into smaller pieces, solve the smaller pieces, and then reassemble to get the result*\n",
    "\n",
    " Merge sort is precisely O(n*log(n)).\n",
    "\n",
    "1. If the list has 0 or 1 elements, it is sorted\n",
    "2. If the list has more than 1 element, split the list in two and use merge sort on each\n",
    "3. Merge the results*\n",
    "\n",
    "\\* Merge by inspecting the first elements of the two lists and moving the smaller one to the end of the result list"
   ]
  },
  {
   "cell_type": "markdown",
   "metadata": {
    "slideshow": {
     "slide_type": "slide"
    }
   },
   "source": [
    "## Merge Sort"
   ]
  },
  {
   "cell_type": "code",
   "execution_count": 73,
   "metadata": {
    "slideshow": {
     "slide_type": "-"
    },
    "tags": []
   },
   "outputs": [],
   "source": [
    "def merge_sort(ls):\n",
    "    # This is the recursive function.\n",
    "    \"\"\"Assume ls is a list. \n",
    "    Return a new sorted list with same elements as ls.\n",
    "    \"\"\"\n",
    "    \n",
    "    if len(ls) <= 1:\n",
    "        return ls[:]\n",
    "    else:\n",
    "        middle = len(ls)//2\n",
    "        left = merge_sort(ls[:middle])\n",
    "        right = merge_sort(ls[middle:])\n",
    "        # You do not reach that statement until you\n",
    "        # finish the recursive calls.\n",
    "        return merge(left, right)\n",
    "        \n",
    "        \n",
    "        # It divides the elements until you have lists of only one element.\n",
    "        # Once you reach the end of the tree, you go up ordering the elements from the left of each thread with the elements of the right. \n",
    "        \n",
    "    \n",
    "def merge(left, right):\n",
    "    \"\"\"Assume left and right are sorted lists.\n",
    "    Return a new sorted list containing the same elements as (left + right).\n",
    "    \"\"\"\n",
    "    result = []\n",
    "    i, j = 0, 0\n",
    "    # Inspect the first items of the two lists and append the smaller one to results\n",
    "    while i < len(left) and j < len(right):\n",
    "        if left[i] < right[j]:\n",
    "            result.append(left[i])\n",
    "            i += 1\n",
    "        else:\n",
    "            result.append(right[j])\n",
    "            j += 1\n",
    "    # Append any remaining items in case one of the lists is depleted. \n",
    "    while i < len(left):\n",
    "        result.append(left[i])\n",
    "        i += 1\n",
    "    while j < len(right):\n",
    "        result.append(right[j])\n",
    "        j += 1\n",
    "    return result\n"
   ]
  },
  {
   "cell_type": "markdown",
   "metadata": {},
   "source": [
    "What is the complexity of the merge process? It involves two constant-time operations, comparing the values of elements and copying elements from one list to another. The number of comparisons is O(len(L)), where L is the longer of the two lists. The number of copy operations is O(len(L1) + len(L2)), because each element gets copied exactly once. (The time to copy an element will depend on the size of the element. However, this does not affect the order of the growth of sort as a function of the number of elements in the list.) Therefore, merging two sorted lists is linear in the length of the lists."
   ]
  },
  {
   "cell_type": "markdown",
   "metadata": {},
   "source": [
    "Both the list.sort method and the sorted function provide stable sorts. This means that if two elements are equal with respect to the comparison (len in this example) used in the sort, their relative ordering in the original list (or other iter- able object) is preserved in the final list."
   ]
  },
  {
   "cell_type": "markdown",
   "metadata": {
    "slideshow": {
     "slide_type": "fragment"
    }
   },
   "source": [
    "### The time and space complexity of merge sort\n",
    "* The time complexity of merge sort is $O(n \\log n)$. It takes $O(\\log n)$ splits and each of them requires a merge which is $O(n)$. In a merge, each item in the list will eventually be processed and placed on the sorted list, so it will take $n$ operations to get a list of size $n$\n",
    "* The space complexity is $O(n)$, as the algorithm copies the list"
   ]
  },
  {
   "cell_type": "markdown",
   "metadata": {
    "slideshow": {
     "slide_type": "slide"
    }
   },
   "source": [
    "## Hashing\n",
    "\n",
    "![Hashing](figs/hashing.jpg \"Hashing\")\n",
    "\n",
    "* A **hash table** is a collection of items that are stored in a way that makes them easy to find later\n",
    "* The goal is to design a hash table that allows us to search on the order of $O(1)$\n",
    "* Dictionaries and sets are implemented with hashing. Hence, for a set to be created on a list you need O(n)."
   ]
  },
  {
   "cell_type": "markdown",
   "metadata": {
    "slideshow": {
     "slide_type": "slide"
    }
   },
   "source": [
    "## Hash Table \n",
    "\n",
    "![Empty hash table](figs/hash_table_empty.png \"Empty hash table\")\n",
    "\n",
    "* This hash table has length 10 and is currently empty\n",
    "* Slots are named with integers starting at 0"
   ]
  },
  {
   "cell_type": "markdown",
   "metadata": {
    "slideshow": {
     "slide_type": "fragment"
    }
   },
   "source": [
    "* The **hash function** defines how you map an item to its rightful slot. Then, if you want to search that particular item, you resort to the hash function, which allows you to find the slot without going over each slot. \n",
    "    * For example, consider **the remainder method**, `i % h`, where `h` is the size of the hash table (here h would be 10).\n",
    "        * We need to store `20`, `22`, `34`, `45`, `117`\n",
    "        * `20 % 10 = 0`\n",
    "        * `22 % 10 = 2`\n",
    "        * `34 % 10 = 4`\n",
    "        * `45 % 10 = 5`\n",
    "        * `117 % 10 = 7`\n",
    "    \n",
    "![Hash table with items](figs/hash_table_filled.png \"Hash table with items\")"
   ]
  },
  {
   "cell_type": "markdown",
   "metadata": {
    "slideshow": {
     "slide_type": "slide"
    }
   },
   "source": [
    "## Hash Table Collisions\n",
    "\n",
    "A **collision** occurs when more than one item maps to the same slot\n",
    "\n",
    "![Hash table with collision](figs/hash_table_collision.png \"Hash table with collision\")"
   ]
  },
  {
   "cell_type": "markdown",
   "metadata": {
    "slideshow": {
     "slide_type": "fragment"
    }
   },
   "source": [
    "The goal is to create a hash function that **minimizes the number of collisions (which you could do by using a large hash table, but this would take too much space), is easy to compute (such as divisions, or multiplications to avoid resources waste), and evenly distributes the items in the hash table (you do not want to leave too many empty spots).**"
   ]
  },
  {
   "cell_type": "markdown",
   "metadata": {
    "slideshow": {
     "slide_type": "slide"
    }
   },
   "source": [
    "## Hash Functions\n",
    "\n",
    "* The **remainder method** \n",
    "    * Guarantees that the result is within the range of slot names\n",
    "    * Because of this, the modulo arithmetic is typically present in some form in all hash functions"
   ]
  },
  {
   "cell_type": "markdown",
   "metadata": {
    "slideshow": {
     "slide_type": "fragment"
    }
   },
   "source": [
    "* The **folding method** \n",
    "    * Divide the item into equal-size pieces and add them to get the hash value; then use `%`\n",
    "    * E.g. 04/12/2017 = 04 + 12 + 20 +17 = 53 % 10 = 3 (if table length is 10)"
   ]
  },
  {
   "cell_type": "markdown",
   "metadata": {
    "slideshow": {
     "slide_type": "fragment"
    }
   },
   "source": [
    "* The **mid-square method** \n",
    "    * Square the item and then extract some portion of the resulting digits to get the hash value; then use `%`\n",
    "    * E.g. 77 = 77^2 = 5929 = 92 % 10 = 2 (if table length is 10)"
   ]
  },
  {
   "cell_type": "markdown",
   "metadata": {
    "slideshow": {
     "slide_type": "slide"
    }
   },
   "source": [
    "## Hash Functions for Strings \n",
    "\n",
    "* Map each character to an ordinal value and sum them to get the hash value; then use `%`\n",
    "* E.g. 'cat' = ord('c') + ord('a') + ord('t') = 99 + 97 + 116 = 312 % 10 = 2 (if table length is 10)"
   ]
  },
  {
   "cell_type": "code",
   "execution_count": 8,
   "metadata": {
    "slideshow": {
     "slide_type": "-"
    },
    "tags": []
   },
   "outputs": [
    {
     "name": "stdout",
     "output_type": "stream",
     "text": [
      "Help on built-in function ord in module builtins:\n",
      "\n",
      "ord(c, /)\n",
      "    Return the Unicode code point for a one-character string.\n",
      "\n",
      "99 97 116\n"
     ]
    },
    {
     "data": {
      "text/plain": [
       "2"
      ]
     },
     "execution_count": 8,
     "metadata": {},
     "output_type": "execute_result"
    }
   ],
   "source": [
    "help(ord)\n",
    "print(ord('c'), ord('a'), ord('t'))\n",
    "\n",
    "def hash(string, table_size):\n",
    "    summ = sum([ord(i) for i in string])\n",
    "    return summ % table_size\n",
    "\n",
    "hash('cat', 10)"
   ]
  },
  {
   "cell_type": "markdown",
   "metadata": {
    "slideshow": {
     "slide_type": "fragment"
    }
   },
   "source": [
    "* The problem is that anagrams will always map to the same slot\n",
    "* One way to fix this is to use the position of the character as a weight"
   ]
  },
  {
   "cell_type": "markdown",
   "metadata": {
    "slideshow": {
     "slide_type": "slide"
    }
   },
   "source": [
    "## Exercise 6: Hash Functions for Strings"
   ]
  },
  {
   "cell_type": "code",
   "execution_count": 74,
   "metadata": {
    "slideshow": {
     "slide_type": "-"
    }
   },
   "outputs": [
    {
     "name": "stdout",
     "output_type": "stream",
     "text": [
      "6 4\n"
     ]
    }
   ],
   "source": [
    "# Rewrite the hash function below to mutliply the ordinal value \n",
    "# for each character by the position of the character\n",
    "# Here you use the +1 because when i is 0 you will be losing the first letter of the word.\n",
    "\n",
    "def hash(string, table_size):\n",
    "    summ = sum([ord(string[i]) * (i + 1)  for i in range(len(string))])\n",
    "    return summ % table_size\n",
    "\n",
    "print(hash('cloud', 10), hash('could', 10))"
   ]
  },
  {
   "cell_type": "markdown",
   "metadata": {},
   "source": [
    "Second possible solution:"
   ]
  },
  {
   "cell_type": "code",
   "execution_count": 14,
   "metadata": {
    "slideshow": {
     "slide_type": "-"
    }
   },
   "outputs": [
    {
     "name": "stdout",
     "output_type": "stream",
     "text": [
      "6 4\n"
     ]
    }
   ],
   "source": [
    "# Rewrite the hash function below to mutliply the ordinal value \n",
    "# for each character by the position of the character\n",
    "\n",
    "def hash(string, table_size):\n",
    "    summ = sum([ord(stri) * (pos + 1)  for pos, stri in enumerate(string)])\n",
    "    return summ % table_size\n",
    "\n",
    "print(hash('cloud', 10), hash('could', 10))"
   ]
  },
  {
   "cell_type": "code",
   "execution_count": 12,
   "metadata": {},
   "outputs": [
    {
     "name": "stdout",
     "output_type": "stream",
     "text": [
      "0 h\n",
      "1 a\n",
      "2 h\n",
      "3 a\n",
      "4 h\n"
     ]
    }
   ],
   "source": [
    "for i, j in enumerate('hahah'):\n",
    "    print(i, j)"
   ]
  },
  {
   "cell_type": "markdown",
   "metadata": {
    "slideshow": {
     "slide_type": "slide"
    }
   },
   "source": [
    "## Resolving Collisions\n",
    " \n",
    "* Rehashing\n",
    "* Chaining\n"
   ]
  },
  {
   "cell_type": "markdown",
   "metadata": {
    "slideshow": {
     "slide_type": "slide"
    }
   },
   "source": [
    "## Rehashing\n",
    "\n",
    "* If a collision occurs, place item into the next available empty slot (starting from the beginnning, if necessary)\n",
    "* When searching, continue **probing** until item is found or until you encounter an empty slot\n",
    "* `rehash(pos) = (pos + skip) % table_size`"
   ]
  },
  {
   "cell_type": "markdown",
   "metadata": {
    "slideshow": {
     "slide_type": "fragment"
    }
   },
   "source": [
    "**Linear probing** (`skip = 1`)\n",
    "\n",
    "![Linear probing for collisions](figs/collision_linear_probing.png \"Linear probing for collisions\")"
   ]
  },
  {
   "cell_type": "markdown",
   "metadata": {
    "slideshow": {
     "slide_type": "fragment"
    }
   },
   "source": [
    "Other variants include **plus 3 probing** (`skip = 3`) and **quadratic probing** (`skip = 1, 4, 9, 16, ...`). Here every next step would multiply the step skip by 4\n",
    "        \n",
    "![Plus 3 probing for collisions](figs/collision_plus3_probing.png \"Plus 3 probing for collisions\")    \n"
   ]
  },
  {
   "cell_type": "markdown",
   "metadata": {
    "slideshow": {
     "slide_type": "slide"
    }
   },
   "source": [
    "## Chaining\n",
    "\n",
    "* If a collision occurs, still place item into the proper slot\n",
    "* When searching, use the hash function to generate the slot and then use a searching technique to find the item in the collection at that slot. More inefficient, because you would still have to search within the particular elements of this slot, but you get some of the benefits of hashing. \n",
    "\n",
    "![Hash table with collision](figs/hash_table_collision.png \"Hash table with collision\")"
   ]
  },
  {
   "cell_type": "markdown",
   "metadata": {
    "slideshow": {
     "slide_type": "fragment"
    }
   },
   "source": [
    "* In theory, hashing provides $O(1)$ searching\n",
    "* In practice, due to collisions, the runtime depends on the **load factor**, or $\\lambda = \\frac{n}{h}$, where $n$ is the number of items and $h$ is the size of the hash table\n",
    "\n",
    "\n",
    "* Normally using hashing makes sense if you need to run several queries (because the action of hashing itself will be O(n), in spite of the fact that you will run future queries on O(1)). If you only need to search once within a list, it is easier to simply iterate through it (O(n))."
   ]
  },
  {
   "cell_type": "markdown",
   "metadata": {
    "slideshow": {
     "slide_type": "slide"
    }
   },
   "source": [
    "## Searching and Sorting Algorithms\n",
    "\n",
    "* The best sorting algorithm is $O(n \\log n)$\n",
    "* To search an ordered list, use binary search, which is $O(\\log n)$ \n",
    "* To search an unordered list, the best we can do is $O(n)$\n",
    "* In practice, sorting and binary search is not always faster than linear search\n",
    "* Use hash tables for O(1) searches"
   ]
  },
  {
   "cell_type": "markdown",
   "metadata": {
    "slideshow": {
     "slide_type": "fragment"
    }
   },
   "source": [
    "-------\n",
    "\n",
    "* **Lab**: Functional programming in Python\n",
    "* **Next week**: Basic tree and graph algorithms, course summary, guidance for final project"
   ]
  }
 ],
 "metadata": {
  "celltoolbar": "Slideshow",
  "kernelspec": {
   "display_name": "Python 3 (ipykernel)",
   "language": "python",
   "name": "python3"
  },
  "language_info": {
   "codemirror_mode": {
    "name": "ipython",
    "version": 3
   },
   "file_extension": ".py",
   "mimetype": "text/x-python",
   "name": "python",
   "nbconvert_exporter": "python",
   "pygments_lexer": "ipython3",
   "version": "3.8.5"
  }
 },
 "nbformat": 4,
 "nbformat_minor": 4
}
