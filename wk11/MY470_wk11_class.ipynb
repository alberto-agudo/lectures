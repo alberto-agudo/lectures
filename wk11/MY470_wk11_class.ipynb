{
 "cells": [
  {
   "cell_type": "markdown",
   "metadata": {
    "slideshow": {
     "slide_type": "slide"
    }
   },
   "source": [
    "### MY470 Computer Programming\n",
    "# Useful Python Modules and Libraries\n",
    "### Week 11 Lab"
   ]
  },
  {
   "cell_type": "markdown",
   "metadata": {
    "slideshow": {
     "slide_type": "slide"
    }
   },
   "source": [
    "## Working with Dates: `datetime`\n",
    "\n",
    "https://docs.python.org/3/library/datetime.html"
   ]
  },
  {
   "cell_type": "code",
   "execution_count": 8,
   "metadata": {
    "slideshow": {
     "slide_type": "-"
    }
   },
   "outputs": [
    {
     "name": "stdout",
     "output_type": "stream",
     "text": [
      "<class 'datetime.datetime'> <class 'str'> 2002-02-25 15:51:15\n",
      "<class 'datetime.timedelta'> 1 day, 0:00:00\n",
      "<class 'datetime.timedelta'> 1 day, 0:00:00\n",
      "2002-04-15 15:51:15\n"
     ]
    }
   ],
   "source": [
    "from datetime import datetime, timedelta\n",
    "\n",
    "\n",
    "# Transform string into datetime object\n",
    "string = '2002-02-25 15:51:15'\n",
    "# Take a string and convert it into a datetime object.\n",
    "dt = datetime.strptime(string, \"%Y-%m-%d %H:%M:%S\") \n",
    "# Take a datetime object and convert it into a string.\n",
    "stringi = datetime.strftime(dt, \"%Y-%m-%d %H:%M:%S\") \n",
    "print(type(dt), type(stringi), dt)\n",
    "\n",
    "\n",
    "\n",
    "# Get difference between two dates\n",
    "\n",
    "day1 = dt - datetime(2002, 2, 24, 15, 51, 15)\n",
    "print(type(day1), day1)\n",
    "\n",
    "day2 = timedelta(hours=24)\n",
    "print(type(day2), day2)\n",
    "\n",
    "# You can combine time deltas with datetimes:\n",
    "\n",
    "weeks = timedelta(weeks = 7)\n",
    "print(dt + weeks)"
   ]
  },
  {
   "cell_type": "markdown",
   "metadata": {
    "slideshow": {
     "slide_type": "slide"
    }
   },
   "source": [
    "## Saving Python Objects to Disk: `pickle`\n",
    "\n",
    "https://docs.python.org/3/library/pickle.html"
   ]
  },
  {
   "cell_type": "code",
   "execution_count": 9,
   "metadata": {
    "slideshow": {
     "slide_type": "-"
    }
   },
   "outputs": [
    {
     "name": "stdout",
     "output_type": "stream",
     "text": [
      "<class 'dict'> {1: 'a', 2: 'b'}\n"
     ]
    }
   ],
   "source": [
    "import pickle\n",
    "\n",
    "# Note: Open files in binary mode\n",
    "\n",
    "# Pickle Python object\n",
    "obj = {1:'a', 2:'b'}\n",
    "\n",
    "# We give the object a file name (dict_pickle), that we write (wb), and we save it.\n",
    "with open ('dict_pickle', 'wb') as fw:\n",
    "    pickle.dump(obj, fw)\n",
    "\n",
    "# Unpickle saved Python object\n",
    "with open ('dict_pickle', 'rb') as fr:\n",
    "    obj_retrieved = pickle.load(fr)\n",
    "    \n",
    "print(type(obj_retrieved), obj_retrieved)\n",
    "\n",
    "# Pickling files store the data in binary mode, that's why it usees wb and rb.\n",
    "# Normally, when using Python you would use 'w' or 'r'.\n",
    "\n",
    "# Pickle is also really useful because normally, if you dumped a file into a .txt file\n",
    "# you would need to parse the datetimes as datetimes again (because they would\n",
    "# be read as strings). With pickle the datetime type of the variable is stored. "
   ]
  },
  {
   "cell_type": "code",
   "execution_count": 31,
   "metadata": {
    "slideshow": {
     "slide_type": "slide"
    },
    "tags": []
   },
   "outputs": [
    {
     "name": "stdout",
     "output_type": "stream",
     "text": [
      "[['Industrial_revolution ', datetime.datetime(2002, 2, 25, 15, 51, 15), 0, 2, 'Conversion_script'], ['Industrial_revolution ', datetime.datetime(2001, 8, 17, 14, 14, 23), 0, 1, 'Koyaanis_Qatsi'], ['Spitfire_(disambiguation) ', datetime.datetime(2002, 6, 20, 13, 0, 32), 0, 2, 'Uriyan']]\n"
     ]
    }
   ],
   "source": [
    "# Exercise 1: Read the file enwiki_2002_sample.txt and save the data \n",
    "# in a variable as a list. Make sure all data are in the correct\n",
    "# data type, e.g., save dates as datetime objects.\n",
    "# Print the first 3 elements of the list to confirm.\n",
    "\n",
    "# Another way to do it is with for line in open (for each line in the handle).\n",
    "data = []\n",
    "with open('enwiki_2002_sample.txt', 'r') as f:\n",
    "    f.readline()\n",
    "    for line in f.readlines():\n",
    "        #if not line.startswith('title'): \n",
    "            # Another way to avoid the header is readline before.\n",
    "        title, date, int1, int2, username =  line.rstrip().split('\\t')\n",
    "        data.append([title, datetime.strptime(date, \"%Y-%m-%d %H:%M:%S\"), int(int1), int(int2), username])\n",
    "        \n",
    "print(data[:3])    "
   ]
  },
  {
   "cell_type": "code",
   "execution_count": 35,
   "metadata": {
    "slideshow": {
     "slide_type": "-"
    },
    "tags": []
   },
   "outputs": [
    {
     "data": {
      "text/plain": [
       "[['Industrial_revolution ',\n",
       "  datetime.datetime(2002, 2, 25, 15, 51, 15),\n",
       "  0,\n",
       "  2,\n",
       "  'Conversion_script'],\n",
       " ['Industrial_revolution ',\n",
       "  datetime.datetime(2001, 8, 17, 14, 14, 23),\n",
       "  0,\n",
       "  1,\n",
       "  'Koyaanis_Qatsi'],\n",
       " ['Spitfire_(disambiguation) ',\n",
       "  datetime.datetime(2002, 6, 20, 13, 0, 32),\n",
       "  0,\n",
       "  2,\n",
       "  'Uriyan']]"
      ]
     },
     "execution_count": 35,
     "metadata": {},
     "output_type": "execute_result"
    }
   ],
   "source": [
    "# Exercise 2: Pickle the list variable from exercise 1. \n",
    "# Then load it back in memory from the pickle.\n",
    "with open('wiki_example', 'wb') as fw:\n",
    "    pickle.dump(data, fw)\n",
    "    \n",
    "with open('wiki_example', 'rb') as rw:\n",
    "    data_wiki = pickle.load(rw)\n",
    "    \n",
    "data_wiki[:3]\n",
    "# As expected, it preserves the data types. "
   ]
  },
  {
   "cell_type": "markdown",
   "metadata": {
    "slideshow": {
     "slide_type": "slide"
    }
   },
   "source": [
    "# Useful Libraries for Computational Social Science and Social Data Science\n",
    "\n",
    "* NumPy\n",
    "* Pandas\n",
    "* StatsModels\n",
    "* NetworkX\n",
    "* Scikit-learn\n",
    "* Matplotlib (introduced in week 10)"
   ]
  },
  {
   "cell_type": "markdown",
   "metadata": {
    "slideshow": {
     "slide_type": "slide"
    }
   },
   "source": [
    "## Working with Arrays and Matrices: `numpy`\n",
    "\n",
    "![NumPy](figs/numpy.png \"NumPy\")\n",
    "\n",
    "* Python library for operating with large multi-dimensional arrays and matrices\n",
    "* Partially written in C, so optimized for performance\n",
    "* Offers fast numerical computations and high-level math functions\n",
    "* Provides functionality similar to MATLAB (especially together with `scipy` and `matplotlib`)"
   ]
  },
  {
   "cell_type": "markdown",
   "metadata": {
    "slideshow": {
     "slide_type": "slide"
    }
   },
   "source": [
    "## NumPy Arrays\n",
    "\n",
    "* Multi-dimensional: 0 (scalar), 1 (vector), 2 (matrix), 3 (e.g., image), ...\n",
    "* Dense: all elements exist\n",
    "* Homogeneous: all elements are of the same type"
   ]
  },
  {
   "cell_type": "code",
   "execution_count": 36,
   "metadata": {
    "slideshow": {
     "slide_type": "-"
    }
   },
   "outputs": [
    {
     "name": "stdout",
     "output_type": "stream",
     "text": [
      "[[1 2 3]\n",
      " [4 5 6]]\n",
      "<class 'numpy.ndarray'>\n",
      "2 (2, 3) int64\n"
     ]
    }
   ],
   "source": [
    "import numpy as np\n",
    "\n",
    "# This is a matrix (2d array).\n",
    "a = np.array([[1, 2, 3], [4, 5, 6]])\n",
    "print(a)\n",
    "print(type(a))\n",
    "print(a.ndim, a.shape, a.dtype) # Notice the lack of () - these are properties, not methods"
   ]
  },
  {
   "cell_type": "markdown",
   "metadata": {
    "slideshow": {
     "slide_type": "slide"
    }
   },
   "source": [
    "## Creating Arrays"
   ]
  },
  {
   "cell_type": "code",
   "execution_count": 38,
   "metadata": {
    "slideshow": {
     "slide_type": "-"
    }
   },
   "outputs": [
    {
     "data": {
      "text/plain": [
       "(3, 3)"
      ]
     },
     "execution_count": 38,
     "metadata": {},
     "output_type": "execute_result"
    }
   ],
   "source": [
    "a = np.zeros((3, 3))  # create a 3x3 array of float zeros\n",
    "a.shape"
   ]
  },
  {
   "cell_type": "code",
   "execution_count": 39,
   "metadata": {
    "slideshow": {
     "slide_type": "fragment"
    },
    "tags": []
   },
   "outputs": [
    {
     "data": {
      "text/plain": [
       "array([[1, 1, 1],\n",
       "       [1, 1, 1],\n",
       "       [1, 1, 1],\n",
       "       [1, 1, 1]], dtype=int16)"
      ]
     },
     "execution_count": 39,
     "metadata": {},
     "output_type": "execute_result"
    }
   ],
   "source": [
    "# NumPy is implemented in C and supports more numerical types than Python\n",
    "# See: https://docs.scipy.org/doc/numpy/user/basics.types.html\n",
    "a = np.ones((4, 3), dtype = np.int16)  # create a 4x3 array of integer ones where integer type (-32768 to 32767)\n",
    "a"
   ]
  },
  {
   "cell_type": "code",
   "execution_count": 40,
   "metadata": {
    "slideshow": {
     "slide_type": "fragment"
    }
   },
   "outputs": [
    {
     "data": {
      "text/plain": [
       "array([[0.15750374, 0.07321732, 0.2198178 , 0.2908212 ],\n",
       "       [0.19800874, 0.70640949, 0.65318877, 0.30708126]])"
      ]
     },
     "execution_count": 40,
     "metadata": {},
     "output_type": "execute_result"
    }
   ],
   "source": [
    "r = np.random.random((2, 4))  # create a 2x4 array of floats drawn uniformly from [0., 1.)\n",
    "r"
   ]
  },
  {
   "cell_type": "markdown",
   "metadata": {
    "slideshow": {
     "slide_type": "slide"
    }
   },
   "source": [
    "## Reshaping and Transposing Arrays"
   ]
  },
  {
   "cell_type": "code",
   "execution_count": 41,
   "metadata": {
    "slideshow": {
     "slide_type": "-"
    }
   },
   "outputs": [
    {
     "name": "stdout",
     "output_type": "stream",
     "text": [
      "[0 1 2 3 4 5 6 7 8 9]\n",
      "[[0 1]\n",
      " [2 3]\n",
      " [4 5]\n",
      " [6 7]\n",
      " [8 9]]\n"
     ]
    }
   ],
   "source": [
    "a = np.arange(10)  # Creates an array of numbers from 0 to input (like Python range() but step could be non-integer)\n",
    "print(a)\n",
    "a = a.reshape(5, 2) # reshape to 5x2\n",
    "print(a)"
   ]
  },
  {
   "cell_type": "code",
   "execution_count": 43,
   "metadata": {
    "slideshow": {
     "slide_type": "fragment"
    }
   },
   "outputs": [
    {
     "data": {
      "text/plain": [
       "array([[0, 2, 4, 6, 8],\n",
       "       [1, 3, 5, 7, 9]])"
      ]
     },
     "execution_count": 43,
     "metadata": {},
     "output_type": "execute_result"
    }
   ],
   "source": [
    "at = np.transpose(a)  # reverse dimensions of a\n",
    "at"
   ]
  },
  {
   "cell_type": "markdown",
   "metadata": {
    "slideshow": {
     "slide_type": "slide"
    }
   },
   "source": [
    "## Indexing Arrays"
   ]
  },
  {
   "cell_type": "code",
   "execution_count": 44,
   "metadata": {
    "slideshow": {
     "slide_type": "-"
    }
   },
   "outputs": [
    {
     "name": "stdout",
     "output_type": "stream",
     "text": [
      "3\n",
      "[4 5 6]\n",
      "[1 2 6]\n"
     ]
    }
   ],
   "source": [
    "a = np.array([[1, 2, 3], [4, 5, 6]])\n",
    "print(a[0, -1])  # first row, last column\n",
    "print(a[1, :])  # entire second row \n",
    "c = np.array([[True, True, False], [False, False, True]]) # fancy indexing\n",
    "print(a[c])  # elements of a that are True in c "
   ]
  },
  {
   "cell_type": "markdown",
   "metadata": {
    "slideshow": {
     "slide_type": "slide"
    }
   },
   "source": [
    "## Mathematical Operations with Arrays\n",
    "\n",
    "* Arithmetic operations are element-wise"
   ]
  },
  {
   "cell_type": "code",
   "execution_count": 47,
   "metadata": {
    "slideshow": {
     "slide_type": "-"
    }
   },
   "outputs": [
    {
     "name": "stdout",
     "output_type": "stream",
     "text": [
      "[[ 10  40  90]\n",
      " [160 250 360]]\n",
      "[[2 3 4]\n",
      " [5 6 7]]\n",
      "[1, 2, 3, 10, 20, 30]\n"
     ]
    }
   ],
   "source": [
    "b = np.array([[10, 20, 30], [40, 50, 60]])\n",
    "print(a * b)\n",
    "print(a + 1)  # arrays must be same shape (although you can add scalars)\n",
    "\n",
    "print([1, 2, 3] + [10, 20, 30]) # in comparison, lists get concatenated"
   ]
  },
  {
   "cell_type": "code",
   "execution_count": 35,
   "metadata": {
    "slideshow": {
     "slide_type": "-"
    }
   },
   "outputs": [
    {
     "name": "stdout",
     "output_type": "stream",
     "text": [
      "[[   2.71828183    7.3890561    20.08553692]\n",
      " [  54.59815003  148.4131591   403.42879349]]\n",
      "[[ 3.16227766  4.47213595  5.47722558]\n",
      " [ 6.32455532  7.07106781  7.74596669]]\n"
     ]
    }
   ],
   "source": [
    "print(np.exp(a))\n",
    "print(np.sqrt(b))"
   ]
  },
  {
   "cell_type": "markdown",
   "metadata": {
    "slideshow": {
     "slide_type": "fragment"
    }
   },
   "source": [
    "* Logical operations return a Boolean array"
   ]
  },
  {
   "cell_type": "code",
   "execution_count": 16,
   "metadata": {
    "slideshow": {
     "slide_type": "-"
    }
   },
   "outputs": [
    {
     "data": {
      "text/plain": [
       "array([[False,  True,  True],\n",
       "       [ True,  True,  True]], dtype=bool)"
      ]
     },
     "execution_count": 16,
     "metadata": {},
     "output_type": "execute_result"
    }
   ],
   "source": [
    "b > 15"
   ]
  },
  {
   "cell_type": "markdown",
   "metadata": {
    "slideshow": {
     "slide_type": "fragment"
    }
   },
   "source": [
    "* Matrix multiplication with `@`"
   ]
  },
  {
   "cell_type": "code",
   "execution_count": 38,
   "metadata": {
    "slideshow": {
     "slide_type": "-"
    },
    "tags": []
   },
   "outputs": [
    {
     "data": {
      "text/plain": [
       "array([[140, 320],\n",
       "       [320, 770]])"
      ]
     },
     "execution_count": 38,
     "metadata": {},
     "output_type": "execute_result"
    }
   ],
   "source": [
    "a @ np.transpose(b)"
   ]
  },
  {
   "cell_type": "markdown",
   "metadata": {
    "slideshow": {
     "slide_type": "slide"
    }
   },
   "source": [
    "## Working with DataFrames: `pandas`\n",
    "\n",
    "![Pandas](figs/pandas.png \"Pandas\")\n",
    "\n",
    "* Python library for data manipulation and analysis \n",
    "    * The name is derived from **pan**el **da**ta = **pandas**\n",
    "    * Partially written in C, so optimized for performance\n",
    "* Key features\n",
    "    * DataFrame object to hold and manipulate data\n",
    "    * Read from and write in multiple file formats\n",
    "    * Fancy indexing (including hierarchical)\n",
    "    * Operations to handle missing data\n",
    "    * Operations to slice, subset, split, reshape, pivot, merge, and join data sets"
   ]
  },
  {
   "cell_type": "markdown",
   "metadata": {
    "slideshow": {
     "slide_type": "slide"
    }
   },
   "source": [
    "## `DataFrame`\n",
    "\n",
    "* Primary `pandas` object\n",
    "* 2-d heterogeneous tabular data structure with axes labels (rows and columns)\n",
    "* like a `dict` for lists (more precisely, `pd.Series`)"
   ]
  },
  {
   "cell_type": "code",
   "execution_count": 1,
   "metadata": {
    "scrolled": true,
    "slideshow": {
     "slide_type": "-"
    }
   },
   "outputs": [],
   "source": [
    "import pandas as pd\n",
    "import numpy as np"
   ]
  },
  {
   "cell_type": "code",
   "execution_count": 3,
   "metadata": {
    "scrolled": true,
    "slideshow": {
     "slide_type": "-"
    }
   },
   "outputs": [
    {
     "data": {
      "text/html": [
       "<div>\n",
       "<table border=\"1\" class=\"dataframe\">\n",
       "  <thead>\n",
       "    <tr style=\"text-align: right;\">\n",
       "      <th></th>\n",
       "      <th>Col1</th>\n",
       "      <th>Col2</th>\n",
       "    </tr>\n",
       "  </thead>\n",
       "  <tbody>\n",
       "    <tr>\n",
       "      <th>0</th>\n",
       "      <td>1</td>\n",
       "      <td>a</td>\n",
       "    </tr>\n",
       "    <tr>\n",
       "      <th>1</th>\n",
       "      <td>2</td>\n",
       "      <td>b</td>\n",
       "    </tr>\n",
       "    <tr>\n",
       "      <th>2</th>\n",
       "      <td>3</td>\n",
       "      <td>NaN</td>\n",
       "    </tr>\n",
       "  </tbody>\n",
       "</table>\n",
       "</div>"
      ],
      "text/plain": [
       "   Col1 Col2\n",
       "0     1    a\n",
       "1     2    b\n",
       "2     3  NaN"
      ]
     },
     "execution_count": 3,
     "metadata": {},
     "output_type": "execute_result"
    }
   ],
   "source": [
    "# Create DataFrame from dictionary\n",
    "d = {'Col1': [1, 2, 3], 'Col2': ['a', 'b', np.nan]}\n",
    "df1 = pd.DataFrame(data=d)\n",
    "df1"
   ]
  },
  {
   "cell_type": "code",
   "execution_count": 4,
   "metadata": {
    "scrolled": true,
    "slideshow": {
     "slide_type": "fragment"
    }
   },
   "outputs": [
    {
     "name": "stdout",
     "output_type": "stream",
     "text": [
      "      Col1 Col2\n",
      "Row1     1    a\n",
      "Row2     2    b\n",
      "Row3     3  NaN\n"
     ]
    }
   ],
   "source": [
    "# Create DataFrame from list or array\n",
    "df2 = pd.DataFrame(data=[[1, 'a'], [2, 'b'], [3, np.nan]], \n",
    "                  index=['Row1', 'Row2', 'Row3'], columns=['Col1', 'Col2'])\n",
    "print(df2)\n"
   ]
  },
  {
   "cell_type": "markdown",
   "metadata": {
    "slideshow": {
     "slide_type": "slide"
    }
   },
   "source": [
    "## Importing and Viewing Data"
   ]
  },
  {
   "cell_type": "code",
   "execution_count": 3,
   "metadata": {
    "scrolled": true,
    "slideshow": {
     "slide_type": "-"
    }
   },
   "outputs": [
    {
     "name": "stdout",
     "output_type": "stream",
     "text": [
      "  state region    pop  SATV  SATM  percent  dollars  pay\n",
      "0    AL    ESC   4041   470   514        8    3.648   27\n",
      "1    AK    PAC    550   438   476       42    7.887   43\n",
      "2    AZ    MTN   3665   445   497       25    4.231   30\n",
      "3    AR    WSC   2351   470   511        6    3.334   23\n",
      "4    CA    PAC  29760   419   484       45    4.826   39\n"
     ]
    }
   ],
   "source": [
    "# Data source: https://vincentarelbundock.github.io/Rdatasets/doc/carData/States.html\n",
    "\n",
    "df3 = pd.read_csv('States.csv')\n",
    "print(df3.head())"
   ]
  },
  {
   "cell_type": "code",
   "execution_count": 26,
   "metadata": {
    "scrolled": true,
    "slideshow": {
     "slide_type": "fragment"
    }
   },
   "outputs": [
    {
     "name": "stdout",
     "output_type": "stream",
     "text": [
      "Index(['state', 'region', 'pop', 'SATV', 'SATM', 'percent', 'dollars', 'pay'], dtype='object')\n",
      "state       object\n",
      "region      object\n",
      "pop          int64\n",
      "SATV         int64\n",
      "SATM         int64\n",
      "percent      int64\n",
      "dollars    float64\n",
      "pay          int64\n",
      "dtype: object\n",
      "                pop        SATV        SATM    percent    dollars        pay\n",
      "count     51.000000   51.000000   51.000000  51.000000  51.000000  51.000000\n",
      "mean    4876.647059  448.156863  497.392157  33.745098   5.175490  30.941176\n",
      "std     5439.202691   30.821014   34.568817  24.073922   1.376166   5.308151\n",
      "min      454.000000  397.000000  437.000000   4.000000   2.993000  22.000000\n",
      "25%     1215.000000  422.500000  470.000000  11.500000   4.354000  27.500000\n",
      "50%     3294.000000  443.000000  490.000000  25.000000   5.045000  30.000000\n",
      "75%     5780.000000  474.500000  522.500000  57.500000   5.689500  33.500000\n",
      "max    29760.000000  511.000000  577.000000  74.000000   9.159000  43.000000\n"
     ]
    }
   ],
   "source": [
    "print(df3.columns)\n",
    "print(df3.dtypes)\n",
    "print(df3.describe())"
   ]
  },
  {
   "cell_type": "markdown",
   "metadata": {
    "slideshow": {
     "slide_type": "slide"
    }
   },
   "source": [
    "## Selecting Data"
   ]
  },
  {
   "cell_type": "code",
   "execution_count": 27,
   "metadata": {
    "slideshow": {
     "slide_type": "-"
    }
   },
   "outputs": [
    {
     "data": {
      "text/plain": [
       "0     AL\n",
       "1     AK\n",
       "2     AZ\n",
       "3     AR\n",
       "4     CA\n",
       "5     CO\n",
       "6     CN\n",
       "7     DE\n",
       "8     DC\n",
       "9     FL\n",
       "10    GA\n",
       "11    HI\n",
       "12    ID\n",
       "13    IL\n",
       "14    IN\n",
       "15    IA\n",
       "16    KS\n",
       "17    KY\n",
       "18    LA\n",
       "19    ME\n",
       "20    MD\n",
       "21    MA\n",
       "22    MI\n",
       "23    MN\n",
       "24    MS\n",
       "25    MO\n",
       "26    MT\n",
       "27    NE\n",
       "28    NV\n",
       "29    NH\n",
       "30    NJ\n",
       "31    NM\n",
       "32    NY\n",
       "33    NC\n",
       "34    ND\n",
       "35    OH\n",
       "36    OK\n",
       "37    OR\n",
       "38    PA\n",
       "39    RI\n",
       "40    SC\n",
       "41    SD\n",
       "42    TN\n",
       "43    TX\n",
       "44    UT\n",
       "45    VT\n",
       "46    VA\n",
       "47    WA\n",
       "48    WV\n",
       "49    WI\n",
       "50    WY\n",
       "Name: state, dtype: object"
      ]
     },
     "execution_count": 27,
     "metadata": {},
     "output_type": "execute_result"
    }
   ],
   "source": [
    "df3.state  # Select column; equivalent to df3['state']"
   ]
  },
  {
   "cell_type": "code",
   "execution_count": 28,
   "metadata": {
    "scrolled": true,
    "slideshow": {
     "slide_type": "fragment"
    }
   },
   "outputs": [
    {
     "data": {
      "text/html": [
       "<div>\n",
       "<table border=\"1\" class=\"dataframe\">\n",
       "  <thead>\n",
       "    <tr style=\"text-align: right;\">\n",
       "      <th></th>\n",
       "      <th>state</th>\n",
       "      <th>region</th>\n",
       "      <th>pop</th>\n",
       "      <th>SATV</th>\n",
       "      <th>SATM</th>\n",
       "      <th>percent</th>\n",
       "      <th>dollars</th>\n",
       "      <th>pay</th>\n",
       "    </tr>\n",
       "  </thead>\n",
       "  <tbody>\n",
       "    <tr>\n",
       "      <th>0</th>\n",
       "      <td>AL</td>\n",
       "      <td>ESC</td>\n",
       "      <td>4041</td>\n",
       "      <td>470</td>\n",
       "      <td>514</td>\n",
       "      <td>8</td>\n",
       "      <td>3.648</td>\n",
       "      <td>27</td>\n",
       "    </tr>\n",
       "    <tr>\n",
       "      <th>1</th>\n",
       "      <td>AK</td>\n",
       "      <td>PAC</td>\n",
       "      <td>550</td>\n",
       "      <td>438</td>\n",
       "      <td>476</td>\n",
       "      <td>42</td>\n",
       "      <td>7.887</td>\n",
       "      <td>43</td>\n",
       "    </tr>\n",
       "    <tr>\n",
       "      <th>2</th>\n",
       "      <td>AZ</td>\n",
       "      <td>MTN</td>\n",
       "      <td>3665</td>\n",
       "      <td>445</td>\n",
       "      <td>497</td>\n",
       "      <td>25</td>\n",
       "      <td>4.231</td>\n",
       "      <td>30</td>\n",
       "    </tr>\n",
       "  </tbody>\n",
       "</table>\n",
       "</div>"
      ],
      "text/plain": [
       "  state region   pop  SATV  SATM  percent  dollars  pay\n",
       "0    AL    ESC  4041   470   514        8    3.648   27\n",
       "1    AK    PAC   550   438   476       42    7.887   43\n",
       "2    AZ    MTN  3665   445   497       25    4.231   30"
      ]
     },
     "execution_count": 28,
     "metadata": {},
     "output_type": "execute_result"
    }
   ],
   "source": [
    "df3[:3] # Select data by rows"
   ]
  },
  {
   "cell_type": "code",
   "execution_count": 29,
   "metadata": {
    "slideshow": {
     "slide_type": "fragment"
    }
   },
   "outputs": [
    {
     "data": {
      "text/html": [
       "<div>\n",
       "<table border=\"1\" class=\"dataframe\">\n",
       "  <thead>\n",
       "    <tr style=\"text-align: right;\">\n",
       "      <th></th>\n",
       "      <th>state</th>\n",
       "      <th>region</th>\n",
       "      <th>pop</th>\n",
       "      <th>SATV</th>\n",
       "      <th>SATM</th>\n",
       "      <th>percent</th>\n",
       "      <th>dollars</th>\n",
       "      <th>pay</th>\n",
       "    </tr>\n",
       "  </thead>\n",
       "  <tbody>\n",
       "    <tr>\n",
       "      <th>4</th>\n",
       "      <td>CA</td>\n",
       "      <td>PAC</td>\n",
       "      <td>29760</td>\n",
       "      <td>419</td>\n",
       "      <td>484</td>\n",
       "      <td>45</td>\n",
       "      <td>4.826</td>\n",
       "      <td>39</td>\n",
       "    </tr>\n",
       "    <tr>\n",
       "      <th>9</th>\n",
       "      <td>FL</td>\n",
       "      <td>SA</td>\n",
       "      <td>12938</td>\n",
       "      <td>418</td>\n",
       "      <td>466</td>\n",
       "      <td>44</td>\n",
       "      <td>5.154</td>\n",
       "      <td>30</td>\n",
       "    </tr>\n",
       "    <tr>\n",
       "      <th>13</th>\n",
       "      <td>IL</td>\n",
       "      <td>ENC</td>\n",
       "      <td>11431</td>\n",
       "      <td>466</td>\n",
       "      <td>528</td>\n",
       "      <td>16</td>\n",
       "      <td>5.062</td>\n",
       "      <td>34</td>\n",
       "    </tr>\n",
       "    <tr>\n",
       "      <th>32</th>\n",
       "      <td>NY</td>\n",
       "      <td>MA</td>\n",
       "      <td>17990</td>\n",
       "      <td>412</td>\n",
       "      <td>470</td>\n",
       "      <td>70</td>\n",
       "      <td>8.500</td>\n",
       "      <td>42</td>\n",
       "    </tr>\n",
       "    <tr>\n",
       "      <th>35</th>\n",
       "      <td>OH</td>\n",
       "      <td>ENC</td>\n",
       "      <td>10847</td>\n",
       "      <td>450</td>\n",
       "      <td>499</td>\n",
       "      <td>22</td>\n",
       "      <td>5.639</td>\n",
       "      <td>32</td>\n",
       "    </tr>\n",
       "    <tr>\n",
       "      <th>38</th>\n",
       "      <td>PA</td>\n",
       "      <td>MA</td>\n",
       "      <td>11882</td>\n",
       "      <td>420</td>\n",
       "      <td>463</td>\n",
       "      <td>64</td>\n",
       "      <td>6.534</td>\n",
       "      <td>36</td>\n",
       "    </tr>\n",
       "    <tr>\n",
       "      <th>43</th>\n",
       "      <td>TX</td>\n",
       "      <td>WSC</td>\n",
       "      <td>16987</td>\n",
       "      <td>413</td>\n",
       "      <td>461</td>\n",
       "      <td>42</td>\n",
       "      <td>4.238</td>\n",
       "      <td>28</td>\n",
       "    </tr>\n",
       "  </tbody>\n",
       "</table>\n",
       "</div>"
      ],
      "text/plain": [
       "   state region    pop  SATV  SATM  percent  dollars  pay\n",
       "4     CA    PAC  29760   419   484       45    4.826   39\n",
       "9     FL     SA  12938   418   466       44    5.154   30\n",
       "13    IL    ENC  11431   466   528       16    5.062   34\n",
       "32    NY     MA  17990   412   470       70    8.500   42\n",
       "35    OH    ENC  10847   450   499       22    5.639   32\n",
       "38    PA     MA  11882   420   463       64    6.534   36\n",
       "43    TX    WSC  16987   413   461       42    4.238   28"
      ]
     },
     "execution_count": 29,
     "metadata": {},
     "output_type": "execute_result"
    }
   ],
   "source": [
    "df3[df3['pop'] > 10000]  # Select data by column value"
   ]
  },
  {
   "cell_type": "markdown",
   "metadata": {
    "slideshow": {
     "slide_type": "slide"
    }
   },
   "source": [
    "## Grouping"
   ]
  },
  {
   "cell_type": "code",
   "execution_count": 30,
   "metadata": {
    "scrolled": true,
    "slideshow": {
     "slide_type": "-"
    }
   },
   "outputs": [
    {
     "data": {
      "text/html": [
       "<div>\n",
       "<table border=\"1\" class=\"dataframe\">\n",
       "  <thead>\n",
       "    <tr style=\"text-align: right;\">\n",
       "      <th></th>\n",
       "      <th>state</th>\n",
       "      <th>region</th>\n",
       "      <th>pop</th>\n",
       "      <th>SATV</th>\n",
       "      <th>SATM</th>\n",
       "      <th>percent</th>\n",
       "      <th>dollars</th>\n",
       "      <th>pay</th>\n",
       "      <th>SAT</th>\n",
       "      <th>above-avg</th>\n",
       "    </tr>\n",
       "  </thead>\n",
       "  <tbody>\n",
       "    <tr>\n",
       "      <th>0</th>\n",
       "      <td>AL</td>\n",
       "      <td>ESC</td>\n",
       "      <td>4041</td>\n",
       "      <td>470</td>\n",
       "      <td>514</td>\n",
       "      <td>8</td>\n",
       "      <td>3.648</td>\n",
       "      <td>27</td>\n",
       "      <td>984</td>\n",
       "      <td>True</td>\n",
       "    </tr>\n",
       "    <tr>\n",
       "      <th>1</th>\n",
       "      <td>AK</td>\n",
       "      <td>PAC</td>\n",
       "      <td>550</td>\n",
       "      <td>438</td>\n",
       "      <td>476</td>\n",
       "      <td>42</td>\n",
       "      <td>7.887</td>\n",
       "      <td>43</td>\n",
       "      <td>914</td>\n",
       "      <td>False</td>\n",
       "    </tr>\n",
       "    <tr>\n",
       "      <th>2</th>\n",
       "      <td>AZ</td>\n",
       "      <td>MTN</td>\n",
       "      <td>3665</td>\n",
       "      <td>445</td>\n",
       "      <td>497</td>\n",
       "      <td>25</td>\n",
       "      <td>4.231</td>\n",
       "      <td>30</td>\n",
       "      <td>942</td>\n",
       "      <td>True</td>\n",
       "    </tr>\n",
       "    <tr>\n",
       "      <th>3</th>\n",
       "      <td>AR</td>\n",
       "      <td>WSC</td>\n",
       "      <td>2351</td>\n",
       "      <td>470</td>\n",
       "      <td>511</td>\n",
       "      <td>6</td>\n",
       "      <td>3.334</td>\n",
       "      <td>23</td>\n",
       "      <td>981</td>\n",
       "      <td>True</td>\n",
       "    </tr>\n",
       "    <tr>\n",
       "      <th>4</th>\n",
       "      <td>CA</td>\n",
       "      <td>PAC</td>\n",
       "      <td>29760</td>\n",
       "      <td>419</td>\n",
       "      <td>484</td>\n",
       "      <td>45</td>\n",
       "      <td>4.826</td>\n",
       "      <td>39</td>\n",
       "      <td>903</td>\n",
       "      <td>False</td>\n",
       "    </tr>\n",
       "  </tbody>\n",
       "</table>\n",
       "</div>"
      ],
      "text/plain": [
       "  state region    pop  SATV  SATM  percent  dollars  pay  SAT above-avg\n",
       "0    AL    ESC   4041   470   514        8    3.648   27  984      True\n",
       "1    AK    PAC    550   438   476       42    7.887   43  914     False\n",
       "2    AZ    MTN   3665   445   497       25    4.231   30  942      True\n",
       "3    AR    WSC   2351   470   511        6    3.334   23  981      True\n",
       "4    CA    PAC  29760   419   484       45    4.826   39  903     False"
      ]
     },
     "execution_count": 30,
     "metadata": {},
     "output_type": "execute_result"
    }
   ],
   "source": [
    "# Add a column that indicates whether state performed above median on SAT\n",
    "df3['SAT'] = df3['SATV'] + df3['SATM']\n",
    "df3['above-avg'] = df3['SAT'] > df3['SAT'].median()\n",
    "df3.head()"
   ]
  },
  {
   "cell_type": "code",
   "execution_count": 31,
   "metadata": {
    "slideshow": {
     "slide_type": "fragment"
    }
   },
   "outputs": [
    {
     "data": {
      "text/html": [
       "<div>\n",
       "<table border=\"1\" class=\"dataframe\">\n",
       "  <thead>\n",
       "    <tr style=\"text-align: right;\">\n",
       "      <th></th>\n",
       "      <th>pop</th>\n",
       "      <th>SATV</th>\n",
       "      <th>SATM</th>\n",
       "      <th>percent</th>\n",
       "      <th>dollars</th>\n",
       "      <th>pay</th>\n",
       "      <th>SAT</th>\n",
       "    </tr>\n",
       "    <tr>\n",
       "      <th>above-avg</th>\n",
       "      <th></th>\n",
       "      <th></th>\n",
       "      <th></th>\n",
       "      <th></th>\n",
       "      <th></th>\n",
       "      <th></th>\n",
       "      <th></th>\n",
       "    </tr>\n",
       "  </thead>\n",
       "  <tbody>\n",
       "    <tr>\n",
       "      <th>False</th>\n",
       "      <td>6047.461538</td>\n",
       "      <td>422.076923</td>\n",
       "      <td>468.423077</td>\n",
       "      <td>54.615385</td>\n",
       "      <td>5.940538</td>\n",
       "      <td>33.807692</td>\n",
       "      <td>890.5</td>\n",
       "    </tr>\n",
       "    <tr>\n",
       "      <th>True</th>\n",
       "      <td>3659.000000</td>\n",
       "      <td>475.280000</td>\n",
       "      <td>527.520000</td>\n",
       "      <td>12.040000</td>\n",
       "      <td>4.379840</td>\n",
       "      <td>27.960000</td>\n",
       "      <td>1002.8</td>\n",
       "    </tr>\n",
       "  </tbody>\n",
       "</table>\n",
       "</div>"
      ],
      "text/plain": [
       "                   pop        SATV        SATM    percent   dollars  \\\n",
       "above-avg                                                             \n",
       "False      6047.461538  422.076923  468.423077  54.615385  5.940538   \n",
       "True       3659.000000  475.280000  527.520000  12.040000  4.379840   \n",
       "\n",
       "                 pay     SAT  \n",
       "above-avg                     \n",
       "False      33.807692   890.5  \n",
       "True       27.960000  1002.8  "
      ]
     },
     "execution_count": 31,
     "metadata": {},
     "output_type": "execute_result"
    }
   ],
   "source": [
    "# Get mean indicators by SAT performance\n",
    "df3.groupby('above-avg').mean()"
   ]
  },
  {
   "cell_type": "markdown",
   "metadata": {
    "slideshow": {
     "slide_type": "slide"
    }
   },
   "source": [
    "## Estimating Statistical Models: `statsmodels`\n",
    "\n",
    "![Statsmodels](figs/statsmodels_hybi_banner.png \"Statsmodels\")\n",
    "\n",
    "* Python library for estimating statistical models and conducting statistical tests\n",
    "* Uses `numpy` for estimation\n",
    "* Integrates with `pandas` for data handling\n",
    "* Provides an `R`-like formula interface"
   ]
  },
  {
   "cell_type": "markdown",
   "metadata": {
    "slideshow": {
     "slide_type": "slide"
    }
   },
   "source": [
    "## Typical Steps\n",
    "\n",
    "1. Get data (`pandas`)\n",
    "* Inspect data (`pandas`, `matplotlib`)\n",
    "* Define and fit model (`statsmodels`)\n",
    "* Inspect model results (`statsmodels`, `matplotlib`)\n",
    "* Inspect model fit (`statsmodels`, `matplotlib`)"
   ]
  },
  {
   "cell_type": "markdown",
   "metadata": {
    "slideshow": {
     "slide_type": "slide"
    }
   },
   "source": [
    "## OLS Example: Inspect Data"
   ]
  },
  {
   "cell_type": "code",
   "execution_count": 19,
   "metadata": {
    "slideshow": {
     "slide_type": "-"
    }
   },
   "outputs": [
    {
     "name": "stdout",
     "output_type": "stream",
     "text": [
      "  state region    pop  SATV  SATM  percent  dollars  pay\n",
      "0    AL    ESC   4041   470   514        8    3.648   27\n",
      "1    AK    PAC    550   438   476       42    7.887   43\n",
      "2    AZ    MTN   3665   445   497       25    4.231   30\n",
      "3    AR    WSC   2351   470   511        6    3.334   23\n",
      "4    CA    PAC  29760   419   484       45    4.826   39\n"
     ]
    }
   ],
   "source": [
    "import numpy as np\n",
    "import pandas as pd\n",
    "import statsmodels.api as sm\n",
    "import statsmodels.formula.api as smf\n",
    "\n",
    "# Get data\n",
    "df = pd.read_csv('States.csv')\n",
    "print(df.head())"
   ]
  },
  {
   "cell_type": "code",
   "execution_count": 32,
   "metadata": {
    "slideshow": {
     "slide_type": "fragment"
    }
   },
   "outputs": [
    {
     "name": "stdout",
     "output_type": "stream",
     "text": [
      "                pop        SATV        SATM    percent    dollars        pay\n",
      "count     51.000000   51.000000   51.000000  51.000000  51.000000  51.000000\n",
      "mean    4876.647059  448.156863  497.392157  33.745098   5.175490  30.941176\n",
      "std     5439.202691   30.821014   34.568817  24.073922   1.376166   5.308151\n",
      "min      454.000000  397.000000  437.000000   4.000000   2.993000  22.000000\n",
      "25%     1215.000000  422.500000  470.000000  11.500000   4.354000  27.500000\n",
      "50%     3294.000000  443.000000  490.000000  25.000000   5.045000  30.000000\n",
      "75%     5780.000000  474.500000  522.500000  57.500000   5.689500  33.500000\n",
      "max    29760.000000  511.000000  577.000000  74.000000   9.159000  43.000000\n"
     ]
    }
   ],
   "source": [
    "# Inspect data\n",
    "print(df.describe())"
   ]
  },
  {
   "cell_type": "markdown",
   "metadata": {
    "slideshow": {
     "slide_type": "slide"
    }
   },
   "source": [
    "## OLS Example: Fit Model"
   ]
  },
  {
   "cell_type": "code",
   "execution_count": 31,
   "metadata": {
    "slideshow": {
     "slide_type": "-"
    }
   },
   "outputs": [
    {
     "name": "stdout",
     "output_type": "stream",
     "text": [
      "                            OLS Regression Results                            \n",
      "==============================================================================\n",
      "Dep. Variable:                   SATV   R-squared:                       0.782\n",
      "Model:                            OLS   Adj. R-squared:                  0.763\n",
      "Method:                 Least Squares   F-statistic:                     41.35\n",
      "Date:                Tue, 11 Sep 2018   Prob (F-statistic):           1.11e-14\n",
      "Time:                        10:39:43   Log-Likelihood:                -207.81\n",
      "No. Observations:                  51   AIC:                             425.6\n",
      "Df Residuals:                      46   BIC:                             435.3\n",
      "Df Model:                           4                                         \n",
      "Covariance Type:            nonrobust                                         \n",
      "===============================================================================\n",
      "                  coef    std err          t      P>|t|      [95.0% Conf. Int.]\n",
      "-------------------------------------------------------------------------------\n",
      "Intercept     508.6092     19.627     25.914      0.000       469.102   548.116\n",
      "percent        -1.2205      0.127     -9.592      0.000        -1.477    -0.964\n",
      "dollars         5.1671      3.320      1.556      0.126        -1.515    11.850\n",
      "pay            -0.4942      0.832     -0.594      0.555        -2.168     1.180\n",
      "np.log(pop)    -3.8421      2.261     -1.699      0.096        -8.393     0.709\n",
      "==============================================================================\n",
      "Omnibus:                        0.275   Durbin-Watson:                   2.137\n",
      "Prob(Omnibus):                  0.872   Jarque-Bera (JB):                0.464\n",
      "Skew:                          -0.061   Prob(JB):                        0.793\n",
      "Kurtosis:                       2.549   Cond. No.                         479.\n",
      "==============================================================================\n",
      "\n",
      "Warnings:\n",
      "[1] Standard Errors assume that the covariance matrix of the errors is correctly specified.\n"
     ]
    }
   ],
   "source": [
    "# Define regression model \n",
    "model = smf.ols('SATV ~ percent + dollars + pay + np.log(pop)', data=df)\n",
    "# Fit model\n",
    "results = model.fit()\n",
    "# Inspect results\n",
    "print(results.summary())"
   ]
  },
  {
   "cell_type": "markdown",
   "metadata": {
    "slideshow": {
     "slide_type": "slide"
    }
   },
   "source": [
    "## Analyzing Networks: `networkx`\n",
    "\n",
    "![NetworkX](figs/networkx.png \"NetworkX\")\n",
    "\n",
    "* Library for studying networks\n",
    "* The major data structures are of the type \"dictionary of dictionaries\"\n",
    "* Capabilities:\n",
    "    * Estimate common network measures\n",
    "    * Construct random networks\n",
    "    * Visualize networks\n",
    "    * Convert networks to and from different formats"
   ]
  },
  {
   "cell_type": "markdown",
   "metadata": {
    "slideshow": {
     "slide_type": "slide"
    }
   },
   "source": [
    "## Creating Networks"
   ]
  },
  {
   "cell_type": "code",
   "execution_count": 5,
   "metadata": {
    "slideshow": {
     "slide_type": "-"
    }
   },
   "outputs": [
    {
     "name": "stdout",
     "output_type": "stream",
     "text": [
      "[1, 2, 3]\n"
     ]
    },
    {
     "data": {
      "text/plain": [
       "NodeView((1, 2, 3))"
      ]
     },
     "execution_count": 5,
     "metadata": {},
     "output_type": "execute_result"
    }
   ],
   "source": [
    "import networkx as nx\n",
    "\n",
    "# Create an empty network\n",
    "G = nx.Graph()  \n",
    "# Add nodes to network\n",
    "G.add_node(1)\n",
    "G.add_nodes_from([2,3])\n",
    "print(G.nodes())\n",
    "G.nodes()"
   ]
  },
  {
   "cell_type": "code",
   "execution_count": 6,
   "metadata": {
    "slideshow": {
     "slide_type": "fragment"
    }
   },
   "outputs": [
    {
     "name": "stdout",
     "output_type": "stream",
     "text": [
      "[(1, 2), (1, 3), (1, 4), (2, 3)]\n",
      "[1, 2, 3, 4]\n"
     ]
    }
   ],
   "source": [
    "# Add edges to network (nodes are automatically added if they don't exist already)\n",
    "G.add_edge(1, 2)\n",
    "G.add_edges_from([(2, 3), (1, 3), (1, 4)])\n",
    "print(G.edges())\n",
    "print(G.nodes())"
   ]
  },
  {
   "cell_type": "markdown",
   "metadata": {
    "slideshow": {
     "slide_type": "slide"
    }
   },
   "source": [
    "## Node and Edge Attributes"
   ]
  },
  {
   "cell_type": "code",
   "execution_count": 7,
   "metadata": {
    "scrolled": true,
    "slideshow": {
     "slide_type": "-"
    }
   },
   "outputs": [
    {
     "data": {
      "text/plain": [
       "NodeDataView({1: {'name': 'Anna'}, 2: {}, 3: {}, 4: {}, 5: {'name': 'Elliot'}, 6: {'name': 'Fathima'}, 7: {'name': 'Fathima'}})"
      ]
     },
     "execution_count": 7,
     "metadata": {},
     "output_type": "execute_result"
    }
   ],
   "source": [
    "# Add/modify node attributes\n",
    "G.nodes[1]['name'] = 'Anna'\n",
    "G.add_node(5, name='Elliot')\n",
    "G.add_nodes_from([6, 7], name='Fathima')\n",
    "G.nodes.data()"
   ]
  },
  {
   "cell_type": "code",
   "execution_count": 8,
   "metadata": {
    "slideshow": {
     "slide_type": "fragment"
    }
   },
   "outputs": [
    {
     "data": {
      "text/plain": [
       "EdgeDataView([(1, 2, {'weight': 1.7}), (1, 3, {'weight': 1}), (1, 4, {}), (2, 3, {'weight': 1.5}), (5, 6, {'weight': 2})])"
      ]
     },
     "execution_count": 8,
     "metadata": {},
     "output_type": "execute_result"
    }
   ],
   "source": [
    "# Add/modify edge attributes\n",
    "G.add_edge(5, 6, weight=2)\n",
    "G.add_edges_from([(1, 2), (1, 3)], weight=1)\n",
    "G[1][2]['weight'] = 1.7\n",
    "G.edges[2, 3]['weight'] = 1.5\n",
    "G.edges.data()"
   ]
  },
  {
   "cell_type": "markdown",
   "metadata": {
    "slideshow": {
     "slide_type": "slide"
    }
   },
   "source": [
    "## Analyzing Networks"
   ]
  },
  {
   "cell_type": "code",
   "execution_count": 9,
   "metadata": {
    "slideshow": {
     "slide_type": "-"
    }
   },
   "outputs": [
    {
     "data": {
      "text/plain": [
       "DegreeView({1: 3, 2: 2, 3: 2, 4: 1, 5: 1, 6: 1, 7: 0})"
      ]
     },
     "execution_count": 9,
     "metadata": {},
     "output_type": "execute_result"
    }
   ],
   "source": [
    "# Estimate node degrees -- returns a DegreeView object capable of iterating (node, degree) pairs\n",
    "G.degree()"
   ]
  },
  {
   "cell_type": "code",
   "execution_count": 10,
   "metadata": {
    "slideshow": {
     "slide_type": "fragment"
    }
   },
   "outputs": [
    {
     "data": {
      "text/plain": [
       "{1: 0.3333333333333333, 2: 1.0, 3: 1.0, 4: 0, 5: 0, 6: 0, 7: 0}"
      ]
     },
     "execution_count": 10,
     "metadata": {},
     "output_type": "execute_result"
    }
   ],
   "source": [
    "# Estimate node clustering\n",
    "# The method returns dictionary -- it's good example about the importance of consistency!\n",
    "nx.clustering(G)"
   ]
  },
  {
   "cell_type": "code",
   "execution_count": 11,
   "metadata": {
    "slideshow": {
     "slide_type": "fragment"
    }
   },
   "outputs": [
    {
     "data": {
      "text/plain": [
       "<generator object connected_components at 0x7fd4993e52a0>"
      ]
     },
     "execution_count": 11,
     "metadata": {},
     "output_type": "execute_result"
    }
   ],
   "source": [
    "# Identify the connected subcomponents in the network -- returns a generator!\n",
    "nx.connected_components(G)"
   ]
  },
  {
   "cell_type": "markdown",
   "metadata": {
    "slideshow": {
     "slide_type": "fragment"
    }
   },
   "source": [
    "* Despite these inconsistencies, `networkx` is a powerful library for network analysis (although not so much for visualization)\n",
    "* When in doubt or confused, simply consult the documentation!"
   ]
  },
  {
   "cell_type": "markdown",
   "metadata": {
    "slideshow": {
     "slide_type": "slide"
    }
   },
   "source": [
    "## Machine Learning: `scikit-learn`\n",
    "\n",
    "![Scikit-learn](figs/scikitlearn.png \"Scikit-learn\")\n",
    "\n",
    "* Machine-learning library for Python\n",
    "* Includes various algorithms\n",
    "    * Supervised learning\n",
    "        * Classification\n",
    "        * Regression\n",
    "    * Unsupervised learning\n",
    "        * Clustering\n",
    "        * Dimensionality reduction\n",
    "* Includes classes for model evaluation and model selection\n",
    "* Integrates with `numpy`"
   ]
  },
  {
   "cell_type": "markdown",
   "metadata": {
    "slideshow": {
     "slide_type": "slide"
    }
   },
   "source": [
    "## The `scikit-learn` Estimators\n",
    "\n",
    "The estimator is an object (instance of a class) that learns from data. \n",
    "\n",
    "Unsupervised learning estimators have the `fit` method:\n",
    "* `fit(data)`\n",
    "\n",
    "Supervised learning estimators have `fit` and `predict` methods:\n",
    "* `fit(X, y)` to known data\n",
    "* `predict(T)` unknown data\n"
   ]
  },
  {
   "cell_type": "markdown",
   "metadata": {
    "slideshow": {
     "slide_type": "slide"
    }
   },
   "source": [
    "## Plotting: `matplotlib`\n",
    "\n",
    "![Matplotlib](figs/matplotlib.png \"Matplotlib\")\n",
    "\n",
    "* The most used Python library for 2D graphics \n",
    "* To quickly and easily generate figures, use the procedural interface provided by pyplot \n",
    "    * **`pyplot`** provides functions that make `matplotlib` work like MATLAB \n",
    "* To achieve more customization and control, use the object-oriented approach with the **`Axes`** class\n"
   ]
  },
  {
   "cell_type": "markdown",
   "metadata": {
    "slideshow": {
     "slide_type": "slide"
    }
   },
   "source": [
    "## Typical Steps for Plotting with `pyplot`\n",
    "\n",
    "### 1. Import `pyplot` \n",
    "* **`import matplotlib.pyplot as plt`**\n",
    "\n",
    "\\*Set global parameters\n",
    "* `import matplotlib as mpl`\n",
    "* `mpl.rcParams['font.family'] = 'sans-serif'`\n",
    "    \n",
    "\\*Define figure and subplots\n",
    "* `plt.figure(*figsize)`\n",
    "* `plt.subplot(nrow, ncol, plotnum)`\n",
    "    \n",
    "### 2. Plot with plot parameters\n",
    "* **`plt.plot(x, y, *c, *lw, *label)`**\n",
    "* `plt.scatter(x, y, *s, *c, *marker, *alpha, *label)`\n",
    "* `plt.boxplot(x, *positions, *widths)`\n",
    "* `plt.hist(x, *bins, *color)`\n",
    "* `plt.bar(x, y, *width, *color, *yerr)`\n",
    "\n",
    "\\*Adjust specific figure parameters\n",
    "* `plt.xlim(xmin, xmax)`\n",
    "* `plt.xticks(locs, *labels)`\n",
    "\n",
    "\\*Add annotations    \n",
    "* `plt.xlabel(s)`    \n",
    "* `plt.title(s)`\n",
    "* `plt.legend(*loc, *ncol)`\n",
    "* `plt.text(x, y, s, *fontsize)`\n",
    "    \n",
    "### 3. Show or save figure\n",
    "* **`plt.show()`**\n",
    "* `plt.savefig(fname)`\n"
   ]
  },
  {
   "cell_type": "markdown",
   "metadata": {
    "slideshow": {
     "slide_type": "slide"
    }
   },
   "source": [
    "## Simple Plotting"
   ]
  },
  {
   "cell_type": "code",
   "execution_count": 58,
   "metadata": {
    "slideshow": {
     "slide_type": "-"
    }
   },
   "outputs": [
    {
     "data": {
      "image/png": "[encoded data removed]",
      "text/plain": [
       "<Figure size 432x288 with 1 Axes>"
      ]
     },
     "metadata": {
      "needs_background": "light"
     },
     "output_type": "display_data"
    }
   ],
   "source": [
    "import matplotlib.pyplot as plt\n",
    "\n",
    "x = [i for i in range(11)]\n",
    "c = ['r']*4 + ['b']*4 + ['k']*3\n",
    "y = [i**2 for i in x]\n",
    "\n",
    "plt.scatter(x, y, c= c)  # 'r--' is an optional format string indicating color and line type\n",
    "plt.show()"
   ]
  },
  {
   "cell_type": "markdown",
   "metadata": {
    "slideshow": {
     "slide_type": "slide"
    }
   },
   "source": [
    "## Making Plots Prettier"
   ]
  },
  {
   "cell_type": "code",
   "execution_count": 2,
   "metadata": {
    "slideshow": {
     "slide_type": "-"
    }
   },
   "outputs": [
    {
     "data": {
      "image/png": "[encoded data removed]",
      "text/plain": [
       "<Figure size 576x216 with 2 Axes>"
      ]
     },
     "metadata": {
      "needs_background": "light"
     },
     "output_type": "display_data"
    }
   ],
   "source": [
    "import matplotlib.pyplot as plt\n",
    "\n",
    "x = [i for i in range(11)]\n",
    "y1 = [i**2 for i in x]\n",
    "y2 = [i**0.5 for i in x]\n",
    "\n",
    "fig = plt.figure(figsize=(8, 3))\n",
    "\n",
    "# This is used to increase the space between both subplots. \n",
    "fig.subplots_adjust(wspace=0.4)\n",
    "\n",
    "plt.subplot(1, 2, 1)\n",
    "plt.plot(x, y1, c='r', lw=0.7, label='y = 2x')\n",
    "plt.legend()\n",
    "plt.xlabel('X')\n",
    "plt.ylabel('Y')\n",
    "plt.title('plot()')\n",
    "\n",
    "plt.subplot(1, 2, 2)\n",
    "plt.scatter(x, y2, c='yellowgreen', s=10, label='y = x^2')\n",
    "plt.legend()\n",
    "plt.xlabel('X')\n",
    "plt.ylabel('Y')\n",
    "plt.title('scatter()')\n",
    "\n",
    "plt.savefig('figs/pyplot_demo.pdf')\n",
    "plt.show()"
   ]
  },
  {
   "cell_type": "code",
   "execution_count": 59,
   "metadata": {},
   "outputs": [],
   "source": [
    "import plotnine"
   ]
  },
  {
   "cell_type": "code",
   "execution_count": null,
   "metadata": {},
   "outputs": [],
   "source": []
  }
 ],
 "metadata": {
  "celltoolbar": "Slideshow",
  "kernelspec": {
   "display_name": "Python 3 (ipykernel)",
   "language": "python",
   "name": "python3"
  },
  "language_info": {
   "codemirror_mode": {
    "name": "ipython",
    "version": 3
   },
   "file_extension": ".py",
   "mimetype": "text/x-python",
   "name": "python",
   "nbconvert_exporter": "python",
   "pygments_lexer": "ipython3",
   "version": "3.8.5"
  }
 },
 "nbformat": 4,
 "nbformat_minor": 4
}
