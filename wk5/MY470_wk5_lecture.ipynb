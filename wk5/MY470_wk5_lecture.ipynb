{
 "cells": [
  {
   "cell_type": "markdown",
   "metadata": {
    "slideshow": {
     "slide_type": "slide"
    }
   },
   "source": [
    "### MY470 Computer Programming\n",
    "# ⚙️ Classes in Python\n",
    "### Week 5 Lecture"
   ]
  },
  {
   "cell_type": "markdown",
   "metadata": {
    "slideshow": {
     "slide_type": "slide"
    }
   },
   "source": [
    "## Overview\n",
    "\n",
    "* Object-oriented programming\n",
    "* Classes\n",
    "* Class inheritance and polymorphism\n",
    "* Encapsulation and information hiding\n",
    "* Generators\n",
    "* Team formation for Assignment 5\n"
   ]
  },
  {
   "cell_type": "markdown",
   "metadata": {
    "slideshow": {
     "slide_type": "slide"
    }
   },
   "source": [
    "## From Last Week: Decomposition and Abstraction\n",
    "\n",
    "* Decomposition creates structure in a very complex problem.\n",
    "* Abstraction hides detail.\n",
    "\n",
    "Both of them combined allow us to solve the original problem, but also to tackle new complex problems.\n",
    "\n",
    "![Decomposition and abstraction](figs/decomposition_abstraction.png \"Decomposition and abstraction\")"
   ]
  },
  {
   "cell_type": "markdown",
   "metadata": {
    "slideshow": {
     "slide_type": "slide"
    }
   },
   "source": [
    "## Achieving Decomposition and Abstraction\n",
    "\n",
    "* With functions\n",
    "* With **classes**"
   ]
  },
  {
   "cell_type": "markdown",
   "metadata": {
    "slideshow": {
     "slide_type": "slide"
    }
   },
   "source": [
    "## From Week 2: Objects\n",
    "\n",
    "### Python supports many different kinds of objects\n",
    "\n",
    "* `25`, `'LSE'`, `[1, 2, 7, 0]`, `range(10)` "
   ]
  },
  {
   "cell_type": "markdown",
   "metadata": {
    "slideshow": {
     "slide_type": "fragment"
    }
   },
   "source": [
    "### In fact, EVERYTHING in Python is an object\n",
    "\n",
    "* Objects have types (belong to classes)\n",
    "* The class defines the type the object is.\n",
    "* Objects also have a set of procedures for interacting with them (methods)"
   ]
  },
  {
   "cell_type": "code",
   "execution_count": 1,
   "metadata": {
    "slideshow": {
     "slide_type": "-"
    }
   },
   "outputs": [
    {
     "name": "stdout",
     "output_type": "stream",
     "text": [
      "<class 'str'>\n",
      "SOME STRING\n"
     ]
    }
   ],
   "source": [
    "s = 'some string'\n",
    "print(type(s))\n",
    "print(s.upper())"
   ]
  },
  {
   "cell_type": "markdown",
   "metadata": {
    "slideshow": {
     "slide_type": "slide"
    }
   },
   "source": [
    "## Object-Oriented Programming\n",
    "\n",
    "A programming paradigm based on the concept of \"objects\"\n",
    "\n",
    "An object is a **data abstraction** (representing another real world entity) that captures:\n",
    "\n",
    "* **Internal representation** (data attributes), the different elements that it is comprised of.\n",
    "* **Interface** for interacting with object (methods)\n"
   ]
  },
  {
   "cell_type": "markdown",
   "metadata": {
    "slideshow": {
     "slide_type": "slide"
    }
   },
   "source": [
    "## Procedural  vs. Object-Oriented Programming\n",
    "\n",
    "![Procedural vs. object-oriented programming](figs/procedural_object-oriented.png \"Procedural vs. object-oriented programming\")"
   ]
  },
  {
   "cell_type": "markdown",
   "metadata": {},
   "source": [
    "The functions are kept separately. A method is a function attached to an object. Also objects can take the methods from another object.\n",
    "\n",
    "Here data and functions are bundled together."
   ]
  },
  {
   "cell_type": "markdown",
   "metadata": {
    "slideshow": {
     "slide_type": "slide"
    }
   },
   "source": [
    "## Abstraction\n",
    "\n",
    "![Abstraction in science](figs/science_abstraction.png \"Abstraction in science\")"
   ]
  },
  {
   "cell_type": "markdown",
   "metadata": {},
   "source": [
    "Abstractions in sciences: The human body model, the atom model, the cell and the solar system. This models allow us to understand the structure of these concepts and how they interact with other concepts."
   ]
  },
  {
   "cell_type": "markdown",
   "metadata": {
    "slideshow": {
     "slide_type": "slide"
    }
   },
   "source": [
    "## Data Abstraction With Classes\n"
   ]
  },
  {
   "cell_type": "code",
   "execution_count": 2,
   "metadata": {
    "slideshow": {
     "slide_type": "-"
    }
   },
   "outputs": [
    {
     "name": "stdout",
     "output_type": "stream",
     "text": [
      "Greta Thunberg 18\n"
     ]
    }
   ],
   "source": [
    "from datetime import date\n",
    "\n",
    "# Here you define the class Person. And the \n",
    "# methods are defined inside the class.\n",
    "\n",
    "class Person(object):\n",
    "    \n",
    "    # __init__ gets triggered each time Person is called\n",
    "    # On initialization you create three attributes, \n",
    "    # although birthdate is not set initially\n",
    "    def __init__(self, f_name, l_name):\n",
    "        \"\"\"Creates a person using first and last names.\"\"\"\n",
    "        self.first_name = f_name\n",
    "        self.last_name = l_name\n",
    "        self.birthdate = None\n",
    "    \n",
    "    def get_name(self):\n",
    "        \"\"\"Gets self's full name.\"\"\"\n",
    "        return self.first_name + ' ' + self.last_name\n",
    "    \n",
    "    def get_age(self):\n",
    "        \"\"\"Gets self's age in years.\"\"\"\n",
    "        return date.today().year - self.birthdate.year\n",
    "    \n",
    "    def set_birthdate(self, dob):\n",
    "        \"\"\"Assumes dob is of type date.\n",
    "        Sets self's birthdate to dob.\n",
    "        \"\"\"\n",
    "        self.birthdate = dob\n",
    "    \n",
    "    def __str__(self):\n",
    "        \"\"\"Returns self's full name.\"\"\"\n",
    "        return self.first_name + ' ' + self.last_name\n",
    "    \n",
    "p1 = Person('Greta', 'Thunberg')\n",
    "\n",
    "# CLASSES ARE CAPITALIZED IN PYTHON STYLEGUIDE\n",
    "# HERE YOU CALL THE CLASS PERSON AND CREATE AN INSTANCE.\n",
    "\n",
    "p1.set_birthdate(date(2003, 1, 3))\n",
    "print(p1, p1.get_age())\n",
    "\n",
    "# When using print(p1), the __str__ method is called. \n"
   ]
  },
  {
   "cell_type": "markdown",
   "metadata": {
    "slideshow": {
     "slide_type": "slide"
    }
   },
   "source": [
    "## Classes in Python\n",
    "\n",
    "* Data attributes — `first_name`, `last_name`, `birthdate`. Two of them are required at the beginnning.\n",
    "* Methods\n",
    "  * `get_name()`, `get_age()`, `set_birthdate()`\n",
    "  * `__init__()` — called when a class is instantiated\n",
    "  * `__str__()` — called by `print()` and `str()`\n",
    "  \n",
    "---\n",
    "\n",
    "* Operations\n",
    "  * **Instantiation**: `p1 = Person('Greta', 'Thunberg')` calls method `__init__()`\n",
    "  * Attribute/method reference: `p1.get_age()`"
   ]
  },
  {
   "cell_type": "markdown",
   "metadata": {
    "slideshow": {
     "slide_type": "slide"
    }
   },
   "source": [
    "## Classes vs. Objects\n",
    "\n",
    "* `Person` is a class: Data abstraction\n",
    "* `p1` is an instance of the class `Person`; it is an object of type `Person`. You can have multiple objects that belong to the same class.\n",
    "* Similarly, `str` is a class and `'Greta Thunberg'` is an object of type `str`\n",
    "\n",
    "![Class vs. object](figs/person_greta.png \"Class vs. object\")\n",
    "\n",
    "By Anders Hellberg - Own work, CC BY-SA 4.0, https://commons.wikimedia.org/w/index.php?curid=77270098\n",
    "\n"
   ]
  },
  {
   "cell_type": "markdown",
   "metadata": {
    "slideshow": {
     "slide_type": "slide"
    }
   },
   "source": [
    "## `self`\n",
    "\n",
    "```\n",
    "def set_birthdate(self, dob):\n",
    "    self.birthdate = dob\n",
    "```"
   ]
  },
  {
   "cell_type": "markdown",
   "metadata": {
    "slideshow": {
     "slide_type": "-"
    }
   },
   "source": [
    "* Variable that references the current instance of the class\n",
    "* The name is a convention\n",
    "* It's a *strong* convention — **Do not use any other variable name!**"
   ]
  },
  {
   "cell_type": "markdown",
   "metadata": {
    "slideshow": {
     "slide_type": "slide"
    }
   },
   "source": [
    "## Class Operations: Method Reference\n",
    "\n",
    "```\n",
    "def get_age(self):\n",
    "    return date.today().year - self.birthdate.year\n",
    "```"
   ]
  },
  {
   "cell_type": "markdown",
   "metadata": {
    "slideshow": {
     "slide_type": "-"
    }
   },
   "source": [
    "* Methods are functions that are associated with a class\n",
    "* Two ways to call methods:\n",
    "  * `p1.get_age()`  **— Use this one!**\n",
    "  * `Person.get_age(p1)`. Here you get the method from the class and feed the object to the method. "
   ]
  },
  {
   "cell_type": "markdown",
   "metadata": {
    "slideshow": {
     "slide_type": "slide"
    }
   },
   "source": [
    "## Special Methods\n",
    "\n",
    "* `__init__()` — called when a class is instantiated\n",
    "* `__str__()` — called by `print()` and `str()`\n",
    "* `__lt__()` — overloads the `<` operator\n",
    "* `__le__()` — overloads the `<=` operator\n",
    "* `__eq__()` — overloads the `==` operator\n",
    "* `__ne__()` — overloads the `!=` operator (defaults to opposite of `__eq__()`)\n",
    "* `__gt__()` — overloads the `>` operator\n",
    "* `__ge__()` — overloads the `>=` operator"
   ]
  },
  {
   "cell_type": "markdown",
   "metadata": {
    "slideshow": {
     "slide_type": "fragment"
    }
   },
   "source": [
    "### Overloading provides access to other methods defined using the methods above\n",
    "\n",
    "* E.g. `sort()`"
   ]
  },
  {
   "cell_type": "code",
   "execution_count": 3,
   "metadata": {
    "slideshow": {
     "slide_type": "slide"
    }
   },
   "outputs": [
    {
     "name": "stdout",
     "output_type": "stream",
     "text": [
      "False\n",
      "['Taylor Swift', 'Greta Thunberg']\n"
     ]
    }
   ],
   "source": [
    "class Person(object):\n",
    "        \n",
    "    def __init__(self, f_name, l_name):\n",
    "        \"\"\"Creates a person using first and last names.\"\"\"\n",
    "        self.first_name = f_name\n",
    "        self.last_name = l_name\n",
    "        self.birthdate = None\n",
    "    \n",
    "    def get_name(self):\n",
    "        \"\"\"Gets self's full name.\"\"\"\n",
    "        return self.first_name + ' ' + self.last_name\n",
    "    \n",
    "    def get_age(self):\n",
    "        \"\"\"Gets self's age in years.\"\"\"\n",
    "        return date.today().year - self.birthdate.year\n",
    "    \n",
    "    def set_birthdate(self, dob):\n",
    "        \"\"\"Assumes dob is of type date.\n",
    "        Sets self's birthdate to dob.\n",
    "        \"\"\"\n",
    "        self.birthdate = dob\n",
    "    \n",
    "    def __str__(self):\n",
    "        \"\"\"Returns self's full name.\"\"\"\n",
    "        return self.get_name()\n",
    "    \n",
    "    def __lt__(self, other):\n",
    "        \"\"\"Returns True if self's last name precedes other's last name\n",
    "        in alphabethical order. If they are equal, compares first names.\n",
    "        \"\"\"\n",
    "        if self.last_name == other.last_name:\n",
    "            return self.first_name < other.first_name\n",
    "        return self.last_name < other.last_name\n",
    "    \n",
    "    # Here __lt__ is used to overload the lower than operator, so that you\n",
    "    # can compare people by last names as a first option. \n",
    "    \n",
    "p1 = Person('Greta', 'Thunberg')\n",
    "p2 = Person('Taylor', 'Swift')\n",
    "print(p1 < p2)\n",
    "\n",
    "lst = sorted([p1, p2])\n",
    "print([str(i) for i in lst])"
   ]
  },
  {
   "cell_type": "markdown",
   "metadata": {
    "slideshow": {
     "slide_type": "slide"
    }
   },
   "source": [
    "## Class Operations: Attribute Reference\n",
    "\n",
    "```\n",
    "def __init__(self, f_name, l_name):\n",
    "    self.first_name = f_name\n",
    "    self.last_name = l_name\n",
    "    self.birthdate = None\n",
    "```"
   ]
  },
  {
   "cell_type": "markdown",
   "metadata": {
    "slideshow": {
     "slide_type": "fragment"
    }
   },
   "source": [
    "### In Python, you have direct access to instance attributes but you shouldn't use it\n",
    "\n",
    "  * `p1.first_name`  **<— DO NOT EVER USE THIS ONE!** \n",
    "  * `p1.get_name()`  **<— Use this one instead**"
   ]
  },
  {
   "cell_type": "code",
   "execution_count": 4,
   "metadata": {
    "scrolled": true,
    "slideshow": {
     "slide_type": "-"
    }
   },
   "outputs": [
    {
     "data": {
      "text/plain": [
       "'Greta'"
      ]
     },
     "execution_count": 4,
     "metadata": {},
     "output_type": "execute_result"
    }
   ],
   "source": [
    "p1.get_name().split()[0]  # Or write a new method get_first_name()"
   ]
  },
  {
   "cell_type": "markdown",
   "metadata": {
    "slideshow": {
     "slide_type": "fragment"
    }
   },
   "source": [
    "Using methods to get instance attributes is essential for encapsulation and information hiding — two important goals of object-oriented programming."
   ]
  },
  {
   "cell_type": "markdown",
   "metadata": {
    "slideshow": {
     "slide_type": "slide"
    }
   },
   "source": [
    "## Classes: Exercise\n"
   ]
  },
  {
   "cell_type": "code",
   "execution_count": 5,
   "metadata": {
    "slideshow": {
     "slide_type": "-"
    }
   },
   "outputs": [
    {
     "name": "stdout",
     "output_type": "stream",
     "text": [
      "Activist\n"
     ]
    }
   ],
   "source": [
    "# Update the class below to include the attribute occupation.\n",
    "# Then write a get method and a set method for occupation.\n",
    "\n",
    "class Person(object):\n",
    "    # You should use a descriptive note on your class definition.\n",
    "    \n",
    "    # You can also use default values for class methods. \n",
    "        \n",
    "    def __init__(self, f_name, l_name):\n",
    "        \"\"\"Creates a person using first and last names.\"\"\"\n",
    "        self.first_name = f_name\n",
    "        self.last_name = l_name\n",
    "        self.birthdate = None\n",
    "        self.occupation = None\n",
    "    \n",
    "    def get_name(self):\n",
    "        \"\"\"Gets self's full name.\"\"\"\n",
    "        return self.first_name + ' ' + self.last_name\n",
    "    \n",
    "    def get_age(self):\n",
    "        \"\"\"Gets self's age in years.\"\"\"\n",
    "        return date.today().year - self.birthdate.year\n",
    "    \n",
    "    def set_birthdate(self, dob):\n",
    "        \"\"\"Assumes dob is of type date.\n",
    "        Sets self's birthdate to dob.\n",
    "        \"\"\"\n",
    "        self.birthdate = dob\n",
    "        \n",
    "    def set_occupation(self, job_description):\n",
    "        \"\"\"Assumes job_description is string.\n",
    "        Sets self's occupation to job_description.\n",
    "        \"\"\"\n",
    "        self.occupation = job_description\n",
    "        \n",
    "    def get_occupation(self):\n",
    "        \"\"\"Assumes job_description is string.\n",
    "        Sets self's occupation to job_description.\n",
    "        \"\"\"\n",
    "        return self.occupation\n",
    "    \n",
    "    def __str__(self):\n",
    "        \"\"\"Returns self's full name.\"\"\"\n",
    "        return self.get_name()\n",
    "    \n",
    "    def __lt__(self, other):\n",
    "        \"\"\"Returns True if self's last name precedes other's last name\n",
    "        in alphabethical order. If they are equal, compares first names.\n",
    "        \"\"\"\n",
    "        if self.last_name == other.last_name:\n",
    "            return self.first_name < other.first_name\n",
    "        return self.last_name < other.last_name\n",
    "    \n",
    "p1 = Person('Greta', 'Thunberg')\n",
    "p1.set_occupation('Activist')\n",
    "print(p1.get_occupation())\n"
   ]
  },
  {
   "cell_type": "markdown",
   "metadata": {
    "slideshow": {
     "slide_type": "slide"
    }
   },
   "source": [
    "## Inheritance\n",
    "\n",
    "> **Q:** *What's the object-oriented way to become wealthy?*\n",
    "\n",
    "> **A:** *Inheritance.*"
   ]
  },
  {
   "cell_type": "markdown",
   "metadata": {
    "slideshow": {
     "slide_type": "slide"
    }
   },
   "source": [
    "## Inheritance\n",
    "\n",
    "* Allows to build hierarchies of related abstractions\n",
    "* **Subclasses** inherit data attributes and methods from their **superclasses** (classes that are higher in the hierarchy)\n",
    "* **On top of the hierarchy is class `object`**\n",
    "* Subclasses can:\n",
    "  * Add new data attributes and methods\n",
    "  * Override data attributes and methods of the superclass"
   ]
  },
  {
   "cell_type": "markdown",
   "metadata": {
    "slideshow": {
     "slide_type": "slide"
    }
   },
   "source": [
    "## Subclasses "
   ]
  },
  {
   "cell_type": "code",
   "execution_count": 6,
   "metadata": {
    "slideshow": {
     "slide_type": "-"
    }
   },
   "outputs": [
    {
     "name": "stdout",
     "output_type": "stream",
     "text": [
      "Milena Tsvetkova 1\n",
      "Ken Benoit 2\n",
      "True\n",
      "True\n"
     ]
    },
    {
     "ename": "AttributeError",
     "evalue": "'Person' object has no attribute 'id_num'",
     "output_type": "error",
     "traceback": [
      "\u001b[0;31m---------------------------------------------------------------------------\u001b[0m",
      "\u001b[0;31mAttributeError\u001b[0m                            Traceback (most recent call last)",
      "\u001b[0;32m/var/folders/rf/bkl40kkn1tvcdp0g831b314h0000gn/T/ipykernel_2889/748420644.py\u001b[0m in \u001b[0;36m<module>\u001b[0;34m\u001b[0m\n\u001b[1;32m     49\u001b[0m                 \u001b[0;31m# it takes the method that is associated with\u001b[0m\u001b[0;34m\u001b[0m\u001b[0;34m\u001b[0m\u001b[0;34m\u001b[0m\u001b[0m\n\u001b[1;32m     50\u001b[0m                 \u001b[0;31m# the FIRST object. Here it is compared by last name.\u001b[0m\u001b[0;34m\u001b[0m\u001b[0;34m\u001b[0m\u001b[0;34m\u001b[0m\u001b[0m\n\u001b[0;32m---> 51\u001b[0;31m \u001b[0mprint\u001b[0m\u001b[0;34m(\u001b[0m\u001b[0mstaff1\u001b[0m \u001b[0;34m<\u001b[0m \u001b[0mp1\u001b[0m\u001b[0;34m)\u001b[0m\u001b[0;34m\u001b[0m\u001b[0;34m\u001b[0m\u001b[0m\n\u001b[0m\u001b[1;32m     52\u001b[0m                 \u001b[0;31m# But here it tries to compare using\u001b[0m\u001b[0;34m\u001b[0m\u001b[0;34m\u001b[0m\u001b[0;34m\u001b[0m\u001b[0m\n\u001b[1;32m     53\u001b[0m                 \u001b[0;31m# the id nR, which p1 does not have.\u001b[0m\u001b[0;34m\u001b[0m\u001b[0;34m\u001b[0m\u001b[0;34m\u001b[0m\u001b[0m\n",
      "\u001b[0;32m/var/folders/rf/bkl40kkn1tvcdp0g831b314h0000gn/T/ipykernel_2889/748420644.py\u001b[0m in \u001b[0;36m__lt__\u001b[0;34m(self, other)\u001b[0m\n\u001b[1;32m     36\u001b[0m     \u001b[0;32mdef\u001b[0m \u001b[0m__lt__\u001b[0m\u001b[0;34m(\u001b[0m\u001b[0mself\u001b[0m\u001b[0;34m,\u001b[0m \u001b[0mother\u001b[0m\u001b[0;34m)\u001b[0m\u001b[0;34m:\u001b[0m\u001b[0;34m\u001b[0m\u001b[0;34m\u001b[0m\u001b[0m\n\u001b[1;32m     37\u001b[0m         \u001b[0;34m\"\"\"Returns True if self's id number is smaller than other's id number.\"\"\"\u001b[0m\u001b[0;34m\u001b[0m\u001b[0;34m\u001b[0m\u001b[0m\n\u001b[0;32m---> 38\u001b[0;31m         \u001b[0;32mreturn\u001b[0m \u001b[0mself\u001b[0m\u001b[0;34m.\u001b[0m\u001b[0mid_num\u001b[0m \u001b[0;34m<\u001b[0m \u001b[0mother\u001b[0m\u001b[0;34m.\u001b[0m\u001b[0mid_num\u001b[0m\u001b[0;34m\u001b[0m\u001b[0;34m\u001b[0m\u001b[0m\n\u001b[0m\u001b[1;32m     39\u001b[0m \u001b[0;34m\u001b[0m\u001b[0m\n\u001b[1;32m     40\u001b[0m \u001b[0mstaff1\u001b[0m \u001b[0;34m=\u001b[0m \u001b[0mLSEPerson\u001b[0m\u001b[0;34m(\u001b[0m\u001b[0;34m'Milena'\u001b[0m\u001b[0;34m,\u001b[0m \u001b[0;34m'Tsvetkova'\u001b[0m\u001b[0;34m)\u001b[0m\u001b[0;34m\u001b[0m\u001b[0;34m\u001b[0m\u001b[0m\n",
      "\u001b[0;31mAttributeError\u001b[0m: 'Person' object has no attribute 'id_num'"
     ]
    }
   ],
   "source": [
    "class LSEPerson(Person):\n",
    "    # It is a subclass of the Person object.\n",
    "    \n",
    "    # This is a class variable\n",
    "    # This id number is increased for each new person.\n",
    "    next_id_num = 1 # unique identifiication number\n",
    "        \n",
    "    def __init__(self, f_name, l_name):\n",
    "        \"\"\"Creates an LSE person using first and last names.\"\"\"\n",
    "        Person.__init__(self, f_name, l_name)\n",
    "        self.id_num = LSEPerson.next_id_num\n",
    "        LSEPerson.next_id_num += 1\n",
    "        self.department = None\n",
    "        \n",
    "        # You use LSEPerson as a class to have an effect on the whole class\n",
    "        # self is only aimed at the particular instance that you are using.\n",
    "    \n",
    "    def get_id_num(self):\n",
    "        \"\"\"Gets self's unique LSE number.\"\"\"\n",
    "        return self.id_num\n",
    "    \n",
    "    def set_department(self, department_name):\n",
    "        \"\"\"Assumes a string for the name of the department.\n",
    "        Sets the desired department name.\n",
    "        \"\"\"\n",
    "        self.department = department_name\n",
    "        \n",
    "    def get_department(self):\n",
    "        \"\"\"Retrieves the department of the LSE member.\n",
    "        \"\"\"\n",
    "        return self.department\n",
    "    \n",
    "    # Here we are overriding the lt method from before.\n",
    "    # Instead of comparing two people's last name, \n",
    "    # we compare their id numbers.\n",
    "    def __lt__(self, other):\n",
    "        \"\"\"Returns True if self's id number is smaller than other's id number.\"\"\"\n",
    "        return self.id_num < other.id_num\n",
    "\n",
    "staff1 = LSEPerson('Milena', 'Tsvetkova')\n",
    "print(staff1, staff1.get_id_num())\n",
    "\n",
    "staff2 = LSEPerson('Ken', 'Benoit')\n",
    "print(staff2, staff2.get_id_num())\n",
    "\n",
    "print(staff1 < staff2) # If you compare id's.\n",
    "print(p1 < staff1) # Greta THunberg does not have an id number.\n",
    "                # When you do not have methods to compare,\n",
    "                # it takes the method that is associated with\n",
    "                # the FIRST object. Here it is compared by last name.\n",
    "print(staff1 < p1)\n",
    "                # But here it tries to compare using\n",
    "                # the id nR, which p1 does not have.\n",
    "            \n"
   ]
  },
  {
   "cell_type": "markdown",
   "metadata": {
    "slideshow": {
     "slide_type": "slide"
    }
   },
   "source": [
    "## Polymorphism\n",
    "\n",
    "* The __lt__ method above is an instance of polymorphism.\n",
    "* An expression can do different things depending on the objects it applies to\n",
    "* Enabled by overriding inherited methods\n",
    "* Helps reduce code\n",
    "* Another example is the `+` operator, that behaves differently depending on whether the object is a string or a number."
   ]
  },
  {
   "cell_type": "markdown",
   "metadata": {
    "slideshow": {
     "slide_type": "slide"
    }
   },
   "source": [
    "## Inheritance Hierarchies "
   ]
  },
  {
   "cell_type": "code",
   "execution_count": null,
   "metadata": {
    "scrolled": true,
    "slideshow": {
     "slide_type": "-"
    }
   },
   "outputs": [],
   "source": [
    "# By default, if you use pass you inherit the attributes of the superclass\n",
    "\n",
    "class Staff(LSEPerson):\n",
    "    \n",
    "    def __init__(self, f_name, l_name):\n",
    "        \"\"\"Creates a Staff member using first and last names.\"\"\"\n",
    "        LSEPerson.__init__(self, f_name, l_name)\n",
    "        self.salary = None\n",
    "        \n",
    "    def set_salary(self, wage):\n",
    "        \"\"\"Assumes numeric type.\n",
    "        Sets salary of the staff member.\n",
    "        \"\"\"\n",
    "        self.salary = wage\n",
    "    \n",
    "    def get_salary(self):\n",
    "        \"\"\"Retrieves salary.\"\"\"\n",
    "        return self.salary\n",
    "        \n",
    "# Two types of Staff:\n",
    "class Admin(Staff):\n",
    "    pass\n",
    "\n",
    "class Acad(Staff):\n",
    "    pass\n",
    "\n",
    "class Student(LSEPerson):\n",
    "    pass\n",
    "\n",
    "# Two subclasses of Student\n",
    "class Undergrad(Student):\n",
    "    pass\n",
    "\n",
    "class Grad(Student):\n",
    "    pass\n",
    "    \n",
    "prof1 = Acad('Angelina', 'Jolie')\n",
    "\n",
    "print(type(prof1))\n",
    "print(isinstance(prof1, Acad))\n",
    "print(isinstance(prof1, Staff))\n",
    "print(isinstance(prof1, Student))"
   ]
  },
  {
   "cell_type": "markdown",
   "metadata": {
    "slideshow": {
     "slide_type": "slide"
    }
   },
   "source": [
    "## Inheritance: Exercise\n",
    "\n",
    "Edit the relevant code in this notebook to add properties `department` and `salary` (all academic staff has a department, but not all have a salary), as well as the associated `get()` and `set()` methods, to describe all relevant classes. "
   ]
  },
  {
   "cell_type": "code",
   "execution_count": null,
   "metadata": {
    "slideshow": {
     "slide_type": "-"
    }
   },
   "outputs": [],
   "source": [
    "prof1.set_department('Methodology')\n",
    "prof1.set_salary(30000)\n",
    "print(prof1.get_department())\n",
    "print(prof1.get_salary())\n",
    "\n",
    "Student1 = Student('Alberto', 'Agudo')\n",
    "Student1.set_department('Statistics')\n",
    "print(Student1.get_department())"
   ]
  },
  {
   "cell_type": "markdown",
   "metadata": {
    "slideshow": {
     "slide_type": "slide"
    }
   },
   "source": [
    "## Encapsulation and Information Hiding\n",
    "\n",
    "![Encapsulation and infromation hiding](figs/encapsulation.png \"Encapsulation and infromation hiding\")\n",
    "\n",
    "### Encapsulation\n",
    "\n",
    "* The bundling of data attributes and the methods for operating on them\n",
    "\n",
    "### Information hiding\n",
    "\n",
    "* Allows changing the class definition without affecting its external behavior. (How we interact with the class)\n",
    "\n",
    "### Encapsulation and information hiding keep class attributes and methods safe from outside interference and misuse.\n"
   ]
  },
  {
   "cell_type": "markdown",
   "metadata": {
    "slideshow": {
     "slide_type": "slide"
    }
   },
   "source": [
    "## Information Hiding in Python\n",
    "\n",
    "* No one uses this. \n",
    "* Use naming conventions to make data attributes and methods invisible outside the class\n",
    "* Convention: Begin name with `__` but do not end with it. This makes them invisible."
   ]
  },
  {
   "cell_type": "code",
   "execution_count": null,
   "metadata": {
    "slideshow": {
     "slide_type": "-"
    }
   },
   "outputs": [],
   "source": [
    "class InfoHiding(object):\n",
    "    def __init__(self):\n",
    "        self.visible = 'Look at me'\n",
    "        self.__visible__ = 'Look at me too'\n",
    "        self.__invisible = 'Do not look at me directly'\n",
    "        \n",
    "    def print_visible(self):\n",
    "        print(self.visible)\n",
    "    \n",
    "    def print_invisible(self):\n",
    "        print(self.__invisible)\n",
    "        \n",
    "    def __invisible_print_invisible(self):\n",
    "        print(self.__invisible)\n",
    "        \n",
    "    def __visible_print_invisible__(self):\n",
    "        print(self.__invisible)\n",
    "\n",
    "test = InfoHiding()"
   ]
  },
  {
   "cell_type": "markdown",
   "metadata": {
    "slideshow": {
     "slide_type": "slide"
    }
   },
   "source": [
    "## Information Hiding in Python"
   ]
  },
  {
   "cell_type": "code",
   "execution_count": null,
   "metadata": {
    "slideshow": {
     "slide_type": "-"
    }
   },
   "outputs": [],
   "source": [
    "# This is not a proper way to access object attributes.\n",
    "\n",
    "print(test.visible)\n",
    "print(test.__visible__)\n",
    "print(test.__invisible)\n",
    "\n",
    "# Although it is defined, you cannot access it outside of \n",
    "# the class definition."
   ]
  },
  {
   "cell_type": "code",
   "execution_count": null,
   "metadata": {
    "slideshow": {
     "slide_type": "-"
    }
   },
   "outputs": [],
   "source": [
    "test.print_visible()\n",
    "test.print_invisible() # Now you can access it from within\n",
    "                       # the class definition.\n",
    "test.__visible_print_invisible__() # This also allows you accessing it.\n",
    "test.__invisible_print_invisible()\n",
    "\n",
    "# This invisible method also does not allow you to access it.\n"
   ]
  },
  {
   "cell_type": "markdown",
   "metadata": {
    "slideshow": {
     "slide_type": "slide"
    }
   },
   "source": [
    "## Information Hiding and Subclasses"
   ]
  },
  {
   "cell_type": "code",
   "execution_count": null,
   "metadata": {
    "slideshow": {
     "slide_type": "-"
    }
   },
   "outputs": [],
   "source": [
    "# People don't use it because it breaks inheritance. \n",
    "# If an attribute is invisible, no subclass can access it.\n",
    "\n",
    "class SubClass(InfoHiding):\n",
    "    def __init__(self):\n",
    "        InfoHiding.__init__(self)\n",
    "        print(self.__invisible)\n",
    "\n",
    "sub_test = SubClass()"
   ]
  },
  {
   "cell_type": "markdown",
   "metadata": {
    "slideshow": {
     "slide_type": "slide"
    }
   },
   "source": [
    "## In Practice, Information Hiding Convention in Python Is Rarely Used \n",
    "\n",
    "* Without it users may rely on attributes that are not necessarily part of the specification of the class\n",
    "* Without it users may also change these attributes in undesirable ways"
   ]
  },
  {
   "cell_type": "code",
   "execution_count": null,
   "metadata": {
    "slideshow": {
     "slide_type": "-"
    }
   },
   "outputs": [],
   "source": [
    "class Course(object):\n",
    "    \n",
    "    def __init__(self, student_list):\n",
    "        self.students = student_list\n",
    "        self.grades = {}\n",
    "    \n",
    "course1 = Course([1, 2, 3])\n",
    "course2 = Course([4, 5, 6])\n",
    "\n",
    "all_students = course1.students\n",
    "all_students.extend(course2.students)\n",
    "\n",
    "print(course1.students)\n",
    "\n",
    "# When directly using the attributes you are aliasing,\n",
    "# when using the method you are copying. \n",
    "\n",
    "# Here you are extending the object.\n"
   ]
  },
  {
   "cell_type": "markdown",
   "metadata": {
    "slideshow": {
     "slide_type": "slide"
    }
   },
   "source": [
    "## In Practice, Information Hiding in Python Requires Discipline!\n",
    "\n",
    "* **Do not directly access data attributes from outside the class in which they are defined**\n",
    "* **Return copies of mutable objects rather than the objects themselves**. By using .copy()."
   ]
  },
  {
   "cell_type": "markdown",
   "metadata": {
    "slideshow": {
     "slide_type": "slide"
    }
   },
   "source": [
    "## ⚡️ Speed Considerations"
   ]
  },
  {
   "cell_type": "code",
   "execution_count": null,
   "metadata": {
    "slideshow": {
     "slide_type": "-"
    }
   },
   "outputs": [],
   "source": [
    "class Course(object):\n",
    "    \n",
    "    def __init__(self, student_list):\n",
    "        self.students = student_list\n",
    "        self.grades = {}\n",
    "    \n",
    "    def get_students(self):\n",
    "        return self.students[:] # Creates a copy of a list already in memory\n",
    "        # If it is a terabytes file it is highly inefficient to copy it.\n",
    "    def add_grade(self, student, grade):\n",
    "        self.grades[student] = grade\n",
    "    \n",
    "course1 = Course([i for i in range(1, 11)])\n",
    "for i in course1.get_students():\n",
    "    course1.add_grade(i, 100)\n",
    "    \n",
    "print(course1.get_students()) "
   ]
  },
  {
   "cell_type": "markdown",
   "metadata": {
    "slideshow": {
     "slide_type": "slide"
    }
   },
   "source": [
    "## ⚡️ Generators with `yield`"
   ]
  },
  {
   "cell_type": "code",
   "execution_count": null,
   "metadata": {
    "slideshow": {
     "slide_type": "-"
    }
   },
   "outputs": [],
   "source": [
    "class Course(object):\n",
    "    \n",
    "    def __init__(self, student_list):\n",
    "        self.students = student_list\n",
    "        self.grades = {}\n",
    "    \n",
    "    def get_students(self):\n",
    "        # So that you do not create a new list, more efficient.\n",
    "        # And less memory usage.\n",
    "        # If it is a terabyte \n",
    "        for i in self.students:\n",
    "            yield i\n",
    "    \n",
    "    def add_grade(self, student, grade):\n",
    "        self.grades[student] = grade\n",
    "    \n",
    "course1 = Course([i for i in range(1, 11)])\n",
    "for i in course1.get_students():\n",
    "    course1.add_grade(i, 100)\n",
    "    \n",
    "print(course1.get_students())\n",
    "# This is now a generator object. Range is also a generator object\n",
    "\n"
   ]
  },
  {
   "cell_type": "markdown",
   "metadata": {
    "slideshow": {
     "slide_type": "slide"
    }
   },
   "source": [
    "## When to Use Classes\n",
    "\n",
    "* Methods require look-up so are a bit slower than functions. A bit less efficient than functions."
   ]
  },
  {
   "cell_type": "code",
   "execution_count": null,
   "metadata": {
    "slideshow": {
     "slide_type": "-"
    }
   },
   "outputs": [],
   "source": [
    "Person.__dict__"
   ]
  },
  {
   "cell_type": "markdown",
   "metadata": {
    "slideshow": {
     "slide_type": "fragment"
    }
   },
   "source": [
    "* Designing classes properly can be quite time-consuming"
   ]
  },
  {
   "cell_type": "markdown",
   "metadata": {
    "slideshow": {
     "slide_type": "fragment"
    }
   },
   "source": [
    "* In general, data scientists are less likely to implement classes\n",
    "* However, most modules and packages that data scientists use make heavy use of object-oriented programming"
   ]
  },
  {
   "cell_type": "markdown",
   "metadata": {
    "slideshow": {
     "slide_type": "fragment"
    }
   },
   "source": [
    "* **If you are building a reusable and extendable code to share with others and/or release publicly, use classes!. It makes the product easily extendable.**"
   ]
  },
  {
   "cell_type": "markdown",
   "metadata": {
    "slideshow": {
     "slide_type": "slide"
    }
   },
   "source": [
    "## Classes in Python\n",
    "\n",
    "* Reusable abstractions\n",
    "* Reduce development time for large projects\n",
    "* Allow to maintain and update programs without disruptions for users\n",
    "* Help produce more reliable programs\n",
    "* Essential for developing user applications"
   ]
  },
  {
   "cell_type": "markdown",
   "metadata": {
    "slideshow": {
     "slide_type": "fragment"
    }
   },
   "source": [
    "-------\n",
    "\n",
    "* **Lab**: Collaborative programming\n",
    "* **Week 6**: No lecture or class! But I am still available for regular office hours.\n",
    "* **Assignment 5**: Due at 12:00 noon on Monday, November 9th"
   ]
  },
  {
   "cell_type": "markdown",
   "metadata": {},
   "source": [
    "Now that you can make your code modular, you will be able to collaborate with others."
   ]
  },
  {
   "cell_type": "markdown",
   "metadata": {
    "slideshow": {
     "slide_type": "slide"
    }
   },
   "source": [
    "## Collaborative Programming\n",
    "\n",
    "* Most programming is collaborative, whether you work in science or in the industry.\n",
    "* Functions and classes allow us to:\n",
    "  1. Design programs\n",
    "  * Divide work\n",
    "  * Write code simultaneously\n",
    "  * Merge contributions  \n",
    "* The next two weekly assignments will be done in groups of two\n",
    "* Pairs will be formed randomly"
   ]
  },
  {
   "cell_type": "markdown",
   "metadata": {
    "slideshow": {
     "slide_type": "slide"
    }
   },
   "source": [
    "## Work on Assignment 5 in Pairs\n",
    "\n",
    "1. You will get e-mail notification from GitHub that you have been added to a team\n",
    "* The team will give you and your partner write access to a new repo\n",
    "* Go to your GitHub account and look for a repo called `lse-my470/assignment-5-[team name]`\n",
    "* Open an issue to contact your partner"
   ]
  },
  {
   "cell_type": "markdown",
   "metadata": {
    "slideshow": {
     "slide_type": "slide"
    }
   },
   "source": [
    "## What Happens Next\n",
    "\n",
    "* Each of you should clone the team repository locally\n",
    "* Coordinate how to divide the labor\n",
    "* Work separately but use GitHub to open issues and pull requests\n",
    "* Merge your contributions\n",
    "\n",
    "### We will discuss how to use GitHub for collaboration in class"
   ]
  }
 ],
 "metadata": {
  "celltoolbar": "Slideshow",
  "kernelspec": {
   "display_name": "Python 3 (ipykernel)",
   "language": "python",
   "name": "python3"
  },
  "language_info": {
   "codemirror_mode": {
    "name": "ipython",
    "version": 3
   },
   "file_extension": ".py",
   "mimetype": "text/x-python",
   "name": "python",
   "nbconvert_exporter": "python",
   "pygments_lexer": "ipython3",
   "version": "3.8.5"
  }
 },
 "nbformat": 4,
 "nbformat_minor": 2
}
