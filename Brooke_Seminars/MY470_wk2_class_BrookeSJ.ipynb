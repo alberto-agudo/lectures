{
 "cells": [
  {
   "cell_type": "markdown",
   "metadata": {
    "slideshow": {
     "slide_type": "slide"
    }
   },
   "source": [
    "## MY470 Computer Programming\n",
    "# Working with Strings and Lists in Python\n",
    "### Week 2 Lab"
   ]
  },
  {
   "cell_type": "markdown",
   "metadata": {
    "slideshow": {
     "slide_type": "slide"
    }
   },
   "source": [
    "#### What is a function?\n",
    "\n",
    "#### What is a string?\n",
    "\n",
    "#### What is a list?"
   ]
  },
  {
   "cell_type": "markdown",
   "metadata": {
    "slideshow": {
     "slide_type": "fragment"
    }
   },
   "source": [
    "#### Function:\n",
    "A named section of a code that performs a specific task. This typically involves taking some input, manipulating the input and returning an output\n",
    "\n",
    "#### String:\n",
    "A sequence of Unicode characters. Unicode is a system of encoding every character.\n",
    "\n",
    "#### List:\n",
    "Lists are used to store multiple items in a single variable. "
   ]
  },
  {
   "cell_type": "markdown",
   "metadata": {
    "slideshow": {
     "slide_type": "slide"
    }
   },
   "source": [
    "## Variables\n",
    "\n",
    "Variables associate objects (values) with a name. Objects have types (belong to classes). Here are the rules for naming variables:\n",
    "* Variables must begin with a letter (a - z, A - Z) or underscore (_)\n",
    "* Variables can contain letters, underscore, and numbers\n",
    "\n",
    "Variables are \"assigned\" using the equals sign (=).\n",
    "\n",
    "``` python\n",
    "a_variable = \"data that is stored\"\n",
    "```"
   ]
  },
  {
   "cell_type": "code",
   "execution_count": 3,
   "metadata": {
    "slideshow": {
     "slide_type": "slide"
    }
   },
   "outputs": [
    {
     "name": "stdout",
     "output_type": "stream",
     "text": [
      "25 27 29\n"
     ]
    }
   ],
   "source": [
    "# It is important to remember that python is case senstive, \n",
    "# so VAR_1 is a different object that var_1.\n",
    "\n",
    "age = 25\n",
    "Age = 27\n",
    "aGe = Age + 2\n",
    "\n",
    "print(age, Age, aGe)"
   ]
  },
  {
   "cell_type": "markdown",
   "metadata": {
    "slideshow": {
     "slide_type": "slide"
    }
   },
   "source": [
    "Some Tips:\n",
    "\n",
    "* Watch out for reserved words and names of functions!\n",
    "* Leave a space around the \"=\" (assignment operator)\n",
    "* Give a variable a name that is descriptive enough to make clear what it is being used for (i.e. name_list. email_list). At least you can tell from the name what the value of the variable is supposed to represent.\n",
    "* Be consistent with the style you use to name variables.\n",
    "* Variable names *need* to start with letters"
   ]
  },
  {
   "cell_type": "markdown",
   "metadata": {
    "slideshow": {
     "slide_type": "slide"
    }
   },
   "source": [
    "You will see later that variables aren’t the only things that can be given names. You can also name functions, classes, modules, and so on. \n",
    "\n",
    "\n",
    "**Camel Case:** Second and subsequent words are capitalized, to make word boundaries easier to see. (Presumably, it struck someone at some point that the capital letters strewn throughout the variable name vaguely resemble camel humps.)\n",
    "\n",
    "*Example: numberOfUniGraduates*\n",
    "\n",
    "\n",
    "**Pascal Case:** Identical to Camel Case, except the first word is also capitalized.\n",
    "\n",
    "*Example: NumberOfUniGraduates*\n",
    "\n",
    "\n",
    "**Snake Case:** Words are separated by underscores.\n",
    "\n",
    "*Example: number_of_uni_graduates*\n",
    "\n",
    "\n",
    "\n",
    "\n",
    "**Style Guide for Python Code (PEP 8):** https://www.python.org/dev/peps/pep-0008/\n",
    "* Snake Case should be used for functions and variable names.\n",
    "* Pascal Case should be used for class names. (PEP 8 refers to this as the “CapWords” convention.)"
   ]
  },
  {
   "cell_type": "code",
   "execution_count": 13,
   "metadata": {
    "slideshow": {
     "slide_type": "slide"
    }
   },
   "outputs": [
    {
     "name": "stdout",
     "output_type": "stream",
     "text": [
      "\n",
      "Here is a list of the Python keywords.  Enter any keyword to get more help.\n",
      "\n",
      "False               class               from                or\n",
      "None                continue            global              pass\n",
      "True                def                 if                  raise\n",
      "and                 del                 import              return\n",
      "as                  elif                in                  try\n",
      "assert              else                is                  while\n",
      "async               except              lambda              with\n",
      "await               finally             nonlocal            yield\n",
      "break               for                 not                 \n",
      "\n",
      "The \"for\" statement\n",
      "*******************\n",
      "\n",
      "The \"for\" statement is used to iterate over the elements of a sequence\n",
      "(such as a string, tuple or list) or other iterable object:\n",
      "\n",
      "   for_stmt ::= \"for\" target_list \"in\" expression_list \":\" suite\n",
      "                [\"else\" \":\" suite]\n",
      "\n",
      "The expression list is evaluated once; it should yield an iterable\n",
      "object.  An iterator is created for the result of the\n",
      "\"expression_list\".  The suite is then executed once for each item\n",
      "provided by the iterator, in the order returned by the iterator.  Each\n",
      "item in turn is assigned to the target list using the standard rules\n",
      "for assignments (see Assignment statements), and then the suite is\n",
      "executed.  When the items are exhausted (which is immediately when the\n",
      "sequence is empty or an iterator raises a \"StopIteration\" exception),\n",
      "the suite in the \"else\" clause, if present, is executed, and the loop\n",
      "terminates.\n",
      "\n",
      "A \"break\" statement executed in the first suite terminates the loop\n",
      "without executing the \"else\" clause’s suite.  A \"continue\" statement\n",
      "executed in the first suite skips the rest of the suite and continues\n",
      "with the next item, or with the \"else\" clause if there is no next\n",
      "item.\n",
      "\n",
      "The for-loop makes assignments to the variables in the target list.\n",
      "This overwrites all previous assignments to those variables including\n",
      "those made in the suite of the for-loop:\n",
      "\n",
      "   for i in range(10):\n",
      "       print(i)\n",
      "       i = 5             # this will not affect the for-loop\n",
      "                         # because i will be overwritten with the next\n",
      "                         # index in the range\n",
      "\n",
      "Names in the target list are not deleted when the loop is finished,\n",
      "but if the sequence is empty, they will not have been assigned to at\n",
      "all by the loop.  Hint: the built-in function \"range()\" returns an\n",
      "iterator of integers suitable to emulate the effect of Pascal’s \"for i\n",
      ":= a to b do\"; e.g., \"list(range(3))\" returns the list \"[0, 1, 2]\".\n",
      "\n",
      "Note:\n",
      "\n",
      "  There is a subtlety when the sequence is being modified by the loop\n",
      "  (this can only occur for mutable sequences, e.g. lists).  An\n",
      "  internal counter is used to keep track of which item is used next,\n",
      "  and this is incremented on each iteration.  When this counter has\n",
      "  reached the length of the sequence the loop terminates.  This means\n",
      "  that if the suite deletes the current (or a previous) item from the\n",
      "  sequence, the next item will be skipped (since it gets the index of\n",
      "  the current item which has already been treated).  Likewise, if the\n",
      "  suite inserts an item in the sequence before the current item, the\n",
      "  current item will be treated again the next time through the loop.\n",
      "  This can lead to nasty bugs that can be avoided by making a\n",
      "  temporary copy using a slice of the whole sequence, e.g.,\n",
      "\n",
      "     for x in a[:]:\n",
      "         if x < 0: a.remove(x)\n",
      "\n",
      "Related help topics: break, continue, while\n",
      "\n"
     ]
    }
   ],
   "source": [
    "# Reserved Words \n",
    "\n",
    "# All keywords\n",
    "help(\"keywords\")\n",
    "\n",
    "# More information on specifc keyword\n",
    "help(\"for\")"
   ]
  },
  {
   "cell_type": "code",
   "execution_count": 21,
   "metadata": {
    "slideshow": {
     "slide_type": "slide"
    }
   },
   "outputs": [
    {
     "ename": "SyntaxError",
     "evalue": "invalid syntax (<ipython-input-21-6e58bfa71b36>, line 4)",
     "output_type": "error",
     "traceback": [
      "\u001b[1;36m  File \u001b[1;32m\"<ipython-input-21-6e58bfa71b36>\"\u001b[1;36m, line \u001b[1;32m4\u001b[0m\n\u001b[1;33m    try = 3\u001b[0m\n\u001b[1;37m        ^\u001b[0m\n\u001b[1;31mSyntaxError\u001b[0m\u001b[1;31m:\u001b[0m invalid syntax\n"
     ]
    }
   ],
   "source": [
    "# Reserved Words \n",
    "\n",
    "trial = 2\n",
    "try = 3\n",
    "\n",
    "# Note: The error below explains what the error is, and where exactly it is located.\n",
    "# Line 7, pointing at the =, what the error is"
   ]
  },
  {
   "cell_type": "code",
   "execution_count": 22,
   "metadata": {
    "slideshow": {
     "slide_type": "fragment"
    }
   },
   "outputs": [
    {
     "ename": "TypeError",
     "evalue": "'list' object is not callable",
     "output_type": "error",
     "traceback": [
      "\u001b[1;31m---------------------------------------------------------------------------\u001b[0m",
      "\u001b[1;31mTypeError\u001b[0m                                 Traceback (most recent call last)",
      "\u001b[1;32m<ipython-input-22-3b3d24903ed4>\u001b[0m in \u001b[0;36m<module>\u001b[1;34m\u001b[0m\n\u001b[0;32m      1\u001b[0m \u001b[0mlist\u001b[0m \u001b[1;33m=\u001b[0m \u001b[1;33m[\u001b[0m\u001b[1;36m1\u001b[0m\u001b[1;33m,\u001b[0m \u001b[1;36m2\u001b[0m\u001b[1;33m,\u001b[0m \u001b[1;36m3\u001b[0m\u001b[1;33m]\u001b[0m \u001b[1;31m# Note the color of \"list\" - Python recognizes this but you are redefining it!\u001b[0m\u001b[1;33m\u001b[0m\u001b[1;33m\u001b[0m\u001b[0m\n\u001b[0;32m      2\u001b[0m \u001b[1;33m\u001b[0m\u001b[0m\n\u001b[1;32m----> 3\u001b[1;33m \u001b[0mlist\u001b[0m\u001b[1;33m(\u001b[0m\u001b[1;33m(\u001b[0m\u001b[1;36m10\u001b[0m\u001b[1;33m,\u001b[0m \u001b[1;36m20\u001b[0m\u001b[1;33m,\u001b[0m \u001b[1;36m30\u001b[0m\u001b[1;33m)\u001b[0m\u001b[1;33m)\u001b[0m \u001b[1;31m# The in-built function will no longer work\u001b[0m\u001b[1;33m\u001b[0m\u001b[1;33m\u001b[0m\u001b[0m\n\u001b[0m",
      "\u001b[1;31mTypeError\u001b[0m: 'list' object is not callable"
     ]
    }
   ],
   "source": [
    "list = [1, 2, 3] # Note the color of \"list\" - Python recognizes this but you are redefining it!\n",
    "\n",
    "list((10, 20, 30)) # The in-built function will no longer work"
   ]
  },
  {
   "cell_type": "markdown",
   "metadata": {
    "slideshow": {
     "slide_type": "-"
    }
   },
   "source": [
    "If you accidentally redefine a reserved work **DON'T PANIC!**\n",
    "You can restart the kernel (*kernel > restart*) and this will reset everything.\n",
    "Note that you will need to rerun your code.\n",
    "\n",
    "#### Explaining the code above:\n",
    "\n",
    "We can use the list function (```list()```) or square brackets to create (define) a list.\n",
    "\n",
    "```python\n",
    "this_is_a_list = list(\"dr\", \"sian\", \"brooke\")\n",
    "this_is_also_a_list = [\"dr\", \"sian\", \"brooke\"]\n",
    "\n",
    "```\n",
    "Round brackets are used to define a **tuple**, which is a collection of objects which *ordered* and *immutable* (unchangeable). So in the code above we were converting a tuple into a list.\n",
    "\n",
    "```python\n",
    "this_is_a_tuple = (10, 20, 30)\n",
    "this_is_now_a_list = list((10, 20,30))\n",
    "```"
   ]
  },
  {
   "cell_type": "markdown",
   "metadata": {
    "slideshow": {
     "slide_type": "slide"
    }
   },
   "source": [
    "## Summary :Best Practice\n",
    "\n",
    "* 📖 Use **`UPPERCASE_WITH_UNDERSCORES`** for constants, like passwords or secret keys\n",
    "* 📖 Use **`lowercase_with_underscore`** for variable names, functions, and methods\n",
    "* 📖 Use **`UpperCamelCase`** for classes (coming in Week 5!) "
   ]
  },
  {
   "cell_type": "markdown",
   "metadata": {
    "slideshow": {
     "slide_type": "slide"
    }
   },
   "source": [
    "## Resources\n",
    "\n",
    "In addition to the Python resources online, you can query any object to get help on what methods are available.\n",
    "\n",
    "We saw a snapshot of this earlier when looking at the keywords/reserved words."
   ]
  },
  {
   "cell_type": "code",
   "execution_count": 26,
   "metadata": {
    "slideshow": {
     "slide_type": "-"
    }
   },
   "outputs": [
    {
     "name": "stdout",
     "output_type": "stream",
     "text": [
      "Help on method_descriptor:\n",
      "\n",
      "popitem(self, /)\n",
      "    Remove and return a (key, value) pair as a 2-tuple.\n",
      "    \n",
      "    Pairs are returned in LIFO (last-in, first-out) order.\n",
      "    Raises KeyError if the dict is empty.\n",
      "\n"
     ]
    }
   ],
   "source": [
    "dir(dict)\n",
    "\n",
    "help(dict.popitem)"
   ]
  },
  {
   "cell_type": "markdown",
   "metadata": {
    "slideshow": {
     "slide_type": "slide"
    }
   },
   "source": [
    "# Strings\n",
    "\n",
    "* Ordered sequences of characters\n",
    "* Immutable (Unchangeable)\n",
    "* Changing what a variable points at, is not the same as changing the mutating the string."
   ]
  },
  {
   "cell_type": "code",
   "execution_count": 2,
   "metadata": {
    "slideshow": {
     "slide_type": "slide"
    }
   },
   "outputs": [],
   "source": [
    "# In Python, single-quoted strings and double-quoted strings are the same. \n",
    "# This PEP does not make a recommendation for this. Pick a rule and stick to it. \n",
    "# When a string contains single or double quote characters, \n",
    "# however, use the other one to avoid backslashes in the string. It improves readability.\n",
    "\n",
    "x = \"my string\""
   ]
  },
  {
   "cell_type": "code",
   "execution_count": 3,
   "metadata": {
    "slideshow": {
     "slide_type": "slide"
    }
   },
   "outputs": [
    {
     "name": "stdout",
     "output_type": "stream",
     "text": [
      "My string\n",
      "s\n",
      "g\n",
      "My s\n",
      "y strin\n"
     ]
    }
   ],
   "source": [
    "# Capitalises the first character (chr) of the string\n",
    "x = x.capitalize()\n",
    "\n",
    "# prints the string (Note that it is capitalised because of the line above)\n",
    "print(x)\n",
    "\n",
    "# prints the chr at index 3\n",
    "# NOTE: python starts counting from 0\n",
    "print(x[3])\n",
    "\n",
    "# prints the last chr \n",
    "# Minus starts from opposite end\n",
    "print(x[-1])\n",
    "\n",
    "# print a range \n",
    "# NOTE: not inclusive of the last index, 4 chrs because python starts at 0\n",
    "# so prints \"M\", \"y\", \" \", \"s\" (including whitespace)\n",
    "print(x[0:4])\n",
    "\n",
    "# Index one to the last index (minus reverse)\n",
    "# Again, not inclusive\n",
    "print(x[1:-1])"
   ]
  },
  {
   "cell_type": "code",
   "execution_count": 4,
   "metadata": {
    "slideshow": {
     "slide_type": "slide"
    }
   },
   "outputs": [
    {
     "name": "stdout",
     "output_type": "stream",
     "text": [
      "M tig\n",
      "git M\n"
     ]
    },
    {
     "data": {
      "text/plain": [
       "'My string'"
      ]
     },
     "execution_count": 4,
     "metadata": {},
     "output_type": "execute_result"
    }
   ],
   "source": [
    "# EXTENDED SLICING\n",
    "\n",
    "# We can use slicing to get each item at certain steps.\n",
    "# The syntax is: [start : stop : step]\n",
    "\n",
    "# Get every other (2) item in the string.\n",
    "# size of the step\n",
    "print(x[::2])\n",
    "\n",
    "# Reverse steps (steping backwards), every other chr\n",
    "print(x[::-2])\n",
    "\n"
   ]
  },
  {
   "cell_type": "markdown",
   "metadata": {
    "slideshow": {
     "slide_type": "slide"
    }
   },
   "source": [
    "## Exercises\n",
    "\n",
    "You have 5 minutes to work through two string exercises."
   ]
  },
  {
   "cell_type": "code",
   "execution_count": 2,
   "metadata": {
    "slideshow": {
     "slide_type": "slide"
    }
   },
   "outputs": [],
   "source": [
    "# Exercise 1: Make three new strings from the first and last, \n",
    "# second and second to last, and third and third to last letters \n",
    "# in the string below. Print the three strings.\n",
    "\n",
    "p = 'redder'"
   ]
  },
  {
   "cell_type": "code",
   "execution_count": 3,
   "metadata": {
    "slideshow": {
     "slide_type": "slide"
    }
   },
   "outputs": [],
   "source": [
    "# Exercise 2: Make a new string that is the same as string1 but \n",
    "# with the 8th and 22nd characters missing.\n",
    "\n",
    "string1 = 'I cancelled my travelling plans.'"
   ]
  },
  {
   "cell_type": "markdown",
   "metadata": {
    "slideshow": {
     "slide_type": "slide"
    }
   },
   "source": [
    "## String Methods\n",
    "\n",
    "* `S.upper()`\n",
    "* `S.lower()`\n",
    "* `S.capitalize()`\n",
    "* `S.find(S1)`\n",
    "* `S.replace(S1, S2)`\n",
    "* `S.strip(S1)`\n",
    "* `S.split(S1)`\n",
    "* `S.join(L)`"
   ]
  },
  {
   "cell_type": "markdown",
   "metadata": {
    "slideshow": {
     "slide_type": "slide"
    }
   },
   "source": [
    "## Methods Can Be \"Stringed\"\n",
    "\n",
    "A \"method\" is a function that is available for a given object because of the object's type. For example, can capitalise a string, but we can't capitalise a number - so ```capitalize``` is a method for strings\n",
    "\n",
    "When we talk about stringing methods together, this means literally *joining* methods, not just for strings.\n",
    "\n",
    "`sls = s.strip().replace('  ', ' ').upper().split()`\n",
    "\n",
    "However, be aware that this may reduce the clarity of your code. \n",
    "\n",
    "📖 It is largely a question of code legibility. \n",
    "\n",
    "⚡️ Except when you are working with large data — it is then also a question of memory and efficiency."
   ]
  },
  {
   "cell_type": "markdown",
   "metadata": {
    "slideshow": {
     "slide_type": "slide"
    }
   },
   "source": [
    "## Exercises\n",
    "\n",
    "You have 10 minutes to work through three string method exercises."
   ]
  },
  {
   "cell_type": "code",
   "execution_count": 34,
   "metadata": {
    "scrolled": true,
    "slideshow": {
     "slide_type": "slide"
    }
   },
   "outputs": [],
   "source": [
    "# Exercise 3: Remove the trailing white space in the string below, \n",
    "# replace all double spaces with single space, and format to a sentence \n",
    "# with proper punctuation. Print the resulting string.\n",
    "\n",
    "string1 = '  this  is a very badly.  formatted string -  I would  like to make it cleaner\\n'\n"
   ]
  },
  {
   "cell_type": "code",
   "execution_count": 6,
   "metadata": {
    "slideshow": {
     "slide_type": "slide"
    }
   },
   "outputs": [],
   "source": [
    "# Exercise 4: Convert the string below to a list\n",
    "\n",
    "s = \"['apple', 'orange', 'pear', 'cherry']\"\n"
   ]
  },
  {
   "cell_type": "code",
   "execution_count": 7,
   "metadata": {
    "slideshow": {
     "slide_type": "slide"
    }
   },
   "outputs": [],
   "source": [
    "# Exercise 5: Reverse the strings below.\n",
    "\n",
    "s1 = 'stressed'\n",
    "s2 = 'drawer'"
   ]
  },
  {
   "cell_type": "markdown",
   "metadata": {
    "slideshow": {
     "slide_type": "slide"
    }
   },
   "source": [
    "# Lists\n",
    "\n",
    "* Ordered sequence of values\n",
    "* Mutable"
   ]
  },
  {
   "cell_type": "code",
   "execution_count": 35,
   "metadata": {
    "slideshow": {
     "slide_type": "slide"
    }
   },
   "outputs": [
    {
     "name": "stdout",
     "output_type": "stream",
     "text": [
      "[1, 2, 3, 4, 5]\n"
     ]
    }
   ],
   "source": [
    "mylist = [1, 2, 3, 4]\n",
    "\n",
    "# Append can be used to add a number to the end of a string\n",
    "mylist.append(5)\n",
    "print(mylist)"
   ]
  },
  {
   "cell_type": "markdown",
   "metadata": {
    "slideshow": {
     "slide_type": "slide"
    }
   },
   "source": [
    "## List Methods\n",
    "\n",
    "* `L.append(e)`\n",
    "* `L.extend(L1)`\n",
    "* `L.insert(i, e)`\n",
    "* `L.remove(e)`\n",
    "* `L.pop(i)`\n",
    "* `L.sort()`\n",
    "* `L.reverse()`"
   ]
  },
  {
   "cell_type": "markdown",
   "metadata": {
    "slideshow": {
     "slide_type": "slide"
    }
   },
   "source": [
    "## Exercises\n",
    "\n",
    "You have 15 minutes to work through twelve exercises.\n",
    "\n",
    "Remember, that if you want to see what a method does, you can use the ```help``` function."
   ]
  },
  {
   "cell_type": "code",
   "execution_count": 39,
   "metadata": {
    "slideshow": {
     "slide_type": "fragment"
    }
   },
   "outputs": [
    {
     "name": "stdout",
     "output_type": "stream",
     "text": [
      "Help on built-in function append:\n",
      "\n",
      "append(object, /) method of builtins.list instance\n",
      "    Append object to the end of the list.\n",
      "\n"
     ]
    }
   ],
   "source": [
    "# Use help to get more information on list methods.\n",
    "help(list.append)"
   ]
  },
  {
   "cell_type": "code",
   "execution_count": 32,
   "metadata": {
    "slideshow": {
     "slide_type": "slide"
    }
   },
   "outputs": [],
   "source": [
    "# Exercise 6: Use a list operation to create a list of ten elements, \n",
    "# each of which is '*'\n",
    "\n"
   ]
  },
  {
   "cell_type": "code",
   "execution_count": 2,
   "metadata": {
    "slideshow": {
     "slide_type": "-"
    }
   },
   "outputs": [],
   "source": [
    "# Exercise 7: Assign each of the three elements in the list below \n",
    "# to three variables a, b, c\n",
    "ls = [['dogs', 'cows', 'rabbits', 'cats'], 'eat', {'meat', 'grass'}]\n"
   ]
  },
  {
   "cell_type": "code",
   "execution_count": 1,
   "metadata": {
    "slideshow": {
     "slide_type": "-"
    }
   },
   "outputs": [],
   "source": [
    "# Exercise 8: Replace the last element in ls1 with ls2\n",
    "ls1 = [0, 0, 0, 1]\n",
    "ls2 = [1, 2, 3]"
   ]
  },
  {
   "cell_type": "code",
   "execution_count": 12,
   "metadata": {
    "slideshow": {
     "slide_type": "slide"
    }
   },
   "outputs": [],
   "source": [
    "# Exercise 9: Create a new list that contains only unique elements from list x\n",
    "\n",
    "x = [1, 5, 4, 5, 6, 2, 3, 2, 9, 9, 9, 0, 2, 5, 7]\n"
   ]
  },
  {
   "cell_type": "code",
   "execution_count": 21,
   "metadata": {
    "slideshow": {
     "slide_type": "-"
    }
   },
   "outputs": [],
   "source": [
    "# Exercise 10: Print the elements that occur both in list a and list b\n",
    "\n",
    "a = ['red', 'orange', 'brown', 'blue', 'purple', 'green']\n",
    "b = ['blue', 'cyan', 'green', 'pink', 'red', 'yellow']"
   ]
  },
  {
   "cell_type": "code",
   "execution_count": 14,
   "metadata": {
    "slideshow": {
     "slide_type": "-"
    }
   },
   "outputs": [],
   "source": [
    "# Exercise 11: Print the second smallest and the second largest numbers \n",
    "# in this list of unique numbers\n",
    "\n",
    "x = [2, 5, 0.7, 0.2, 0.1, 6, 7, 3, 1, 0, 0.3]\n"
   ]
  },
  {
   "cell_type": "code",
   "execution_count": 15,
   "metadata": {
    "slideshow": {
     "slide_type": "-"
    }
   },
   "outputs": [],
   "source": [
    "# Exercise 12: Create a new list c that contains the elements of \n",
    "# list a and b. Watch out for aliasing - you need to avoid it here.\n",
    "\n",
    "a = [1, 2, 3, 4, 5]\n",
    "b = ['a', 'b', 'c', 'd']\n"
   ]
  },
  {
   "cell_type": "markdown",
   "metadata": {
    "slideshow": {
     "slide_type": "slide"
    }
   },
   "source": [
    "## Week 2 Assignment (SUMMATIVE)\n",
    "\n",
    "* Practice string and list manipulations\n",
    "* Practice working with data"
   ]
  }
 ],
 "metadata": {
  "celltoolbar": "Slideshow",
  "kernelspec": {
   "display_name": "Python 3",
   "language": "python",
   "name": "python3"
  },
  "language_info": {
   "codemirror_mode": {
    "name": "ipython",
    "version": 3
   },
   "file_extension": ".py",
   "mimetype": "text/x-python",
   "name": "python",
   "nbconvert_exporter": "python",
   "pygments_lexer": "ipython3",
   "version": "3.8.8"
  }
 },
 "nbformat": 4,
 "nbformat_minor": 2
}
