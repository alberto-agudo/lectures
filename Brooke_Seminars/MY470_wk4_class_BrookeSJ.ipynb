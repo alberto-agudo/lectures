{
 "cells": [
  {
   "cell_type": "markdown",
   "metadata": {
    "slideshow": {
     "slide_type": "slide"
    }
   },
   "source": [
    "### MY470 Computer Programming\n",
    "# Writing and Calling Functions in Python\n",
    "### Week 4 Lab"
   ]
  },
  {
   "cell_type": "markdown",
   "metadata": {
    "slideshow": {
     "slide_type": "slide"
    }
   },
   "source": [
    "## Defining and Calling Functions\n",
    "\n",
    "A **function** is a block of code which only runs when it is called. You can pass data, known as parameters, into a function. We have used a lot of functions already, including: ```print()```, ```sum()```, ```len()```.\n",
    "\n",
    "The code below is abstract, this means that you replace the text between the \"\\*\" with the relevant code.\n",
    "\n",
    "**Parameters** are the variable listed inside the parentheses in the function definition. An **argument** is the value that is sent to the function when it is called.\n",
    "\n",
    "### Defining a function\n",
    "\n",
    "``` \n",
    "def *function_name*(*list of parameters*):\n",
    "    *body of function*\n",
    "```\n",
    "\n",
    "### Calling a function\n",
    "\n",
    "```\n",
    "*function_name*(*arguments*)\n",
    "```\n",
    "\n",
    "### Functions can take 0 or more arguments and return 1 or more values!\n",
    "\n",
    "### If a function does not have `return` statement, it returns `None`"
   ]
  },
  {
   "cell_type": "markdown",
   "metadata": {
    "slideshow": {
     "slide_type": "slide"
    }
   },
   "source": [
    "## Functions Take Arguments by Reference\n",
    "\n",
    "Python functions can contain two types of arguments: positional arguments and keyword arguments. \n",
    "\n",
    "Positional arguments must be included in the correct order.\n",
    "\n",
    "```python\n",
    "a = (1, 2, 3, 4, 5)\n",
    "\n",
    "# a is a positional argument\n",
    "# start is a keyword argument\n",
    "x = sum(a, start=7)\n",
    "\n",
    "# We can also use start as a positional arguement\n",
    "x = sum(a, 7)\n",
    "```\n",
    "\n",
    "However, if wanted to use additional opentional argument then you can use keywords."
   ]
  },
  {
   "cell_type": "code",
   "execution_count": 1,
   "metadata": {
    "slideshow": {
     "slide_type": "-"
    }
   },
   "outputs": [
    {
     "name": "stdout",
     "output_type": "stream",
     "text": [
      "[1, 2, 3, 0]\n"
     ]
    }
   ],
   "source": [
    "# This is the syntax to define our own\n",
    "def change_list(alist):\n",
    "    # Append a 0 to whatever list is passed\n",
    "    # as a arguement to our function.\n",
    "    alist.append(0)\n",
    "\n",
    "mylist = [1, 2, 3]\n",
    "\n",
    "# Call our function\n",
    "change_list(mylist)\n",
    "\n",
    "# A 0 has been appended to the list.\n",
    "print(mylist)"
   ]
  },
  {
   "cell_type": "code",
   "execution_count": 5,
   "metadata": {
    "scrolled": true,
    "slideshow": {
     "slide_type": "fragment"
    }
   },
   "outputs": [
    {
     "name": "stdout",
     "output_type": "stream",
     "text": [
      "[1, 2, 3]\n"
     ]
    }
   ],
   "source": [
    "# Exercise 1: Why isn't this code working?\n",
    "\n",
    "def zero_list(alist):\n",
    "    \"\"\"Takes a list and returns another list of the same length \n",
    "    that looks like [0, 0, 0, ...].\n",
    "    \"\"\"\n",
    "    alist = [0]*len(alist)  # Creates a new local reference for alist\n",
    "\n",
    "mylist = [1, 2, 3]\n",
    "zero_list(mylist)\n",
    "print(mylist)"
   ]
  },
  {
   "cell_type": "code",
   "execution_count": 3,
   "metadata": {
    "collapsed": true,
    "slideshow": {
     "slide_type": "fragment"
    }
   },
   "outputs": [],
   "source": [
    "# Exercise 1: Rewrite the function definition  and call above \n",
    "# to accomplish what the function intends to do.\n",
    "\n",
    "# HINT: Two things to make the function work and do what the docstring says.\n"
   ]
  },
  {
   "cell_type": "markdown",
   "metadata": {},
   "source": [
    "### Return Statement\n",
    "\n",
    "In python you can use ```return``` inside a function or method to send the function's result back to the caller. A return statement consists of the return keyword followed by an optional return value.\n",
    "\n",
    "An **explicit return statement** immediately terminates a function execution and sends the return value back to the caller code. To add an explicit return statement to a Python function, you need to use return followed by an optional return value.\n",
    "\n",
    "```python\n",
    "def return_42():\n",
    "    return 42  # An explicit return statement\n",
    "\n",
    "# Output:\n",
    "return_42()  # The caller code gets 42\n",
    "42\n",
    "```\n",
    "If you define a function with an explicit return statement that has an explicit return value, then you can use that return value in any expression.\n",
    "\n",
    "```python\n",
    "new_num = return_42() + 8\n",
    "\n",
    "# Output\n",
    "new_num\n",
    "50\n",
    "```\n",
    "Note that you can use a return statement only inside a function or method definition. If you use it anywhere else, then you’ll get a ```SyntaxError```\n",
    "\n",
    "If you don’t explicitly use a return value in a return statement, or if you totally omit the return statement, then Python will implicitly return a default value for you. That default return value will always be ```None```."
   ]
  },
  {
   "cell_type": "markdown",
   "metadata": {
    "slideshow": {
     "slide_type": "slide"
    }
   },
   "source": [
    "## Using Docstrings (String Literals) to Specify Functions\n",
    "\n",
    "In programming, a docstring is a string literal specified in source code that is used, like a comment, to document a specific segment of code.\n",
    "\n",
    "A string literal or anonymous string is a type of literal in programming for the representation of a string value within the source code of a computer program. it is represented with ```\"\"\"```\n",
    "\n",
    "This means that when we use ```help()``` on our function, we see the information - Like below.\n",
    "\n",
    "In the docstring we have \n",
    "* The general purpose of the function\n",
    "* The parameters and assumptions (inputs and datatypes)\n",
    "* What the function returns / outputs"
   ]
  },
  {
   "cell_type": "code",
   "execution_count": 7,
   "metadata": {
    "scrolled": true,
    "slideshow": {
     "slide_type": "-"
    }
   },
   "outputs": [
    {
     "name": "stdout",
     "output_type": "stream",
     "text": [
      "Help on function f in module __main__:\n",
      "\n",
      "f(x, y)\n",
      "    Demonstrates the importance of providing specification for functions.\n",
      "    Assumes x and y any type.\n",
      "    Returns nothing.\n",
      "\n"
     ]
    }
   ],
   "source": [
    "def f(x, y):\n",
    "    \"\"\"Demonstrates the importance of providing specification for functions.\n",
    "    Assumes x and y any type.\n",
    "    Returns nothing.\n",
    "    \"\"\"\n",
    "    pass\n",
    "\n",
    "help(f)"
   ]
  },
  {
   "cell_type": "markdown",
   "metadata": {
    "slideshow": {
     "slide_type": "fragment"
    }
   },
   "source": [
    "![Commenting](figs/commenting.jpg \"Commenting\")"
   ]
  },
  {
   "cell_type": "markdown",
   "metadata": {
    "slideshow": {
     "slide_type": "slide"
    }
   },
   "source": [
    "## Using Functions Instead of Copy-Pasting Code\n",
    "\n",
    "If you are repeating lines of code, this is when you should use a function."
   ]
  },
  {
   "cell_type": "code",
   "execution_count": 5,
   "metadata": {
    "slideshow": {
     "slide_type": "-"
    }
   },
   "outputs": [
    {
     "name": "stdout",
     "output_type": "stream",
     "text": [
      "Alan Turing was a mathematician.\n",
      "Richard Feynman was a physicist.\n",
      "Marie Curie was a chemist.\n",
      "Charles Darwin was a biologist.\n",
      "Ada Lovelace was a mathematician.\n",
      "Werner Heisenberg was a physicist.\n"
     ]
    }
   ],
   "source": [
    "# Consider the following code:\n",
    "\n",
    "# Print the name and profession of famous dead scientists:\n",
    "print('Alan Turing was a mathematician.')\n",
    "print('Richard Feynman was a physicist.')\n",
    "print('Marie Curie was a chemist.')\n",
    "print('Charles Darwin was a biologist.')\n",
    "print('Ada Lovelace was a mathematician.')\n",
    "print('Werner Heisenberg was a physicist.')"
   ]
  },
  {
   "cell_type": "code",
   "execution_count": 6,
   "metadata": {
    "collapsed": true,
    "slideshow": {
     "slide_type": "-"
    }
   },
   "outputs": [],
   "source": [
    "# Exercise 2: Rewrite the code using a function and a suitable data structure.\n"
   ]
  },
  {
   "cell_type": "markdown",
   "metadata": {
    "slideshow": {
     "slide_type": "slide"
    }
   },
   "source": [
    "## Using Functions to Improve Legibility and Modularity\n",
    "\n",
    "**Legibility:**\n",
    "The ease with which the software is read and understood. Making software more readable helps in reviewing and maintaining it over the course of its life. \n",
    "\n",
    "**Modularity:**\n",
    "The process of subdividing a computer program into separate sub-programs. We create parcels of code in functions that each do seperate, small tasks."
   ]
  },
  {
   "cell_type": "code",
   "execution_count": 8,
   "metadata": {
    "slideshow": {
     "slide_type": "-"
    }
   },
   "outputs": [
    {
     "name": "stdout",
     "output_type": "stream",
     "text": [
      "8.860022573334675\n"
     ]
    }
   ],
   "source": [
    "# Consider the following code:\n",
    "\n",
    "# You are given two points in 2-D space\n",
    "x = (1, 1)\n",
    "y = (5, 4)\n",
    "\n",
    "# Calculate the area of the circle if one of the points is the circle center \n",
    "# and the other is on the perimeter and then calculate the side of the square \n",
    "# with the same area\n",
    "r_sq = (x[0] - y[0])**2 + (x[1] - y[1])**2\n",
    "area = 3.14*r_sq\n",
    "sq_side = area**0.5\n",
    "print(sq_side)\n"
   ]
  },
  {
   "cell_type": "code",
   "execution_count": 9,
   "metadata": {
    "collapsed": true,
    "slideshow": {
     "slide_type": "-"
    }
   },
   "outputs": [],
   "source": [
    "# Exercise 3: Rewrite the code above using functions \n",
    "# to make it easier to read.\n",
    "\n"
   ]
  },
  {
   "cell_type": "markdown",
   "metadata": {
    "slideshow": {
     "slide_type": "slide"
    }
   },
   "source": [
    "## Using Functions Inside List Comprehensions\n",
    "\n",
    "We can use any expression inside the list comprehension, including functions and methods. \n",
    "\n",
    "Any function without return value, returns None per default.\n",
    "\n",
    "Remember that the syntax of a list comprehension is:\n",
    "\n",
    "```\n",
    "[expression for item in list]\n",
    "\n",
    "```\n",
    "\n",
    "But, we use our user-defined function in the expression."
   ]
  },
  {
   "cell_type": "code",
   "execution_count": 8,
   "metadata": {
    "slideshow": {
     "slide_type": "-"
    }
   },
   "outputs": [
    {
     "name": "stdout",
     "output_type": "stream",
     "text": [
      "[25, 16, 9, 4, 1, 0.0, 1.0, 1.4142135623730951, 1.7320508075688772, 2.0, 2.23606797749979]\n"
     ]
    }
   ],
   "source": [
    "# Defining our function with conditionals\n",
    "def sq_or_sqrt(x):\n",
    "    \"\"\"Assumes x is numeric. Returns the square of x if x is negative\n",
    "    and the square root of x if x is nonnegative.\n",
    "    \"\"\"\n",
    "    if x < 0:\n",
    "        return x**2\n",
    "    else:\n",
    "        return x**0.5\n",
    "\n",
    "# Run our function on each item in a list of -5 to 5\n",
    "lst = [sq_or_sqrt(i) for i in range(-5, 6)]\n",
    "print(lst)\n"
   ]
  },
  {
   "cell_type": "code",
   "execution_count": 11,
   "metadata": {
    "collapsed": true,
    "slideshow": {
     "slide_type": "-"
    }
   },
   "outputs": [],
   "source": [
    "# Exercise 4: Using a function and a list comprehension, \n",
    "# create a new list that has the numbers from testlist \n",
    "# if they are positive and None otherwise\n",
    "\n",
    "testlist = [-1, 0, 2, 178, -17.2, 12, -2, -3, 12]\n",
    "\n"
   ]
  },
  {
   "cell_type": "code",
   "execution_count": 12,
   "metadata": {
    "collapsed": true,
    "slideshow": {
     "slide_type": "-"
    }
   },
   "outputs": [],
   "source": [
    "# Exercise 5: Using a function and a list comprehension, create \n",
    "# a new list that includes the result from dividing each number \n",
    "# from testlist1 by the corresponding number in testlist2; \n",
    "# For the cases when the divisor is 0, the new list should include None\n",
    "\n",
    "testlist1 = [-1, 0, 2, 178, -17.2, 12, -2, -3, 12]\n",
    "testlist2 = [0, 5, 0, 2, 12, 0.5, 0, 0.25, 0]\n",
    "\n"
   ]
  },
  {
   "cell_type": "markdown",
   "metadata": {
    "slideshow": {
     "slide_type": "slide"
    }
   },
   "source": [
    "## Using Functions For General Cases"
   ]
  },
  {
   "cell_type": "code",
   "execution_count": 7,
   "metadata": {
    "collapsed": true,
    "slideshow": {
     "slide_type": "-"
    }
   },
   "outputs": [],
   "source": [
    "# Exercise 6: Write a Python function that checks if a string \n",
    "# is a palindrome. A palindrome is a word or a phrase that reads \n",
    "# the same backward as forward. For example, redder, nurses run, dad...\n",
    "\n"
   ]
  },
  {
   "cell_type": "markdown",
   "metadata": {},
   "source": [
    "# Key Terminology for the Assignment\n",
    "\n",
    "\n",
    "**K-means Clustering:** A type of unsupervised learning, which is used when you have unlabeled data (i.e., data without defined categories or groups). The goal of this algorithm is to find groups in the data, with the number of groups represented by the variable K. Data points are clustered based on feature similarity. \n",
    "*Video visually explaining how k-means works: https://www.youtube.com/watch?v=4b5d3muPQmA*\n",
    "\n",
    "**Coordinates:** In the assignment, the coordinates are each number in thge list. n-coordinates is number of cooridinates in the list. A list of coordinates is the \"point\", mapping it onto a 3D anxis (x, y, z).\n",
    "\n",
    "**Iterating:** Iteration in programming means repeating steps, or instructions , over and over again. This is often called a 'loop'.\n",
    "\n",
    "**Cluster:** A group of points.\n",
    "\n",
    "**Centeroid:** The arithmetic mean position of all the points in the figure. So we take the mean of the coordinate at the same index in the points.\n",
    "\n",
    "**Converges:** The idea that different sequences of transformations come to a conclusion in a finite amount of time.\n",
    "\n",
    "**Naive method:** An implementation that has taken shortcuts for the sake of simplicity or by lack of knowledge. It will not take account for all the possible uses cases or don't try to fit in every situation.\n",
    "\n",
    "**Euclidean Distance:**  The plane or 3-dimensional space measures the length of a segment connecting the two points. You can find the formula on the Wikipedia page.\n",
    "\n",
    "**Dimensions:** The measure of the size or distance of an object in one direction. The number of coordinates in the exercises is the number of dimensions.\n",
    "\n",
    "\n",
    "\n",
    "***HINT:*** In the final problem, the comment blocks are the steps that you need to take and a way to break down your approach to the exercise.\n",
    "\n"
   ]
  }
 ],
 "metadata": {
  "celltoolbar": "Slideshow",
  "kernelspec": {
   "display_name": "Python 3",
   "language": "python",
   "name": "python3"
  },
  "language_info": {
   "codemirror_mode": {
    "name": "ipython",
    "version": 3
   },
   "file_extension": ".py",
   "mimetype": "text/x-python",
   "name": "python",
   "nbconvert_exporter": "python",
   "pygments_lexer": "ipython3",
   "version": "3.8.8"
  }
 },
 "nbformat": 4,
 "nbformat_minor": 2
}
